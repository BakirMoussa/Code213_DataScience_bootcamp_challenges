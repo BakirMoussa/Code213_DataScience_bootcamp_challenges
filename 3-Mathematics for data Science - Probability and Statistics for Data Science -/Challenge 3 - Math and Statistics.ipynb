{
  "nbformat": 4,
  "nbformat_minor": 0,
  "metadata": {
    "colab": {
      "provenance": []
    },
    "kernelspec": {
      "name": "python3",
      "display_name": "Python 3"
    },
    "language_info": {
      "name": "python"
    }
  },
  "cells": [
    {
      "cell_type": "code",
      "source": [
        "# definition fo weather_data_analysis that takes a file path as an argumet and return weather analysis\n",
        "def weather_data_analysis(file_path):\n",
        "\n",
        "  dates=[]\n",
        "  max_temps=[]\n",
        "  min_temps=[]\n",
        "  precipitations=[]\n",
        "\n",
        "  with open(file_path, 'r') as file:\n",
        "    lines=file.readlines()\n",
        "\n",
        "  for line in lines:\n",
        "    date, max_temp, min_temp, precipitation=line.strip().split(',')\n",
        "\n",
        "    dates.append(date)\n",
        "    max_temps.append(float(max_temp))\n",
        "    min_temps.append(float(min_temp))\n",
        "    precipitations.append(float(precipitation))\n",
        "\n",
        "  average_max_temp = sum(max_temps)/len(max_temps)\n",
        "  average_min_temp = sum(min_temps)/len(min_temps)\n",
        "  total_precipitations = sum(precipitations)\n",
        "  highsest_temp = max(max_temps)\n",
        "  lowest_temp = min(min_temps)\n",
        "\n",
        "  print(f\"average max temp: {average_max_temp}\")\n",
        "  print(f\"average min temp: {average_min_temp}\")\n",
        "  print(f\"total precipitations: {total_precipitations}\")\n",
        "  print(f\"highsest temp: {highsest_temp}\")\n",
        "  print(f\"lowest temp: {lowest_temp}\")\n",
        "  print(dates)\n",
        "  riany_days = 0\n",
        "  for precipitation in precipitations:\n",
        "    if precipitation > 0:\n",
        "      riany_days += 1\n",
        "  print(f\"riany days: {riany_days}\")\n",
        "\n",
        "#Call weather_data_analysis() function\n",
        "path = 'weather_data.txt'\n",
        "weather_data_analysis(path)"
      ],
      "metadata": {
        "colab": {
          "base_uri": "https://localhost:8080/"
        },
        "id": "KAuChC5vVWQx",
        "outputId": "a1caf1ac-8600-48f5-ef5b-df6f59060cc9"
      },
      "execution_count": 4,
      "outputs": [
        {
          "output_type": "stream",
          "name": "stdout",
          "text": [
            "average max temp: 15.2\n",
            "average min temp: 5.1\n",
            "total precipitations: 9.8\n",
            "highsest temp: 19.0\n",
            "lowest temp: 1.0\n",
            "['2023-11-01', '2023-11-02', '2023-11-03', '2023-11-04', '2023-11-05', '2023-11-06', '2023-11-07', '2023-11-08', '2023-11-09', '2023-11-10']\n",
            "riany days: 8\n"
          ]
        }
      ]
    },
    {
      "cell_type": "code",
      "source": [],
      "metadata": {
        "id": "x53r73hOluGp"
      },
      "execution_count": null,
      "outputs": []
    }
  ]
}