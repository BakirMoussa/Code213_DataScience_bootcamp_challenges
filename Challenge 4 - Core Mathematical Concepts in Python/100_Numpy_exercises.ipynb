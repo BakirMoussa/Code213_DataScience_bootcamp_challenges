{
 "cells": [
  {
   "cell_type": "markdown",
   "id": "f44a2f2b",
   "metadata": {
    "id": "f44a2f2b"
   },
   "source": [
    "# 100 numpy exercises\n",
    "\n"
   ]
  },
  {
   "cell_type": "markdown",
   "id": "96443564",
   "metadata": {
    "id": "96443564"
   },
   "source": [
    "#### 1. Import the numpy package under the name `np` (★☆☆)"
   ]
  },
  {
   "cell_type": "code",
   "execution_count": 189,
   "id": "ffe1047e",
   "metadata": {
    "id": "ffe1047e"
   },
   "outputs": [],
   "source": [
    "import numpy as np"
   ]
  },
  {
   "cell_type": "markdown",
   "id": "c807bf1d",
   "metadata": {
    "id": "c807bf1d"
   },
   "source": [
    "#### 2. Print the numpy version and the configuration (★☆☆)"
   ]
  },
  {
   "cell_type": "code",
   "execution_count": 190,
   "id": "f396b717",
   "metadata": {
    "colab": {
     "base_uri": "https://localhost:8080/",
     "height": 35
    },
    "id": "f396b717",
    "outputId": "497a1b81-2620-4672-c731-2b7f59380742"
   },
   "outputs": [
    {
     "data": {
      "text/plain": [
       "'2.2.6'"
      ]
     },
     "execution_count": 190,
     "metadata": {},
     "output_type": "execute_result"
    }
   ],
   "source": [
    "np.__version__"
   ]
  },
  {
   "cell_type": "markdown",
   "id": "572c1bdb",
   "metadata": {
    "id": "572c1bdb"
   },
   "source": [
    "#### 3. Create a null vector of size 10 (★☆☆)"
   ]
  },
  {
   "cell_type": "code",
   "execution_count": 191,
   "id": "31c9f6a5",
   "metadata": {
    "colab": {
     "base_uri": "https://localhost:8080/"
    },
    "id": "31c9f6a5",
    "outputId": "cff7636b-4c53-4771-9ac9-60c2055fca03"
   },
   "outputs": [
    {
     "data": {
      "text/plain": [
       "array([0., 0., 0., 0., 0., 0., 0., 0., 0., 0.])"
      ]
     },
     "execution_count": 191,
     "metadata": {},
     "output_type": "execute_result"
    }
   ],
   "source": [
    "arr = np.zeros(10)\n",
    "arr"
   ]
  },
  {
   "cell_type": "markdown",
   "id": "337e6e36",
   "metadata": {
    "id": "337e6e36"
   },
   "source": [
    "#### 4. How to find the memory size of any array (★☆☆)"
   ]
  },
  {
   "cell_type": "code",
   "execution_count": 192,
   "id": "31e8ec2e",
   "metadata": {
    "colab": {
     "base_uri": "https://localhost:8080/"
    },
    "id": "31e8ec2e",
    "outputId": "614f8c74-7762-48be-9123-af2a40924a46"
   },
   "outputs": [
    {
     "name": "stdout",
     "output_type": "stream",
     "text": [
      "80 bytes\n"
     ]
    }
   ],
   "source": [
    "print(\"%d bytes\" %(arr.size * arr.itemsize))"
   ]
  },
  {
   "cell_type": "markdown",
   "id": "166079c8",
   "metadata": {
    "id": "166079c8"
   },
   "source": [
    "#### 5. How to get the documentation of the numpy add function from the command line? (★☆☆)"
   ]
  },
  {
   "cell_type": "code",
   "execution_count": 193,
   "id": "593cd80f",
   "metadata": {
    "colab": {
     "base_uri": "https://localhost:8080/"
    },
    "id": "593cd80f",
    "outputId": "a80e5a81-1d45-4b03-e3b9-99c3f21d3d10"
   },
   "outputs": [
    {
     "name": "stdout",
     "output_type": "stream",
     "text": [
      "add(x1, x2, /, out=None, *, where=True, casting='same_kind', order='K', dtype=None, subok=True[, signature])\n",
      "\n",
      "Add arguments element-wise.\n",
      "\n",
      "Parameters\n",
      "----------\n",
      "x1, x2 : array_like\n",
      "    The arrays to be added.\n",
      "    If ``x1.shape != x2.shape``, they must be broadcastable to a common\n",
      "    shape (which becomes the shape of the output).\n",
      "out : ndarray, None, or tuple of ndarray and None, optional\n",
      "    A location into which the result is stored. If provided, it must have\n",
      "    a shape that the inputs broadcast to. If not provided or None,\n",
      "    a freshly-allocated array is returned. A tuple (possible only as a\n",
      "    keyword argument) must have length equal to the number of outputs.\n",
      "where : array_like, optional\n",
      "    This condition is broadcast over the input. At locations where the\n",
      "    condition is True, the `out` array will be set to the ufunc result.\n",
      "    Elsewhere, the `out` array will retain its original value.\n",
      "    Note that if an uninitialized `out` array is created via the default\n",
      "    ``out=None``, locations within it where the condition is False will\n",
      "    remain uninitialized.\n",
      "**kwargs\n",
      "    For other keyword-only arguments, see the\n",
      "    :ref:`ufunc docs <ufuncs.kwargs>`.\n",
      "\n",
      "Returns\n",
      "-------\n",
      "add : ndarray or scalar\n",
      "    The sum of `x1` and `x2`, element-wise.\n",
      "    This is a scalar if both `x1` and `x2` are scalars.\n",
      "\n",
      "Notes\n",
      "-----\n",
      "Equivalent to `x1` + `x2` in terms of array broadcasting.\n",
      "\n",
      "Examples\n",
      "--------\n",
      ">>> import numpy as np\n",
      ">>> np.add(1.0, 4.0)\n",
      "5.0\n",
      ">>> x1 = np.arange(9.0).reshape((3, 3))\n",
      ">>> x2 = np.arange(3.0)\n",
      ">>> np.add(x1, x2)\n",
      "array([[  0.,   2.,   4.],\n",
      "       [  3.,   5.,   7.],\n",
      "       [  6.,   8.,  10.]])\n",
      "\n",
      "The ``+`` operator can be used as a shorthand for ``np.add`` on ndarrays.\n",
      "\n",
      ">>> x1 = np.arange(9.0).reshape((3, 3))\n",
      ">>> x2 = np.arange(3.0)\n",
      ">>> x1 + x2\n",
      "array([[ 0.,  2.,  4.],\n",
      "       [ 3.,  5.,  7.],\n",
      "       [ 6.,  8., 10.]])\n"
     ]
    }
   ],
   "source": [
    "np.info(np.add)"
   ]
  },
  {
   "cell_type": "markdown",
   "id": "3add7101",
   "metadata": {
    "id": "3add7101"
   },
   "source": [
    "#### 6. Create a null vector of size 10 but the fifth value which is 1 (★☆☆)"
   ]
  },
  {
   "cell_type": "code",
   "execution_count": 194,
   "id": "2edf3c42",
   "metadata": {
    "colab": {
     "base_uri": "https://localhost:8080/"
    },
    "id": "2edf3c42",
    "outputId": "a95bef3e-05fb-4b35-e47c-c8fe112aeea2"
   },
   "outputs": [
    {
     "data": {
      "text/plain": [
       "array([0., 0., 0., 0., 1., 0., 0., 0., 0., 0.])"
      ]
     },
     "execution_count": 194,
     "metadata": {},
     "output_type": "execute_result"
    }
   ],
   "source": [
    "arr=np.zeros(10)\n",
    "arr[4]=1\n",
    "arr"
   ]
  },
  {
   "cell_type": "markdown",
   "id": "cfc46304",
   "metadata": {
    "id": "cfc46304"
   },
   "source": [
    "#### 7. Create a vector with values ranging from 10 to 49 (★☆☆)"
   ]
  },
  {
   "cell_type": "code",
   "execution_count": 195,
   "id": "d8b86640",
   "metadata": {
    "colab": {
     "base_uri": "https://localhost:8080/"
    },
    "id": "d8b86640",
    "outputId": "e81bc770-cc0a-4006-d67e-e3fbe580f9d0"
   },
   "outputs": [
    {
     "data": {
      "text/plain": [
       "array([10, 11, 12, 13, 14, 15, 16, 17, 18, 19, 20, 21, 22, 23, 24, 25, 26,\n",
       "       27, 28, 29, 30, 31, 32, 33, 34, 35, 36, 37, 38, 39, 40, 41, 42, 43,\n",
       "       44, 45, 46, 47, 48, 49])"
      ]
     },
     "execution_count": 195,
     "metadata": {},
     "output_type": "execute_result"
    }
   ],
   "source": [
    "arr =np.arange(10,50)\n",
    "arr"
   ]
  },
  {
   "cell_type": "markdown",
   "id": "0cc200be",
   "metadata": {
    "id": "0cc200be"
   },
   "source": [
    "#### 8. Reverse a vector (first element becomes last) (★☆☆)"
   ]
  },
  {
   "cell_type": "code",
   "execution_count": 196,
   "id": "ec044bb5",
   "metadata": {
    "colab": {
     "base_uri": "https://localhost:8080/"
    },
    "id": "ec044bb5",
    "outputId": "09d33ff1-14dd-490a-f9f6-c137f0a394f2"
   },
   "outputs": [
    {
     "data": {
      "text/plain": [
       "array([49, 48, 47, 46, 45, 44, 43, 42, 41, 40, 39, 38, 37, 36, 35, 34, 33,\n",
       "       32, 31, 30, 29, 28, 27, 26, 25, 24, 23, 22, 21, 20, 19, 18, 17, 16,\n",
       "       15, 14, 13, 12, 11, 10])"
      ]
     },
     "execution_count": 196,
     "metadata": {},
     "output_type": "execute_result"
    }
   ],
   "source": [
    "arr[::-1]"
   ]
  },
  {
   "cell_type": "markdown",
   "id": "29d9ede4",
   "metadata": {
    "id": "29d9ede4"
   },
   "source": [
    "#### 9. Create a 3x3 matrix with values ranging from 0 to 8 (★☆☆)"
   ]
  },
  {
   "cell_type": "code",
   "execution_count": 197,
   "id": "d9e39043",
   "metadata": {
    "colab": {
     "base_uri": "https://localhost:8080/"
    },
    "id": "d9e39043",
    "outputId": "954a656b-5c29-4838-8424-53b4c78334eb"
   },
   "outputs": [
    {
     "data": {
      "text/plain": [
       "array([[6, 7, 5],\n",
       "       [6, 3, 5],\n",
       "       [5, 2, 4]], dtype=int32)"
      ]
     },
     "execution_count": 197,
     "metadata": {},
     "output_type": "execute_result"
    }
   ],
   "source": [
    "arr=np.random.randint(0,9,size=(3,3))\n",
    "arr"
   ]
  },
  {
   "cell_type": "markdown",
   "id": "88905ceb",
   "metadata": {
    "id": "88905ceb"
   },
   "source": [
    "#### 10. Find indices of non-zero elements from [1,2,0,0,4,0] (★☆☆)"
   ]
  },
  {
   "cell_type": "code",
   "execution_count": 198,
   "id": "b2f3c90a",
   "metadata": {
    "colab": {
     "base_uri": "https://localhost:8080/"
    },
    "id": "b2f3c90a",
    "outputId": "fb528641-6ef8-4002-f028-3eb449a444df"
   },
   "outputs": [
    {
     "data": {
      "text/plain": [
       "(array([0, 1, 4]),)"
      ]
     },
     "execution_count": 198,
     "metadata": {},
     "output_type": "execute_result"
    }
   ],
   "source": [
    "arr = np.array( [1,2,0,0,4,0]).nonzero()\n",
    "arr"
   ]
  },
  {
   "cell_type": "markdown",
   "id": "49603e91",
   "metadata": {
    "id": "49603e91"
   },
   "source": [
    "#### 11. Create a 3x3 identity matrix (★☆☆)"
   ]
  },
  {
   "cell_type": "code",
   "execution_count": 199,
   "id": "5b607b5c",
   "metadata": {
    "colab": {
     "base_uri": "https://localhost:8080/"
    },
    "id": "5b607b5c",
    "outputId": "34b68309-6d72-4019-9be4-a15d25e1894b"
   },
   "outputs": [
    {
     "data": {
      "text/plain": [
       "array([[1., 0., 0.],\n",
       "       [0., 1., 0.],\n",
       "       [0., 0., 1.]])"
      ]
     },
     "execution_count": 199,
     "metadata": {},
     "output_type": "execute_result"
    }
   ],
   "source": [
    "arr=np.eye(3)\n",
    "arr"
   ]
  },
  {
   "cell_type": "markdown",
   "id": "e15c249a",
   "metadata": {
    "id": "e15c249a"
   },
   "source": [
    "#### 12. Create a 3x3x3 array with random values (★☆☆)"
   ]
  },
  {
   "cell_type": "code",
   "execution_count": 200,
   "id": "ab21ed50",
   "metadata": {
    "colab": {
     "base_uri": "https://localhost:8080/"
    },
    "id": "ab21ed50",
    "outputId": "10586996-a6bb-4985-c029-b00d2ff776af"
   },
   "outputs": [
    {
     "data": {
      "text/plain": [
       "array([[[0.12481225, 0.08943153, 0.8511528 ],\n",
       "        [0.92946375, 0.21592897, 0.4514498 ],\n",
       "        [0.10439929, 0.08312003, 0.97562225]],\n",
       "\n",
       "       [[0.6540985 , 0.40300525, 0.42396769],\n",
       "        [0.67551225, 0.95080167, 0.77562638],\n",
       "        [0.47146973, 0.94484364, 0.2804289 ]],\n",
       "\n",
       "       [[0.53417332, 0.46225994, 0.55745746],\n",
       "        [0.5859838 , 0.28526809, 0.31199888],\n",
       "        [0.1349776 , 0.9288334 , 0.5583284 ]]])"
      ]
     },
     "execution_count": 200,
     "metadata": {},
     "output_type": "execute_result"
    }
   ],
   "source": [
    "arr = np.random.random(size=(3,3,3))\n",
    "arr"
   ]
  },
  {
   "cell_type": "markdown",
   "id": "157a129c",
   "metadata": {
    "id": "157a129c"
   },
   "source": [
    "#### 13. Create a 10x10 array with random values and find the minimum and maximum values (★☆☆)"
   ]
  },
  {
   "cell_type": "code",
   "execution_count": 201,
   "id": "c0066de5",
   "metadata": {
    "colab": {
     "base_uri": "https://localhost:8080/"
    },
    "id": "c0066de5",
    "outputId": "a22aa589-c135-4a7f-f510-fbd2023eae97"
   },
   "outputs": [
    {
     "name": "stdout",
     "output_type": "stream",
     "text": [
      "0.000908688154055759\n",
      "0.9951667729364978\n"
     ]
    }
   ],
   "source": [
    "arr =np.random.random(size=(10,10))\n",
    "print(arr.min())\n",
    "print(arr.max())"
   ]
  },
  {
   "cell_type": "markdown",
   "id": "d92d7b32",
   "metadata": {
    "id": "d92d7b32"
   },
   "source": [
    "#### 14. Create a random vector of size 30 and find the mean value (★☆☆)"
   ]
  },
  {
   "cell_type": "code",
   "execution_count": 202,
   "id": "9672d023",
   "metadata": {
    "colab": {
     "base_uri": "https://localhost:8080/"
    },
    "id": "9672d023",
    "outputId": "035d2057-9191-415d-a96e-1b8db6a99cc6"
   },
   "outputs": [
    {
     "name": "stdout",
     "output_type": "stream",
     "text": [
      "[0.16075289 0.72867552 0.60249774 0.04515042 0.75188209 0.63919135\n",
      " 0.15692908 0.81359987 0.69896634 0.04829394 0.43460597 0.85271996\n",
      " 0.08821808 0.2932651  0.68256376 0.267162   0.66508085 0.99910446\n",
      " 0.98774862 0.54346787 0.08261011 0.39041284 0.81099112 0.21786581\n",
      " 0.54131912 0.06171081 0.56633466 0.87414983 0.92878492 0.44508393]\n",
      "0.512637968638612\n"
     ]
    }
   ],
   "source": [
    "arr = np.random.random((30))\n",
    "print(arr)\n",
    "print(arr.mean())"
   ]
  },
  {
   "cell_type": "markdown",
   "id": "f361efc0",
   "metadata": {
    "id": "f361efc0"
   },
   "source": [
    "#### 15. Create a 2d array with 1 on the border and 0 inside (★☆☆)"
   ]
  },
  {
   "cell_type": "code",
   "execution_count": 203,
   "id": "a55b6666",
   "metadata": {
    "colab": {
     "base_uri": "https://localhost:8080/"
    },
    "id": "a55b6666",
    "outputId": "edf426b1-5b21-4f11-94c0-0f4f7e179b2f"
   },
   "outputs": [
    {
     "data": {
      "text/plain": [
       "array([[1., 1., 1., 1., 1., 1., 1., 1., 1., 1.],\n",
       "       [1., 0., 0., 0., 0., 0., 0., 0., 0., 1.],\n",
       "       [1., 0., 0., 0., 0., 0., 0., 0., 0., 1.],\n",
       "       [1., 0., 0., 0., 0., 0., 0., 0., 0., 1.],\n",
       "       [1., 0., 0., 0., 0., 0., 0., 0., 0., 1.],\n",
       "       [1., 0., 0., 0., 0., 0., 0., 0., 0., 1.],\n",
       "       [1., 0., 0., 0., 0., 0., 0., 0., 0., 1.],\n",
       "       [1., 0., 0., 0., 0., 0., 0., 0., 0., 1.],\n",
       "       [1., 0., 0., 0., 0., 0., 0., 0., 0., 1.],\n",
       "       [1., 1., 1., 1., 1., 1., 1., 1., 1., 1.]])"
      ]
     },
     "execution_count": 203,
     "metadata": {},
     "output_type": "execute_result"
    }
   ],
   "source": [
    "arr=np.zeros((10,10))\n",
    "arr[:,0]=1\n",
    "arr[:,-1]=1\n",
    "arr[0,:]=1\n",
    "arr[-1,:]=1\n",
    "\n",
    "arr"
   ]
  },
  {
   "cell_type": "markdown",
   "id": "475808cb",
   "metadata": {
    "id": "475808cb"
   },
   "source": [
    "#### 16. How to add a border (filled with 0's) around an existing array? (★☆☆)"
   ]
  },
  {
   "cell_type": "code",
   "execution_count": 204,
   "id": "4yIvbK1vOM0V",
   "metadata": {
    "colab": {
     "base_uri": "https://localhost:8080/"
    },
    "id": "4yIvbK1vOM0V",
    "outputId": "adf6d6e1-5b79-43f4-9123-b4223c49d0d1"
   },
   "outputs": [
    {
     "name": "stdout",
     "output_type": "stream",
     "text": [
      "Pad an array.\n",
      "\n",
      "Parameters\n",
      "----------\n",
      "array : array_like of rank N\n",
      "    The array to pad.\n",
      "pad_width : {sequence, array_like, int}\n",
      "    Number of values padded to the edges of each axis.\n",
      "    ``((before_1, after_1), ... (before_N, after_N))`` unique pad widths\n",
      "    for each axis.\n",
      "    ``(before, after)`` or ``((before, after),)`` yields same before\n",
      "    and after pad for each axis.\n",
      "    ``(pad,)`` or ``int`` is a shortcut for before = after = pad width\n",
      "    for all axes.\n",
      "mode : str or function, optional\n",
      "    One of the following string values or a user supplied function.\n",
      "\n",
      "    'constant' (default)\n",
      "        Pads with a constant value.\n",
      "    'edge'\n",
      "        Pads with the edge values of array.\n",
      "    'linear_ramp'\n",
      "        Pads with the linear ramp between end_value and the\n",
      "        array edge value.\n",
      "    'maximum'\n",
      "        Pads with the maximum value of all or part of the\n",
      "        vector along each axis.\n",
      "    'mean'\n",
      "        Pads with the mean value of all or part of the\n",
      "        vector along each axis.\n",
      "    'median'\n",
      "        Pads with the median value of all or part of the\n",
      "        vector along each axis.\n",
      "    'minimum'\n",
      "        Pads with the minimum value of all or part of the\n",
      "        vector along each axis.\n",
      "    'reflect'\n",
      "        Pads with the reflection of the vector mirrored on\n",
      "        the first and last values of the vector along each\n",
      "        axis.\n",
      "    'symmetric'\n",
      "        Pads with the reflection of the vector mirrored\n",
      "        along the edge of the array.\n",
      "    'wrap'\n",
      "        Pads with the wrap of the vector along the axis.\n",
      "        The first values are used to pad the end and the\n",
      "        end values are used to pad the beginning.\n",
      "    'empty'\n",
      "        Pads with undefined values.\n",
      "\n",
      "    <function>\n",
      "        Padding function, see Notes.\n",
      "stat_length : sequence or int, optional\n",
      "    Used in 'maximum', 'mean', 'median', and 'minimum'.  Number of\n",
      "    values at edge of each axis used to calculate the statistic value.\n",
      "\n",
      "    ``((before_1, after_1), ... (before_N, after_N))`` unique statistic\n",
      "    lengths for each axis.\n",
      "\n",
      "    ``(before, after)`` or ``((before, after),)`` yields same before\n",
      "    and after statistic lengths for each axis.\n",
      "\n",
      "    ``(stat_length,)`` or ``int`` is a shortcut for\n",
      "    ``before = after = statistic`` length for all axes.\n",
      "\n",
      "    Default is ``None``, to use the entire axis.\n",
      "constant_values : sequence or scalar, optional\n",
      "    Used in 'constant'.  The values to set the padded values for each\n",
      "    axis.\n",
      "\n",
      "    ``((before_1, after_1), ... (before_N, after_N))`` unique pad constants\n",
      "    for each axis.\n",
      "\n",
      "    ``(before, after)`` or ``((before, after),)`` yields same before\n",
      "    and after constants for each axis.\n",
      "\n",
      "    ``(constant,)`` or ``constant`` is a shortcut for\n",
      "    ``before = after = constant`` for all axes.\n",
      "\n",
      "    Default is 0.\n",
      "end_values : sequence or scalar, optional\n",
      "    Used in 'linear_ramp'.  The values used for the ending value of the\n",
      "    linear_ramp and that will form the edge of the padded array.\n",
      "\n",
      "    ``((before_1, after_1), ... (before_N, after_N))`` unique end values\n",
      "    for each axis.\n",
      "\n",
      "    ``(before, after)`` or ``((before, after),)`` yields same before\n",
      "    and after end values for each axis.\n",
      "\n",
      "    ``(constant,)`` or ``constant`` is a shortcut for\n",
      "    ``before = after = constant`` for all axes.\n",
      "\n",
      "    Default is 0.\n",
      "reflect_type : {'even', 'odd'}, optional\n",
      "    Used in 'reflect', and 'symmetric'.  The 'even' style is the\n",
      "    default with an unaltered reflection around the edge value.  For\n",
      "    the 'odd' style, the extended part of the array is created by\n",
      "    subtracting the reflected values from two times the edge value.\n",
      "\n",
      "Returns\n",
      "-------\n",
      "pad : ndarray\n",
      "    Padded array of rank equal to `array` with shape increased\n",
      "    according to `pad_width`.\n",
      "\n",
      "Notes\n",
      "-----\n",
      "For an array with rank greater than 1, some of the padding of later\n",
      "axes is calculated from padding of previous axes.  This is easiest to\n",
      "think about with a rank 2 array where the corners of the padded array\n",
      "are calculated by using padded values from the first axis.\n",
      "\n",
      "The padding function, if used, should modify a rank 1 array in-place. It\n",
      "has the following signature::\n",
      "\n",
      "    padding_func(vector, iaxis_pad_width, iaxis, kwargs)\n",
      "\n",
      "where\n",
      "\n",
      "vector : ndarray\n",
      "    A rank 1 array already padded with zeros.  Padded values are\n",
      "    vector[:iaxis_pad_width[0]] and vector[-iaxis_pad_width[1]:].\n",
      "iaxis_pad_width : tuple\n",
      "    A 2-tuple of ints, iaxis_pad_width[0] represents the number of\n",
      "    values padded at the beginning of vector where\n",
      "    iaxis_pad_width[1] represents the number of values padded at\n",
      "    the end of vector.\n",
      "iaxis : int\n",
      "    The axis currently being calculated.\n",
      "kwargs : dict\n",
      "    Any keyword arguments the function requires.\n",
      "\n",
      "Examples\n",
      "--------\n",
      ">>> import numpy as np\n",
      ">>> a = [1, 2, 3, 4, 5]\n",
      ">>> np.pad(a, (2, 3), 'constant', constant_values=(4, 6))\n",
      "array([4, 4, 1, ..., 6, 6, 6])\n",
      "\n",
      ">>> np.pad(a, (2, 3), 'edge')\n",
      "array([1, 1, 1, ..., 5, 5, 5])\n",
      "\n",
      ">>> np.pad(a, (2, 3), 'linear_ramp', end_values=(5, -4))\n",
      "array([ 5,  3,  1,  2,  3,  4,  5,  2, -1, -4])\n",
      "\n",
      ">>> np.pad(a, (2,), 'maximum')\n",
      "array([5, 5, 1, 2, 3, 4, 5, 5, 5])\n",
      "\n",
      ">>> np.pad(a, (2,), 'mean')\n",
      "array([3, 3, 1, 2, 3, 4, 5, 3, 3])\n",
      "\n",
      ">>> np.pad(a, (2,), 'median')\n",
      "array([3, 3, 1, 2, 3, 4, 5, 3, 3])\n",
      "\n",
      ">>> a = [[1, 2], [3, 4]]\n",
      ">>> np.pad(a, ((3, 2), (2, 3)), 'minimum')\n",
      "array([[1, 1, 1, 2, 1, 1, 1],\n",
      "       [1, 1, 1, 2, 1, 1, 1],\n",
      "       [1, 1, 1, 2, 1, 1, 1],\n",
      "       [1, 1, 1, 2, 1, 1, 1],\n",
      "       [3, 3, 3, 4, 3, 3, 3],\n",
      "       [1, 1, 1, 2, 1, 1, 1],\n",
      "       [1, 1, 1, 2, 1, 1, 1]])\n",
      "\n",
      ">>> a = [1, 2, 3, 4, 5]\n",
      ">>> np.pad(a, (2, 3), 'reflect')\n",
      "array([3, 2, 1, 2, 3, 4, 5, 4, 3, 2])\n",
      "\n",
      ">>> np.pad(a, (2, 3), 'reflect', reflect_type='odd')\n",
      "array([-1,  0,  1,  2,  3,  4,  5,  6,  7,  8])\n",
      "\n",
      ">>> np.pad(a, (2, 3), 'symmetric')\n",
      "array([2, 1, 1, 2, 3, 4, 5, 5, 4, 3])\n",
      "\n",
      ">>> np.pad(a, (2, 3), 'symmetric', reflect_type='odd')\n",
      "array([0, 1, 1, 2, 3, 4, 5, 5, 6, 7])\n",
      "\n",
      ">>> np.pad(a, (2, 3), 'wrap')\n",
      "array([4, 5, 1, 2, 3, 4, 5, 1, 2, 3])\n",
      "\n",
      ">>> def pad_with(vector, pad_width, iaxis, kwargs):\n",
      "...     pad_value = kwargs.get('padder', 10)\n",
      "...     vector[:pad_width[0]] = pad_value\n",
      "...     vector[-pad_width[1]:] = pad_value\n",
      ">>> a = np.arange(6)\n",
      ">>> a = a.reshape((2, 3))\n",
      ">>> np.pad(a, 2, pad_with)\n",
      "array([[10, 10, 10, 10, 10, 10, 10],\n",
      "       [10, 10, 10, 10, 10, 10, 10],\n",
      "       [10, 10,  0,  1,  2, 10, 10],\n",
      "       [10, 10,  3,  4,  5, 10, 10],\n",
      "       [10, 10, 10, 10, 10, 10, 10],\n",
      "       [10, 10, 10, 10, 10, 10, 10]])\n",
      ">>> np.pad(a, 2, pad_with, padder=100)\n",
      "array([[100, 100, 100, 100, 100, 100, 100],\n",
      "       [100, 100, 100, 100, 100, 100, 100],\n",
      "       [100, 100,   0,   1,   2, 100, 100],\n",
      "       [100, 100,   3,   4,   5, 100, 100],\n",
      "       [100, 100, 100, 100, 100, 100, 100],\n",
      "       [100, 100, 100, 100, 100, 100, 100]])\n"
     ]
    }
   ],
   "source": [
    "np.info(np.pad)"
   ]
  },
  {
   "cell_type": "code",
   "execution_count": 205,
   "id": "b2df3a8a",
   "metadata": {
    "colab": {
     "base_uri": "https://localhost:8080/"
    },
    "id": "b2df3a8a",
    "outputId": "badf3578-c869-42ea-f221-996229be286f"
   },
   "outputs": [
    {
     "data": {
      "text/plain": [
       "array([[ 0,  0,  0,  0,  0,  0,  0,  0,  0,  0],\n",
       "       [ 0, 29, 70, 25, 71, 25, 33, 16, 44,  0],\n",
       "       [ 0, 61, 87, 52, 73, 10, 40, 53, 85,  0],\n",
       "       [ 0, 11, 39, 16, 72, 22, 71, 22, 35,  0],\n",
       "       [ 0, 69, 47, 55, 76, 22, 81, 84, 14,  0],\n",
       "       [ 0, 44, 21, 57, 72, 70, 40, 72, 66,  0],\n",
       "       [ 0, 23, 84, 66, 20, 11, 56, 43, 81,  0],\n",
       "       [ 0, 76, 36, 69, 85, 38, 10, 13, 83,  0],\n",
       "       [ 0, 77, 84, 13, 72, 74, 29, 55, 65,  0],\n",
       "       [ 0,  0,  0,  0,  0,  0,  0,  0,  0,  0]], dtype=int32)"
      ]
     },
     "execution_count": 205,
     "metadata": {},
     "output_type": "execute_result"
    }
   ],
   "source": [
    "arr=np.random.randint(10,90,size=(8,8))\n",
    "arr=np.pad(arr,pad_width=1,mode='constant',constant_values=0)\n",
    "arr"
   ]
  },
  {
   "cell_type": "markdown",
   "id": "1af07d85",
   "metadata": {
    "id": "1af07d85"
   },
   "source": [
    "#### 17. What is the result of the following expression? (★☆☆)\n",
    "```python\n",
    "0 * np.nan\n",
    "np.nan == np.nan\n",
    "np.inf > np.nan\n",
    "np.nan - np.nan\n",
    "np.nan in set([np.nan])\n",
    "0.3 == 3 * 0.1\n",
    "```"
   ]
  },
  {
   "cell_type": "code",
   "execution_count": 206,
   "id": "109cf327",
   "metadata": {
    "colab": {
     "base_uri": "https://localhost:8080/"
    },
    "id": "109cf327",
    "outputId": "739d67eb-9b71-4ba0-941d-64f16e546630"
   },
   "outputs": [
    {
     "name": "stdout",
     "output_type": "stream",
     "text": [
      "nan\n",
      "False\n",
      "False\n",
      "nan\n",
      "True\n",
      "False\n"
     ]
    }
   ],
   "source": [
    "print(0 * np.nan)\n",
    "print(np.nan == np.nan)\n",
    "print(np.inf > np.nan)\n",
    "print(np.nan - np.nan)\n",
    "print(np.nan in set([np.nan]))\n",
    "print(0.3 == 3 * 0.1)"
   ]
  },
  {
   "cell_type": "markdown",
   "id": "6a235316",
   "metadata": {
    "id": "6a235316"
   },
   "source": [
    "#### 18. Create a 5x5 matrix with values 1,2,3,4 just below the diagonal (★☆☆)"
   ]
  },
  {
   "cell_type": "code",
   "execution_count": 207,
   "id": "f2e6cfa6",
   "metadata": {
    "colab": {
     "base_uri": "https://localhost:8080/"
    },
    "id": "f2e6cfa6",
    "outputId": "36c5e280-0f0b-4abd-be2c-f1172cf8bd24"
   },
   "outputs": [
    {
     "data": {
      "text/plain": [
       "array([[0, 0, 0, 0, 0],\n",
       "       [1, 0, 0, 0, 0],\n",
       "       [0, 2, 0, 0, 0],\n",
       "       [0, 0, 3, 0, 0],\n",
       "       [0, 0, 0, 4, 0]])"
      ]
     },
     "execution_count": 207,
     "metadata": {},
     "output_type": "execute_result"
    }
   ],
   "source": [
    "arr=np.diag(np.arange(1,5),k=-1)\n",
    "arr"
   ]
  },
  {
   "cell_type": "markdown",
   "id": "25362e98",
   "metadata": {
    "id": "25362e98"
   },
   "source": [
    "#### 19. Create a 8x8 matrix and fill it with a checkerboard pattern (★☆☆)"
   ]
  },
  {
   "cell_type": "code",
   "execution_count": 208,
   "id": "cabdf298",
   "metadata": {
    "colab": {
     "base_uri": "https://localhost:8080/"
    },
    "id": "cabdf298",
    "outputId": "a21ddc51-20c3-4c14-b4cc-911f1680c5ac"
   },
   "outputs": [
    {
     "data": {
      "text/plain": [
       "array([[0., 1., 0., 1., 0., 1., 0., 1.],\n",
       "       [1., 0., 1., 0., 1., 0., 1., 0.],\n",
       "       [0., 1., 0., 1., 0., 1., 0., 1.],\n",
       "       [1., 0., 1., 0., 1., 0., 1., 0.],\n",
       "       [0., 1., 0., 1., 0., 1., 0., 1.],\n",
       "       [1., 0., 1., 0., 1., 0., 1., 0.],\n",
       "       [0., 1., 0., 1., 0., 1., 0., 1.],\n",
       "       [1., 0., 1., 0., 1., 0., 1., 0.]])"
      ]
     },
     "execution_count": 208,
     "metadata": {},
     "output_type": "execute_result"
    }
   ],
   "source": [
    "arr=np.zeros((8,8))\n",
    "arr[1::2,::2]=1\n",
    "arr[::2,1::2]=1\n",
    "arr"
   ]
  },
  {
   "cell_type": "code",
   "execution_count": 209,
   "id": "Vp0OH8v9VQJp",
   "metadata": {
    "colab": {
     "base_uri": "https://localhost:8080/"
    },
    "id": "Vp0OH8v9VQJp",
    "outputId": "0accac49-49b2-47d9-ef6c-df066150e96d"
   },
   "outputs": [
    {
     "name": "stdout",
     "output_type": "stream",
     "text": [
      "The shape is: (6, 7, 8)\n",
      "The linear index of the 100th element is: 99\n",
      "The multi-dimensional index (x,y,z) is: (np.int64(1), np.int64(5), np.int64(3))\n"
     ]
    }
   ],
   "source": [
    "import numpy as np\n",
    "\n",
    "shape = (6, 7, 8)\n",
    "linear_index = 99 # for the 100th element\n",
    "\n",
    "index = np.unravel_index(linear_index, shape)\n",
    "\n",
    "print(f\"The shape is: {shape}\")\n",
    "print(f\"The linear index of the 100th element is: {linear_index}\")\n",
    "print(f\"The multi-dimensional index (x,y,z) is: {index}\")"
   ]
  },
  {
   "cell_type": "markdown",
   "id": "6431e977",
   "metadata": {
    "id": "6431e977"
   },
   "source": [
    "#### 20. Consider a (6,7,8) shape array, what is the index (x,y,z) of the 100th element? (★☆☆)"
   ]
  },
  {
   "cell_type": "code",
   "execution_count": 210,
   "id": "de8b0245",
   "metadata": {
    "colab": {
     "base_uri": "https://localhost:8080/"
    },
    "id": "de8b0245",
    "outputId": "38da4321-4a34-4759-8d0c-89b959bc7c2c"
   },
   "outputs": [
    {
     "data": {
      "text/plain": [
       "(np.int64(1), np.int64(5), np.int64(4))"
      ]
     },
     "execution_count": 210,
     "metadata": {},
     "output_type": "execute_result"
    }
   ],
   "source": [
    "arr=np.random.random((6,7,8))\n",
    "index = np.unravel_index(100,arr.shape)\n",
    "index"
   ]
  },
  {
   "cell_type": "markdown",
   "id": "31abe6fe",
   "metadata": {
    "id": "31abe6fe"
   },
   "source": [
    "#### 21. Create a checkerboard 8x8 matrix using the tile function (★☆☆)"
   ]
  },
  {
   "cell_type": "code",
   "execution_count": 211,
   "id": "6da26fd3",
   "metadata": {
    "colab": {
     "base_uri": "https://localhost:8080/"
    },
    "id": "6da26fd3",
    "outputId": "1bccad84-eced-4147-dcc2-1a0076ae4c2c"
   },
   "outputs": [
    {
     "data": {
      "text/plain": [
       "array([[0.71715267, 0.08840646, 0.58193982, 0.82849098, 0.74069533,\n",
       "        0.51798709, 0.40958594, 0.5928394 , 0.71715267, 0.08840646,\n",
       "        0.58193982, 0.82849098, 0.74069533, 0.51798709, 0.40958594,\n",
       "        0.5928394 , 0.71715267, 0.08840646, 0.58193982, 0.82849098,\n",
       "        0.74069533, 0.51798709, 0.40958594, 0.5928394 , 0.71715267,\n",
       "        0.08840646, 0.58193982, 0.82849098, 0.74069533, 0.51798709,\n",
       "        0.40958594, 0.5928394 ],\n",
       "       [0.56001758, 0.57361897, 0.69736342, 0.39757385, 0.73521877,\n",
       "        0.37215901, 0.59679216, 0.30294238, 0.56001758, 0.57361897,\n",
       "        0.69736342, 0.39757385, 0.73521877, 0.37215901, 0.59679216,\n",
       "        0.30294238, 0.56001758, 0.57361897, 0.69736342, 0.39757385,\n",
       "        0.73521877, 0.37215901, 0.59679216, 0.30294238, 0.56001758,\n",
       "        0.57361897, 0.69736342, 0.39757385, 0.73521877, 0.37215901,\n",
       "        0.59679216, 0.30294238],\n",
       "       [0.21092466, 0.03372479, 0.43240679, 0.80094025, 0.59951697,\n",
       "        0.64855807, 0.91077817, 0.80844562, 0.21092466, 0.03372479,\n",
       "        0.43240679, 0.80094025, 0.59951697, 0.64855807, 0.91077817,\n",
       "        0.80844562, 0.21092466, 0.03372479, 0.43240679, 0.80094025,\n",
       "        0.59951697, 0.64855807, 0.91077817, 0.80844562, 0.21092466,\n",
       "        0.03372479, 0.43240679, 0.80094025, 0.59951697, 0.64855807,\n",
       "        0.91077817, 0.80844562],\n",
       "       [0.18477784, 0.62147332, 0.82647438, 0.44402065, 0.62689099,\n",
       "        0.88116737, 0.08408471, 0.26438462, 0.18477784, 0.62147332,\n",
       "        0.82647438, 0.44402065, 0.62689099, 0.88116737, 0.08408471,\n",
       "        0.26438462, 0.18477784, 0.62147332, 0.82647438, 0.44402065,\n",
       "        0.62689099, 0.88116737, 0.08408471, 0.26438462, 0.18477784,\n",
       "        0.62147332, 0.82647438, 0.44402065, 0.62689099, 0.88116737,\n",
       "        0.08408471, 0.26438462],\n",
       "       [0.54539777, 0.05528587, 0.16731822, 0.91057985, 0.20749455,\n",
       "        0.98535777, 0.60965372, 0.66859526, 0.54539777, 0.05528587,\n",
       "        0.16731822, 0.91057985, 0.20749455, 0.98535777, 0.60965372,\n",
       "        0.66859526, 0.54539777, 0.05528587, 0.16731822, 0.91057985,\n",
       "        0.20749455, 0.98535777, 0.60965372, 0.66859526, 0.54539777,\n",
       "        0.05528587, 0.16731822, 0.91057985, 0.20749455, 0.98535777,\n",
       "        0.60965372, 0.66859526],\n",
       "       [0.07649256, 0.13126492, 0.46446981, 0.96783325, 0.93198943,\n",
       "        0.23283301, 0.2510261 , 0.34228897, 0.07649256, 0.13126492,\n",
       "        0.46446981, 0.96783325, 0.93198943, 0.23283301, 0.2510261 ,\n",
       "        0.34228897, 0.07649256, 0.13126492, 0.46446981, 0.96783325,\n",
       "        0.93198943, 0.23283301, 0.2510261 , 0.34228897, 0.07649256,\n",
       "        0.13126492, 0.46446981, 0.96783325, 0.93198943, 0.23283301,\n",
       "        0.2510261 , 0.34228897],\n",
       "       [0.08063994, 0.0855201 , 0.0983698 , 0.37117855, 0.24380207,\n",
       "        0.69247024, 0.01320518, 0.30211371, 0.08063994, 0.0855201 ,\n",
       "        0.0983698 , 0.37117855, 0.24380207, 0.69247024, 0.01320518,\n",
       "        0.30211371, 0.08063994, 0.0855201 , 0.0983698 , 0.37117855,\n",
       "        0.24380207, 0.69247024, 0.01320518, 0.30211371, 0.08063994,\n",
       "        0.0855201 , 0.0983698 , 0.37117855, 0.24380207, 0.69247024,\n",
       "        0.01320518, 0.30211371],\n",
       "       [0.25878493, 0.92612218, 0.87144203, 0.56962743, 0.94648941,\n",
       "        0.57810047, 0.23771896, 0.92087651, 0.25878493, 0.92612218,\n",
       "        0.87144203, 0.56962743, 0.94648941, 0.57810047, 0.23771896,\n",
       "        0.92087651, 0.25878493, 0.92612218, 0.87144203, 0.56962743,\n",
       "        0.94648941, 0.57810047, 0.23771896, 0.92087651, 0.25878493,\n",
       "        0.92612218, 0.87144203, 0.56962743, 0.94648941, 0.57810047,\n",
       "        0.23771896, 0.92087651],\n",
       "       [0.71715267, 0.08840646, 0.58193982, 0.82849098, 0.74069533,\n",
       "        0.51798709, 0.40958594, 0.5928394 , 0.71715267, 0.08840646,\n",
       "        0.58193982, 0.82849098, 0.74069533, 0.51798709, 0.40958594,\n",
       "        0.5928394 , 0.71715267, 0.08840646, 0.58193982, 0.82849098,\n",
       "        0.74069533, 0.51798709, 0.40958594, 0.5928394 , 0.71715267,\n",
       "        0.08840646, 0.58193982, 0.82849098, 0.74069533, 0.51798709,\n",
       "        0.40958594, 0.5928394 ],\n",
       "       [0.56001758, 0.57361897, 0.69736342, 0.39757385, 0.73521877,\n",
       "        0.37215901, 0.59679216, 0.30294238, 0.56001758, 0.57361897,\n",
       "        0.69736342, 0.39757385, 0.73521877, 0.37215901, 0.59679216,\n",
       "        0.30294238, 0.56001758, 0.57361897, 0.69736342, 0.39757385,\n",
       "        0.73521877, 0.37215901, 0.59679216, 0.30294238, 0.56001758,\n",
       "        0.57361897, 0.69736342, 0.39757385, 0.73521877, 0.37215901,\n",
       "        0.59679216, 0.30294238],\n",
       "       [0.21092466, 0.03372479, 0.43240679, 0.80094025, 0.59951697,\n",
       "        0.64855807, 0.91077817, 0.80844562, 0.21092466, 0.03372479,\n",
       "        0.43240679, 0.80094025, 0.59951697, 0.64855807, 0.91077817,\n",
       "        0.80844562, 0.21092466, 0.03372479, 0.43240679, 0.80094025,\n",
       "        0.59951697, 0.64855807, 0.91077817, 0.80844562, 0.21092466,\n",
       "        0.03372479, 0.43240679, 0.80094025, 0.59951697, 0.64855807,\n",
       "        0.91077817, 0.80844562],\n",
       "       [0.18477784, 0.62147332, 0.82647438, 0.44402065, 0.62689099,\n",
       "        0.88116737, 0.08408471, 0.26438462, 0.18477784, 0.62147332,\n",
       "        0.82647438, 0.44402065, 0.62689099, 0.88116737, 0.08408471,\n",
       "        0.26438462, 0.18477784, 0.62147332, 0.82647438, 0.44402065,\n",
       "        0.62689099, 0.88116737, 0.08408471, 0.26438462, 0.18477784,\n",
       "        0.62147332, 0.82647438, 0.44402065, 0.62689099, 0.88116737,\n",
       "        0.08408471, 0.26438462],\n",
       "       [0.54539777, 0.05528587, 0.16731822, 0.91057985, 0.20749455,\n",
       "        0.98535777, 0.60965372, 0.66859526, 0.54539777, 0.05528587,\n",
       "        0.16731822, 0.91057985, 0.20749455, 0.98535777, 0.60965372,\n",
       "        0.66859526, 0.54539777, 0.05528587, 0.16731822, 0.91057985,\n",
       "        0.20749455, 0.98535777, 0.60965372, 0.66859526, 0.54539777,\n",
       "        0.05528587, 0.16731822, 0.91057985, 0.20749455, 0.98535777,\n",
       "        0.60965372, 0.66859526],\n",
       "       [0.07649256, 0.13126492, 0.46446981, 0.96783325, 0.93198943,\n",
       "        0.23283301, 0.2510261 , 0.34228897, 0.07649256, 0.13126492,\n",
       "        0.46446981, 0.96783325, 0.93198943, 0.23283301, 0.2510261 ,\n",
       "        0.34228897, 0.07649256, 0.13126492, 0.46446981, 0.96783325,\n",
       "        0.93198943, 0.23283301, 0.2510261 , 0.34228897, 0.07649256,\n",
       "        0.13126492, 0.46446981, 0.96783325, 0.93198943, 0.23283301,\n",
       "        0.2510261 , 0.34228897],\n",
       "       [0.08063994, 0.0855201 , 0.0983698 , 0.37117855, 0.24380207,\n",
       "        0.69247024, 0.01320518, 0.30211371, 0.08063994, 0.0855201 ,\n",
       "        0.0983698 , 0.37117855, 0.24380207, 0.69247024, 0.01320518,\n",
       "        0.30211371, 0.08063994, 0.0855201 , 0.0983698 , 0.37117855,\n",
       "        0.24380207, 0.69247024, 0.01320518, 0.30211371, 0.08063994,\n",
       "        0.0855201 , 0.0983698 , 0.37117855, 0.24380207, 0.69247024,\n",
       "        0.01320518, 0.30211371],\n",
       "       [0.25878493, 0.92612218, 0.87144203, 0.56962743, 0.94648941,\n",
       "        0.57810047, 0.23771896, 0.92087651, 0.25878493, 0.92612218,\n",
       "        0.87144203, 0.56962743, 0.94648941, 0.57810047, 0.23771896,\n",
       "        0.92087651, 0.25878493, 0.92612218, 0.87144203, 0.56962743,\n",
       "        0.94648941, 0.57810047, 0.23771896, 0.92087651, 0.25878493,\n",
       "        0.92612218, 0.87144203, 0.56962743, 0.94648941, 0.57810047,\n",
       "        0.23771896, 0.92087651],\n",
       "       [0.71715267, 0.08840646, 0.58193982, 0.82849098, 0.74069533,\n",
       "        0.51798709, 0.40958594, 0.5928394 , 0.71715267, 0.08840646,\n",
       "        0.58193982, 0.82849098, 0.74069533, 0.51798709, 0.40958594,\n",
       "        0.5928394 , 0.71715267, 0.08840646, 0.58193982, 0.82849098,\n",
       "        0.74069533, 0.51798709, 0.40958594, 0.5928394 , 0.71715267,\n",
       "        0.08840646, 0.58193982, 0.82849098, 0.74069533, 0.51798709,\n",
       "        0.40958594, 0.5928394 ],\n",
       "       [0.56001758, 0.57361897, 0.69736342, 0.39757385, 0.73521877,\n",
       "        0.37215901, 0.59679216, 0.30294238, 0.56001758, 0.57361897,\n",
       "        0.69736342, 0.39757385, 0.73521877, 0.37215901, 0.59679216,\n",
       "        0.30294238, 0.56001758, 0.57361897, 0.69736342, 0.39757385,\n",
       "        0.73521877, 0.37215901, 0.59679216, 0.30294238, 0.56001758,\n",
       "        0.57361897, 0.69736342, 0.39757385, 0.73521877, 0.37215901,\n",
       "        0.59679216, 0.30294238],\n",
       "       [0.21092466, 0.03372479, 0.43240679, 0.80094025, 0.59951697,\n",
       "        0.64855807, 0.91077817, 0.80844562, 0.21092466, 0.03372479,\n",
       "        0.43240679, 0.80094025, 0.59951697, 0.64855807, 0.91077817,\n",
       "        0.80844562, 0.21092466, 0.03372479, 0.43240679, 0.80094025,\n",
       "        0.59951697, 0.64855807, 0.91077817, 0.80844562, 0.21092466,\n",
       "        0.03372479, 0.43240679, 0.80094025, 0.59951697, 0.64855807,\n",
       "        0.91077817, 0.80844562],\n",
       "       [0.18477784, 0.62147332, 0.82647438, 0.44402065, 0.62689099,\n",
       "        0.88116737, 0.08408471, 0.26438462, 0.18477784, 0.62147332,\n",
       "        0.82647438, 0.44402065, 0.62689099, 0.88116737, 0.08408471,\n",
       "        0.26438462, 0.18477784, 0.62147332, 0.82647438, 0.44402065,\n",
       "        0.62689099, 0.88116737, 0.08408471, 0.26438462, 0.18477784,\n",
       "        0.62147332, 0.82647438, 0.44402065, 0.62689099, 0.88116737,\n",
       "        0.08408471, 0.26438462],\n",
       "       [0.54539777, 0.05528587, 0.16731822, 0.91057985, 0.20749455,\n",
       "        0.98535777, 0.60965372, 0.66859526, 0.54539777, 0.05528587,\n",
       "        0.16731822, 0.91057985, 0.20749455, 0.98535777, 0.60965372,\n",
       "        0.66859526, 0.54539777, 0.05528587, 0.16731822, 0.91057985,\n",
       "        0.20749455, 0.98535777, 0.60965372, 0.66859526, 0.54539777,\n",
       "        0.05528587, 0.16731822, 0.91057985, 0.20749455, 0.98535777,\n",
       "        0.60965372, 0.66859526],\n",
       "       [0.07649256, 0.13126492, 0.46446981, 0.96783325, 0.93198943,\n",
       "        0.23283301, 0.2510261 , 0.34228897, 0.07649256, 0.13126492,\n",
       "        0.46446981, 0.96783325, 0.93198943, 0.23283301, 0.2510261 ,\n",
       "        0.34228897, 0.07649256, 0.13126492, 0.46446981, 0.96783325,\n",
       "        0.93198943, 0.23283301, 0.2510261 , 0.34228897, 0.07649256,\n",
       "        0.13126492, 0.46446981, 0.96783325, 0.93198943, 0.23283301,\n",
       "        0.2510261 , 0.34228897],\n",
       "       [0.08063994, 0.0855201 , 0.0983698 , 0.37117855, 0.24380207,\n",
       "        0.69247024, 0.01320518, 0.30211371, 0.08063994, 0.0855201 ,\n",
       "        0.0983698 , 0.37117855, 0.24380207, 0.69247024, 0.01320518,\n",
       "        0.30211371, 0.08063994, 0.0855201 , 0.0983698 , 0.37117855,\n",
       "        0.24380207, 0.69247024, 0.01320518, 0.30211371, 0.08063994,\n",
       "        0.0855201 , 0.0983698 , 0.37117855, 0.24380207, 0.69247024,\n",
       "        0.01320518, 0.30211371],\n",
       "       [0.25878493, 0.92612218, 0.87144203, 0.56962743, 0.94648941,\n",
       "        0.57810047, 0.23771896, 0.92087651, 0.25878493, 0.92612218,\n",
       "        0.87144203, 0.56962743, 0.94648941, 0.57810047, 0.23771896,\n",
       "        0.92087651, 0.25878493, 0.92612218, 0.87144203, 0.56962743,\n",
       "        0.94648941, 0.57810047, 0.23771896, 0.92087651, 0.25878493,\n",
       "        0.92612218, 0.87144203, 0.56962743, 0.94648941, 0.57810047,\n",
       "        0.23771896, 0.92087651],\n",
       "       [0.71715267, 0.08840646, 0.58193982, 0.82849098, 0.74069533,\n",
       "        0.51798709, 0.40958594, 0.5928394 , 0.71715267, 0.08840646,\n",
       "        0.58193982, 0.82849098, 0.74069533, 0.51798709, 0.40958594,\n",
       "        0.5928394 , 0.71715267, 0.08840646, 0.58193982, 0.82849098,\n",
       "        0.74069533, 0.51798709, 0.40958594, 0.5928394 , 0.71715267,\n",
       "        0.08840646, 0.58193982, 0.82849098, 0.74069533, 0.51798709,\n",
       "        0.40958594, 0.5928394 ],\n",
       "       [0.56001758, 0.57361897, 0.69736342, 0.39757385, 0.73521877,\n",
       "        0.37215901, 0.59679216, 0.30294238, 0.56001758, 0.57361897,\n",
       "        0.69736342, 0.39757385, 0.73521877, 0.37215901, 0.59679216,\n",
       "        0.30294238, 0.56001758, 0.57361897, 0.69736342, 0.39757385,\n",
       "        0.73521877, 0.37215901, 0.59679216, 0.30294238, 0.56001758,\n",
       "        0.57361897, 0.69736342, 0.39757385, 0.73521877, 0.37215901,\n",
       "        0.59679216, 0.30294238],\n",
       "       [0.21092466, 0.03372479, 0.43240679, 0.80094025, 0.59951697,\n",
       "        0.64855807, 0.91077817, 0.80844562, 0.21092466, 0.03372479,\n",
       "        0.43240679, 0.80094025, 0.59951697, 0.64855807, 0.91077817,\n",
       "        0.80844562, 0.21092466, 0.03372479, 0.43240679, 0.80094025,\n",
       "        0.59951697, 0.64855807, 0.91077817, 0.80844562, 0.21092466,\n",
       "        0.03372479, 0.43240679, 0.80094025, 0.59951697, 0.64855807,\n",
       "        0.91077817, 0.80844562],\n",
       "       [0.18477784, 0.62147332, 0.82647438, 0.44402065, 0.62689099,\n",
       "        0.88116737, 0.08408471, 0.26438462, 0.18477784, 0.62147332,\n",
       "        0.82647438, 0.44402065, 0.62689099, 0.88116737, 0.08408471,\n",
       "        0.26438462, 0.18477784, 0.62147332, 0.82647438, 0.44402065,\n",
       "        0.62689099, 0.88116737, 0.08408471, 0.26438462, 0.18477784,\n",
       "        0.62147332, 0.82647438, 0.44402065, 0.62689099, 0.88116737,\n",
       "        0.08408471, 0.26438462],\n",
       "       [0.54539777, 0.05528587, 0.16731822, 0.91057985, 0.20749455,\n",
       "        0.98535777, 0.60965372, 0.66859526, 0.54539777, 0.05528587,\n",
       "        0.16731822, 0.91057985, 0.20749455, 0.98535777, 0.60965372,\n",
       "        0.66859526, 0.54539777, 0.05528587, 0.16731822, 0.91057985,\n",
       "        0.20749455, 0.98535777, 0.60965372, 0.66859526, 0.54539777,\n",
       "        0.05528587, 0.16731822, 0.91057985, 0.20749455, 0.98535777,\n",
       "        0.60965372, 0.66859526],\n",
       "       [0.07649256, 0.13126492, 0.46446981, 0.96783325, 0.93198943,\n",
       "        0.23283301, 0.2510261 , 0.34228897, 0.07649256, 0.13126492,\n",
       "        0.46446981, 0.96783325, 0.93198943, 0.23283301, 0.2510261 ,\n",
       "        0.34228897, 0.07649256, 0.13126492, 0.46446981, 0.96783325,\n",
       "        0.93198943, 0.23283301, 0.2510261 , 0.34228897, 0.07649256,\n",
       "        0.13126492, 0.46446981, 0.96783325, 0.93198943, 0.23283301,\n",
       "        0.2510261 , 0.34228897],\n",
       "       [0.08063994, 0.0855201 , 0.0983698 , 0.37117855, 0.24380207,\n",
       "        0.69247024, 0.01320518, 0.30211371, 0.08063994, 0.0855201 ,\n",
       "        0.0983698 , 0.37117855, 0.24380207, 0.69247024, 0.01320518,\n",
       "        0.30211371, 0.08063994, 0.0855201 , 0.0983698 , 0.37117855,\n",
       "        0.24380207, 0.69247024, 0.01320518, 0.30211371, 0.08063994,\n",
       "        0.0855201 , 0.0983698 , 0.37117855, 0.24380207, 0.69247024,\n",
       "        0.01320518, 0.30211371],\n",
       "       [0.25878493, 0.92612218, 0.87144203, 0.56962743, 0.94648941,\n",
       "        0.57810047, 0.23771896, 0.92087651, 0.25878493, 0.92612218,\n",
       "        0.87144203, 0.56962743, 0.94648941, 0.57810047, 0.23771896,\n",
       "        0.92087651, 0.25878493, 0.92612218, 0.87144203, 0.56962743,\n",
       "        0.94648941, 0.57810047, 0.23771896, 0.92087651, 0.25878493,\n",
       "        0.92612218, 0.87144203, 0.56962743, 0.94648941, 0.57810047,\n",
       "        0.23771896, 0.92087651]])"
      ]
     },
     "execution_count": 211,
     "metadata": {},
     "output_type": "execute_result"
    }
   ],
   "source": [
    "arr=np.random.random((8,8))\n",
    "arr=np.tile(arr,(4,4))\n",
    "arr"
   ]
  },
  {
   "cell_type": "markdown",
   "id": "fd88b3f4",
   "metadata": {
    "id": "fd88b3f4"
   },
   "source": [
    "#### 22. Normalize a 5x5 random matrix (★☆☆)"
   ]
  },
  {
   "cell_type": "code",
   "execution_count": 212,
   "id": "ee6ced60",
   "metadata": {
    "colab": {
     "base_uri": "https://localhost:8080/"
    },
    "id": "ee6ced60",
    "outputId": "1275f9b9-8e4c-4a3c-e2a1-c38964f51d23"
   },
   "outputs": [
    {
     "name": "stdout",
     "output_type": "stream",
     "text": [
      "[[0.50817574 0.60041426 0.32115663 0.25282538 0.00456983]\n",
      " [0.43140281 0.89184122 0.57956997 0.48654808 0.40727156]\n",
      " [0.63820119 0.55592278 0.36542598 0.66655248 0.49375565]\n",
      " [0.66051726 0.16804981 0.33136308 0.79476061 0.33367594]\n",
      " [0.18090281 0.10993612 0.44955356 0.01671059 0.92754207]]\n",
      "_______________________________________________________\n",
      "[[0.54563495 0.64557135 0.34300793 0.26897402 0.        ]\n",
      " [0.46245484 0.96131969 0.62298747 0.52220233 0.43630969]\n",
      " [0.68651183 0.59736677 0.39097183 0.71722921 0.53001141]\n",
      " [0.71069031 0.1771234  0.35406618 0.8561371  0.35657206]\n",
      " [0.19104906 0.11415976 0.48212039 0.01315398 1.        ]]\n"
     ]
    }
   ],
   "source": [
    "arr=np.random.random((5,5))\n",
    "arr_norm=(arr-arr.min())/(arr.max()-arr.min())\n",
    "print(arr)\n",
    "print('___________'*5)\n",
    "print(arr_norm)"
   ]
  },
  {
   "cell_type": "markdown",
   "id": "464d8590",
   "metadata": {
    "id": "464d8590"
   },
   "source": [
    "#### 23. Create a custom dtype that describes a color as four unsigned bytes (RGBA) (★☆☆)"
   ]
  },
  {
   "cell_type": "code",
   "execution_count": 213,
   "id": "e2f9cfc6",
   "metadata": {
    "colab": {
     "base_uri": "https://localhost:8080/"
    },
    "id": "e2f9cfc6",
    "outputId": "a612c394-8d9f-434d-92e1-e214b46a53d4"
   },
   "outputs": [
    {
     "data": {
      "text/plain": [
       "dtype([('r', 'u1', (1,)), ('g', 'u1', (1,)), ('b', 'u1', (1,)), ('a', 'u1', (1,))])"
      ]
     },
     "execution_count": 213,
     "metadata": {},
     "output_type": "execute_result"
    }
   ],
   "source": [
    "np.dtype([('r', np.ubyte, 1),\n",
    "          ('g', np.ubyte, 1),\n",
    "          ('b', np.ubyte, 1),\n",
    "          ('a', np.ubyte, 1)])"
   ]
  },
  {
   "cell_type": "markdown",
   "id": "06c63bb3",
   "metadata": {
    "id": "06c63bb3"
   },
   "source": [
    "#### 24. Multiply a 5x3 matrix by a 3x2 matrix (real matrix product) (★☆☆)"
   ]
  },
  {
   "cell_type": "code",
   "execution_count": 214,
   "id": "9fc0d553",
   "metadata": {
    "colab": {
     "base_uri": "https://localhost:8080/"
    },
    "id": "9fc0d553",
    "outputId": "cf20209f-2a46-4d96-b502-9a0f2e45cf78"
   },
   "outputs": [
    {
     "name": "stdout",
     "output_type": "stream",
     "text": [
      "[[7 9 7]\n",
      " [6 5 3]\n",
      " [3 6 9]\n",
      " [5 9 6]\n",
      " [3 9 3]]\n",
      "___________\n",
      "[[3 5]\n",
      " [5 3]\n",
      " [3 6]]\n",
      "___________\n",
      "[[49 81 49]\n",
      " [36 25  9]\n",
      " [ 9 36 81]\n",
      " [25 81 36]\n",
      " [ 9 81  9]]\n",
      "___________\n"
     ]
    },
    {
     "data": {
      "text/plain": [
       "array([[ 87, 104],\n",
       "       [ 52,  63],\n",
       "       [ 66,  87],\n",
       "       [ 78,  88],\n",
       "       [ 63,  60]], dtype=int32)"
      ]
     },
     "execution_count": 214,
     "metadata": {},
     "output_type": "execute_result"
    }
   ],
   "source": [
    "M5X3 = np.random.randint(1,10,(5,3))\n",
    "M3X2 = np.random.randint(1,10,(3,2))\n",
    "print(M5X3)\n",
    "print('___________')\n",
    "print(M3X2)\n",
    "print('___________')\n",
    "print(M5X3*M5X3)\n",
    "print('___________')\n",
    "np.dot(M5X3,M3X2)\n",
    "#np.dot(np.random.randint(1,10,(5,3)), np.random.randint(1,10,(3,2)))"
   ]
  },
  {
   "cell_type": "markdown",
   "id": "76fa6285",
   "metadata": {
    "id": "76fa6285"
   },
   "source": [
    "#### 25. Given a 1D array, negate all elements which are between 3 and 8, in place. (★☆☆)"
   ]
  },
  {
   "cell_type": "code",
   "execution_count": 215,
   "id": "0e25eca7",
   "metadata": {
    "colab": {
     "base_uri": "https://localhost:8080/"
    },
    "id": "0e25eca7",
    "outputId": "251454b1-04e6-4c8b-e52a-9be9d2b2c36b"
   },
   "outputs": [
    {
     "data": {
      "text/plain": [
       "array([ 0,  1,  2,  3, -4, -5, -6, -7,  8,  9])"
      ]
     },
     "execution_count": 215,
     "metadata": {},
     "output_type": "execute_result"
    }
   ],
   "source": [
    "arr = np.arange(10)\n",
    "arr[(arr>3) & (arr<8)] *= -1\n",
    "arr"
   ]
  },
  {
   "cell_type": "markdown",
   "id": "930ed8bb",
   "metadata": {
    "id": "930ed8bb"
   },
   "source": [
    "#### 26. What is the output of the following script? (★☆☆)\n",
    "```python\n",
    "# Author: Jake VanderPlas\n",
    "\n",
    "print(sum(range(5),-1))\n",
    "from numpy import *\n",
    "print(sum(range(5),-1))\n",
    "```"
   ]
  },
  {
   "cell_type": "code",
   "execution_count": 216,
   "id": "f02eedba",
   "metadata": {
    "colab": {
     "base_uri": "https://localhost:8080/"
    },
    "id": "f02eedba",
    "outputId": "faf055c4-a2c5-467a-a7f5-676925e4a1be"
   },
   "outputs": [
    {
     "name": "stdout",
     "output_type": "stream",
     "text": [
      "9\n",
      "10\n"
     ]
    }
   ],
   "source": [
    "#print(sum(range(5),-1))\n",
    "#from numpy import *\n",
    "#print(sum(range(5),-1))\n",
    "print(sum(range(5),-1))\n",
    "print(np.sum(range(5),-1))"
   ]
  },
  {
   "cell_type": "markdown",
   "id": "177120e7",
   "metadata": {
    "id": "177120e7"
   },
   "source": [
    "#### 27. Consider an integer vector Z, which of these expressions are legal? (★☆☆)\n",
    "```python\n",
    "Z**Z\n",
    "2 << Z >> 2\n",
    "Z <- Z\n",
    "1j*Z\n",
    "Z/1/1\n",
    "Z<Z>Z\n",
    "```"
   ]
  },
  {
   "cell_type": "code",
   "execution_count": 217,
   "id": "86d6cbef",
   "metadata": {
    "colab": {
     "base_uri": "https://localhost:8080/",
     "height": 280
    },
    "id": "86d6cbef",
    "outputId": "25a52e44-336e-4154-aecf-fe9aadfbe48e"
   },
   "outputs": [
    {
     "name": "stdout",
     "output_type": "stream",
     "text": [
      "[  1   1   4  27 256]\n",
      "[0 1 2 4 8]\n",
      "[False False False False False]\n",
      "[0.+0.j 0.+1.j 0.+2.j 0.+3.j 0.+4.j]\n",
      "[0. 1. 2. 3. 4.]\n"
     ]
    }
   ],
   "source": [
    "Z = np.arange(5)\n",
    "\n",
    "# Test each expression\n",
    "print(Z**Z)        # Legal\n",
    "print(2 << Z >> 2) # Legal  \n",
    "print(Z <- Z)      # Legal (Z < -Z)\n",
    "print(1j*Z)        # Legal\n",
    "print(Z/1/1)       # Legal\n",
    "# print(Z<Z>Z)     # Illegal - ValueError"
   ]
  },
  {
   "cell_type": "markdown",
   "id": "a6eaf0e8",
   "metadata": {
    "id": "a6eaf0e8"
   },
   "source": [
    "#### 28. What are the result of the following expressions? (★☆☆)\n",
    "```python\n",
    "np.array(0) / np.array(0)\n",
    "np.array(0) // np.array(0)\n",
    "np.array([np.nan]).astype(int).astype(float)\n",
    "```"
   ]
  },
  {
   "cell_type": "code",
   "execution_count": 218,
   "id": "48f1d5e1",
   "metadata": {},
   "outputs": [
    {
     "name": "stdout",
     "output_type": "stream",
     "text": [
      "nan\n",
      "0\n",
      "[-9.22337204e+18]\n"
     ]
    },
    {
     "name": "stderr",
     "output_type": "stream",
     "text": [
      "C:\\Users\\Bakir\\AppData\\Local\\Temp\\ipykernel_21752\\3331637747.py:2: RuntimeWarning: invalid value encountered in divide\n",
      "  print(np.array(0) / np.array(0))\n",
      "C:\\Users\\Bakir\\AppData\\Local\\Temp\\ipykernel_21752\\3331637747.py:5: RuntimeWarning: divide by zero encountered in floor_divide\n",
      "  print(np.array(0) // np.array(0))\n",
      "C:\\Users\\Bakir\\AppData\\Local\\Temp\\ipykernel_21752\\3331637747.py:8: RuntimeWarning: invalid value encountered in cast\n",
      "  print(np.array([np.nan]).astype(int).astype(float))\n"
     ]
    }
   ],
   "source": [
    "# Result 1: nan\n",
    "print(np.array(0) / np.array(0))\n",
    "\n",
    "# Result 2: 0\n",
    "print(np.array(0) // np.array(0))\n",
    "\n",
    "# Result 3: Very large negative number\n",
    "print(np.array([np.nan]).astype(int).astype(float))"
   ]
  },
  {
   "cell_type": "markdown",
   "id": "524b65f8",
   "metadata": {
    "id": "524b65f8"
   },
   "source": [
    "#### 29. How to round away from zero a float array ? (★☆☆)"
   ]
  },
  {
   "cell_type": "code",
   "execution_count": 219,
   "id": "xlfteji0avd",
   "metadata": {},
   "outputs": [
    {
     "name": "stdout",
     "output_type": "stream",
     "text": [
      "Original: [ 9.14268379  2.87512861 -7.52410001  8.08974101 -1.62522152  5.07262985\n",
      " -3.26116884 -3.72722279  3.74295846  1.68726593]\n",
      "Rounded away from zero: [10.  3. -8.  9. -2.  6. -4. -4.  4.  2.]\n"
     ]
    }
   ],
   "source": [
    "Z = np.random.uniform(-10, 10, 10)\n",
    "print(\"Original:\", Z)\n",
    "print(\"Rounded away from zero:\", np.copysign(np.ceil(np.abs(Z)), Z))"
   ]
  },
  {
   "cell_type": "markdown",
   "id": "8dc40752",
   "metadata": {
    "id": "8dc40752"
   },
   "source": [
    "#### 30. How to find common values between two arrays? (★☆☆)"
   ]
  },
  {
   "cell_type": "code",
   "execution_count": 220,
   "id": "54399cbe",
   "metadata": {
    "id": "54399cbe"
   },
   "outputs": [
    {
     "name": "stdout",
     "output_type": "stream",
     "text": [
      "Z1: [6 5 6 2 7 1 3 4 8 4]\n",
      "Z2: [6 3 5 6 7 5 2 0 4 5]\n",
      "Common values: [2 3 4 5 6 7]\n"
     ]
    }
   ],
   "source": [
    "Z1 = np.random.randint(0, 10, 10)\n",
    "Z2 = np.random.randint(0, 10, 10)\n",
    "print(\"Z1:\", Z1)\n",
    "print(\"Z2:\", Z2)\n",
    "print(\"Common values:\", np.intersect1d(Z1, Z2))"
   ]
  },
  {
   "cell_type": "markdown",
   "id": "b7f38e21",
   "metadata": {
    "id": "b7f38e21"
   },
   "source": [
    "#### 31. How to ignore all numpy warnings (not recommended)? (★☆☆)"
   ]
  },
  {
   "cell_type": "code",
   "execution_count": 221,
   "id": "2ca3289c",
   "metadata": {
    "id": "2ca3289c"
   },
   "outputs": [
    {
     "name": "stdout",
     "output_type": "stream",
     "text": [
      "Result: [inf]\n"
     ]
    }
   ],
   "source": [
    "defaults = np.seterr(all=\"ignore\")\n",
    "Z = np.ones(1) / 0\n",
    "print(\"Result:\", Z)\n",
    "_ = np.seterr(**defaults)"
   ]
  },
  {
   "cell_type": "markdown",
   "id": "2d850aab",
   "metadata": {
    "id": "2d850aab"
   },
   "source": [
    "#### 32. Is the following expressions true? (★☆☆)\n",
    "```python\n",
    "np.sqrt(-1) == np.emath.sqrt(-1)\n",
    "```"
   ]
  },
  {
   "cell_type": "code",
   "execution_count": 222,
   "id": "5c83ffce",
   "metadata": {
    "id": "5c83ffce"
   },
   "outputs": [
    {
     "name": "stdout",
     "output_type": "stream",
     "text": [
      "np.sqrt(-1): nan\n",
      "np.emath.sqrt(-1): 1j\n",
      "Are they equal? False\n"
     ]
    },
    {
     "name": "stderr",
     "output_type": "stream",
     "text": [
      "C:\\Users\\Bakir\\AppData\\Local\\Temp\\ipykernel_21752\\461198841.py:1: RuntimeWarning: invalid value encountered in sqrt\n",
      "  print(\"np.sqrt(-1):\", np.sqrt(-1))\n",
      "C:\\Users\\Bakir\\AppData\\Local\\Temp\\ipykernel_21752\\461198841.py:3: RuntimeWarning: invalid value encountered in sqrt\n",
      "  print(\"Are they equal?\", np.sqrt(-1) == np.emath.sqrt(-1))\n"
     ]
    }
   ],
   "source": [
    "print(\"np.sqrt(-1):\", np.sqrt(-1))\n",
    "print(\"np.emath.sqrt(-1):\", np.emath.sqrt(-1))\n",
    "print(\"Are they equal?\", np.sqrt(-1) == np.emath.sqrt(-1))"
   ]
  },
  {
   "cell_type": "markdown",
   "id": "5c4a556f",
   "metadata": {
    "id": "5c4a556f"
   },
   "source": [
    "#### 33. How to get the dates of yesterday, today and tomorrow? (★☆☆)"
   ]
  },
  {
   "cell_type": "code",
   "execution_count": 223,
   "id": "c3b683a0",
   "metadata": {
    "id": "c3b683a0"
   },
   "outputs": [
    {
     "name": "stdout",
     "output_type": "stream",
     "text": [
      "Yesterday: 2025-10-27\n",
      "Today: 2025-10-28\n",
      "Tomorrow: 2025-10-29\n"
     ]
    }
   ],
   "source": [
    "yesterday = np.datetime64('today', 'D') - np.timedelta64(1, 'D')\n",
    "today = np.datetime64('today', 'D')\n",
    "tomorrow = np.datetime64('today', 'D') + np.timedelta64(1, 'D')\n",
    "print(\"Yesterday:\", yesterday)\n",
    "print(\"Today:\", today)\n",
    "print(\"Tomorrow:\", tomorrow)"
   ]
  },
  {
   "cell_type": "markdown",
   "id": "453cdd64",
   "metadata": {
    "id": "453cdd64"
   },
   "source": [
    "#### 34. How to get all the dates corresponding to the month of July 2016? (★★☆)"
   ]
  },
  {
   "cell_type": "code",
   "execution_count": 224,
   "id": "4ba4d37c",
   "metadata": {
    "id": "4ba4d37c"
   },
   "outputs": [
    {
     "name": "stdout",
     "output_type": "stream",
     "text": [
      "July 2016 dates:\n",
      "['2016-07-01' '2016-07-02' '2016-07-03' '2016-07-04' '2016-07-05'\n",
      " '2016-07-06' '2016-07-07' '2016-07-08' '2016-07-09' '2016-07-10'\n",
      " '2016-07-11' '2016-07-12' '2016-07-13' '2016-07-14' '2016-07-15'\n",
      " '2016-07-16' '2016-07-17' '2016-07-18' '2016-07-19' '2016-07-20'\n",
      " '2016-07-21' '2016-07-22' '2016-07-23' '2016-07-24' '2016-07-25'\n",
      " '2016-07-26' '2016-07-27' '2016-07-28' '2016-07-29' '2016-07-30'\n",
      " '2016-07-31']\n"
     ]
    }
   ],
   "source": [
    "Z = np.arange('2016-07', '2016-08', dtype='datetime64[D]')\n",
    "print(\"July 2016 dates:\")\n",
    "print(Z)"
   ]
  },
  {
   "cell_type": "markdown",
   "id": "52667b6e",
   "metadata": {
    "id": "52667b6e"
   },
   "source": [
    "#### 35. How to compute ((A+B)*(-A/2)) in place (without copy)? (★★☆)"
   ]
  },
  {
   "cell_type": "code",
   "execution_count": 225,
   "id": "e6e7c030",
   "metadata": {
    "id": "e6e7c030"
   },
   "outputs": [
    {
     "name": "stdout",
     "output_type": "stream",
     "text": [
      "A: [1. 1. 1.]\n",
      "B: [2. 2. 2.]\n",
      "B after A+B: [3. 3. 3.]\n",
      "A after A/2: [0.5 0.5 0.5]\n",
      "A after -A: [-0.5 -0.5 -0.5]\n",
      "Final result: [-1.5 -1.5 -1.5]\n"
     ]
    }
   ],
   "source": [
    "A = np.ones(3) * 1\n",
    "B = np.ones(3) * 2\n",
    "print(\"A:\", A)\n",
    "print(\"B:\", B)\n",
    "np.add(A, B, out=B)\n",
    "print(\"B after A+B:\", B)\n",
    "np.divide(A, 2, out=A)\n",
    "print(\"A after A/2:\", A)\n",
    "np.negative(A, out=A)\n",
    "print(\"A after -A:\", A)\n",
    "np.multiply(A, B, out=A)\n",
    "print(\"Final result:\", A)"
   ]
  },
  {
   "cell_type": "markdown",
   "id": "9a8f3738",
   "metadata": {
    "id": "9a8f3738"
   },
   "source": [
    "#### 36. Extract the integer part of a random array of positive numbers using 4 different methods (★★☆)"
   ]
  },
  {
   "cell_type": "code",
   "execution_count": 226,
   "id": "368a801a",
   "metadata": {
    "id": "368a801a"
   },
   "outputs": [
    {
     "name": "stdout",
     "output_type": "stream",
     "text": [
      "Original: [3.03244086 1.107693   4.77927687 1.30530307 6.79136444 5.83828254\n",
      " 2.91622706 0.6419033  4.85500308 6.42604719]\n",
      "Method 1 (Z - Z%1): [3. 1. 4. 1. 6. 5. 2. 0. 4. 6.]\n",
      "Method 2 (floor): [3. 1. 4. 1. 6. 5. 2. 0. 4. 6.]\n",
      "Method 3 (ceil-1): [3. 1. 4. 1. 6. 5. 2. 0. 4. 6.]\n",
      "Method 4 (astype): [3 1 4 1 6 5 2 0 4 6]\n"
     ]
    }
   ],
   "source": [
    "Z = np.random.uniform(0, 10, 10)\n",
    "print(\"Original:\", Z)\n",
    "print(\"Method 1 (Z - Z%1):\", Z - Z%1)\n",
    "print(\"Method 2 (floor):\", np.floor(Z))\n",
    "print(\"Method 3 (ceil-1):\", np.ceil(Z)-1)\n",
    "print(\"Method 4 (astype):\", Z.astype(int))"
   ]
  },
  {
   "cell_type": "markdown",
   "id": "cab1eed1",
   "metadata": {
    "id": "cab1eed1"
   },
   "source": [
    "#### 37. Create a 5x5 matrix with row values ranging from 0 to 4 (★★☆)"
   ]
  },
  {
   "cell_type": "code",
   "execution_count": 227,
   "id": "f1b579ba",
   "metadata": {
    "id": "f1b579ba"
   },
   "outputs": [
    {
     "name": "stdout",
     "output_type": "stream",
     "text": [
      "Matrix with row values 0-4:\n",
      "[[0. 1. 2. 3. 4.]\n",
      " [0. 1. 2. 3. 4.]\n",
      " [0. 1. 2. 3. 4.]\n",
      " [0. 1. 2. 3. 4.]\n",
      " [0. 1. 2. 3. 4.]]\n"
     ]
    }
   ],
   "source": [
    "Z = np.zeros((5, 5))\n",
    "Z += np.arange(5)\n",
    "print(\"Matrix with row values 0-4:\")\n",
    "print(Z)"
   ]
  },
  {
   "cell_type": "markdown",
   "id": "cd0ce6b1",
   "metadata": {
    "id": "cd0ce6b1"
   },
   "source": [
    "#### 38. Consider a generator function that generates 10 integers and use it to build an array (★☆☆)"
   ]
  },
  {
   "cell_type": "code",
   "execution_count": 228,
   "id": "aab193a6",
   "metadata": {
    "id": "aab193a6"
   },
   "outputs": [
    {
     "name": "stdout",
     "output_type": "stream",
     "text": [
      "Array from generator: [0. 1. 2. 3. 4. 5. 6. 7. 8. 9.]\n"
     ]
    }
   ],
   "source": [
    "def generate():\n",
    "    for x in range(10):\n",
    "        yield x\n",
    "\n",
    "Z = np.fromiter(generate(), dtype=float, count=-1)\n",
    "print(\"Array from generator:\", Z)"
   ]
  },
  {
   "cell_type": "markdown",
   "id": "c4c942d1",
   "metadata": {
    "id": "c4c942d1"
   },
   "source": [
    "#### 39. Create a vector of size 10 with values ranging from 0 to 1, both excluded (★★☆)"
   ]
  },
  {
   "cell_type": "code",
   "execution_count": 229,
   "id": "e42eaa4b",
   "metadata": {
    "id": "e42eaa4b"
   },
   "outputs": [
    {
     "name": "stdout",
     "output_type": "stream",
     "text": [
      "Vector (0 to 1 excluded): [0.09090909 0.18181818 0.27272727 0.36363636 0.45454545 0.54545455\n",
      " 0.63636364 0.72727273 0.81818182 0.90909091]\n"
     ]
    }
   ],
   "source": [
    "Z = np.linspace(0, 1, 12)[1:-1]\n",
    "print(\"Vector (0 to 1 excluded):\", Z)"
   ]
  },
  {
   "cell_type": "markdown",
   "id": "9b3cb8d2",
   "metadata": {
    "id": "9b3cb8d2"
   },
   "source": [
    "#### 40. Create a random vector of size 10 and sort it (★★☆)"
   ]
  },
  {
   "cell_type": "code",
   "execution_count": 230,
   "id": "37d2b341",
   "metadata": {
    "id": "37d2b341"
   },
   "outputs": [
    {
     "name": "stdout",
     "output_type": "stream",
     "text": [
      "Before sort: [0.81314271 0.02592778 0.87147617 0.38181591 0.6321656  0.05171749\n",
      " 0.15729954 0.30990624 0.09680805 0.71742814]\n",
      "After sort: [0.02592778 0.05171749 0.09680805 0.15729954 0.30990624 0.38181591\n",
      " 0.6321656  0.71742814 0.81314271 0.87147617]\n"
     ]
    }
   ],
   "source": [
    "Z = np.random.random(10)\n",
    "print(\"Before sort:\", Z)\n",
    "Z.sort()\n",
    "print(\"After sort:\", Z)"
   ]
  },
  {
   "cell_type": "markdown",
   "id": "2facfddc",
   "metadata": {
    "id": "2facfddc"
   },
   "source": [
    "#### 41. How to sum a small array faster than np.sum? (★★☆)"
   ]
  },
  {
   "cell_type": "code",
   "execution_count": 231,
   "id": "4bb8864f",
   "metadata": {
    "id": "4bb8864f"
   },
   "outputs": [
    {
     "name": "stdout",
     "output_type": "stream",
     "text": [
      "Array: [0 1 2 3 4 5 6 7 8 9]\n",
      "Sum using add.reduce: 45\n"
     ]
    }
   ],
   "source": [
    "Z = np.arange(10)\n",
    "print(\"Array:\", Z)\n",
    "print(\"Sum using add.reduce:\", np.add.reduce(Z))"
   ]
  },
  {
   "cell_type": "markdown",
   "id": "539cd2a5",
   "metadata": {
    "id": "539cd2a5"
   },
   "source": [
    "#### 42. Consider two random array A and B, check if they are equal (★★☆)"
   ]
  },
  {
   "cell_type": "code",
   "execution_count": 232,
   "id": "5246d7bf",
   "metadata": {
    "id": "5246d7bf"
   },
   "outputs": [
    {
     "name": "stdout",
     "output_type": "stream",
     "text": [
      "A: [0 1 1 0 0]\n",
      "B: [1 0 0 0 0]\n",
      "Are they equal? False\n"
     ]
    }
   ],
   "source": [
    "A = np.random.randint(0, 2, 5)\n",
    "B = np.random.randint(0, 2, 5)\n",
    "print(\"A:\", A)\n",
    "print(\"B:\", B)\n",
    "print(\"Are they equal?\", np.allclose(A, B))"
   ]
  },
  {
   "cell_type": "markdown",
   "id": "448f8274",
   "metadata": {
    "id": "448f8274"
   },
   "source": [
    "#### 43. Make an array immutable (read-only) (★★☆)"
   ]
  },
  {
   "cell_type": "code",
   "execution_count": 233,
   "id": "7cf2b3dd",
   "metadata": {
    "id": "7cf2b3dd"
   },
   "outputs": [
    {
     "name": "stdout",
     "output_type": "stream",
     "text": [
      "Array is now read-only\n",
      "Z: [0. 0. 0. 0. 0. 0. 0. 0. 0. 0.]\n"
     ]
    }
   ],
   "source": [
    "Z = np.zeros(10)\n",
    "Z.flags.writeable = False\n",
    "print(\"Array is now read-only\")\n",
    "print(\"Z:\", Z)"
   ]
  },
  {
   "cell_type": "markdown",
   "id": "d7b7aaf3",
   "metadata": {
    "id": "d7b7aaf3"
   },
   "source": [
    "#### 44. Consider a random 10x2 matrix representing cartesian coordinates, convert them to polar coordinates (★★☆)"
   ]
  },
  {
   "cell_type": "code",
   "execution_count": 234,
   "id": "e2337585",
   "metadata": {
    "id": "e2337585"
   },
   "outputs": [
    {
     "name": "stdout",
     "output_type": "stream",
     "text": [
      "Cartesian coordinates:\n",
      "[[0.32299202 0.99696063]\n",
      " [0.58405797 0.6274097 ]\n",
      " [0.67712502 0.58357462]\n",
      " [0.10209097 0.20825361]\n",
      " [0.90968128 0.96368284]\n",
      " [0.71869314 0.93025251]\n",
      " [0.66502442 0.097762  ]\n",
      " [0.81221442 0.73036275]\n",
      " [0.9609105  0.58545469]\n",
      " [0.57099904 0.77739434]]\n",
      "Polar R (radius): [1.04797631 0.8571853  0.89390023 0.23193131 1.32521872 1.17553799\n",
      " 0.67217177 1.09230124 1.12521384 0.96456304]\n",
      "Polar T (angle): [1.25749024 0.82116737 0.71132877 1.11499987 0.81421616 0.91300084\n",
      " 0.1459597  0.73238624 0.54720838 0.93728682]\n"
     ]
    }
   ],
   "source": [
    "Z = np.random.random((10, 2))\n",
    "print(\"Cartesian coordinates:\")\n",
    "print(Z)\n",
    "X, Y = Z[:, 0], Z[:, 1]\n",
    "R = np.sqrt(X**2 + Y**2)\n",
    "T = np.arctan2(Y, X)\n",
    "print(\"Polar R (radius):\", R)\n",
    "print(\"Polar T (angle):\", T)"
   ]
  },
  {
   "cell_type": "markdown",
   "id": "a556027a",
   "metadata": {
    "id": "a556027a"
   },
   "source": [
    "#### 45. Create random vector of size 10 and replace the maximum value by 0 (★★☆)"
   ]
  },
  {
   "cell_type": "code",
   "execution_count": 235,
   "id": "9e07cb87",
   "metadata": {
    "id": "9e07cb87"
   },
   "outputs": [
    {
     "name": "stdout",
     "output_type": "stream",
     "text": [
      "Original: [0.06644356 0.05248633 0.76406391 0.75217609 0.78216357 0.75165518\n",
      " 0.57272453 0.79227946 0.96937    0.42007742]\n",
      "Max index: 8\n",
      "After replacing max: [0.06644356 0.05248633 0.76406391 0.75217609 0.78216357 0.75165518\n",
      " 0.57272453 0.79227946 0.         0.42007742]\n"
     ]
    }
   ],
   "source": [
    "Z = np.random.random(10)\n",
    "print(\"Original:\", Z)\n",
    "print(\"Max index:\", Z.argmax())\n",
    "Z[Z.argmax()] = 0\n",
    "print(\"After replacing max:\", Z)"
   ]
  },
  {
   "cell_type": "markdown",
   "id": "004f3da1",
   "metadata": {
    "id": "004f3da1"
   },
   "source": [
    "#### 46. Create a structured array with `x` and `y` coordinates covering the [0,1]x[0,1] area (★★☆)"
   ]
  },
  {
   "cell_type": "code",
   "execution_count": 236,
   "id": "b3824741",
   "metadata": {
    "id": "b3824741"
   },
   "outputs": [
    {
     "name": "stdout",
     "output_type": "stream",
     "text": [
      "Structured array with x,y coordinates:\n",
      "[[(0.  , 0.  ) (0.25, 0.  ) (0.5 , 0.  ) (0.75, 0.  ) (1.  , 0.  )]\n",
      " [(0.  , 0.25) (0.25, 0.25) (0.5 , 0.25) (0.75, 0.25) (1.  , 0.25)]\n",
      " [(0.  , 0.5 ) (0.25, 0.5 ) (0.5 , 0.5 ) (0.75, 0.5 ) (1.  , 0.5 )]\n",
      " [(0.  , 0.75) (0.25, 0.75) (0.5 , 0.75) (0.75, 0.75) (1.  , 0.75)]\n",
      " [(0.  , 1.  ) (0.25, 1.  ) (0.5 , 1.  ) (0.75, 1.  ) (1.  , 1.  )]]\n"
     ]
    }
   ],
   "source": [
    "Z = np.zeros((5, 5), [('x', float), ('y', float)])\n",
    "Z['x'], Z['y'] = np.meshgrid(np.linspace(0, 1, 5), np.linspace(0, 1, 5))\n",
    "print(\"Structured array with x,y coordinates:\")\n",
    "print(Z)"
   ]
  },
  {
   "cell_type": "markdown",
   "id": "1c0adc0d",
   "metadata": {
    "id": "1c0adc0d"
   },
   "source": [
    "#### 47. Given two arrays, X and Y, construct the Cauchy matrix C (Cij =1/(xi - yj)) (★★☆)"
   ]
  },
  {
   "cell_type": "code",
   "execution_count": 237,
   "id": "01b3bbb7",
   "metadata": {
    "id": "01b3bbb7"
   },
   "outputs": [
    {
     "name": "stdout",
     "output_type": "stream",
     "text": [
      "X: [0 1 2 3 4 5 6 7]\n",
      "Y: [0.5 1.5 2.5 3.5 4.5 5.5 6.5 7.5]\n",
      "Cauchy matrix:\n",
      "[[-2.         -0.66666667 -0.4        -0.28571429 -0.22222222 -0.18181818\n",
      "  -0.15384615 -0.13333333]\n",
      " [ 2.         -2.         -0.66666667 -0.4        -0.28571429 -0.22222222\n",
      "  -0.18181818 -0.15384615]\n",
      " [ 0.66666667  2.         -2.         -0.66666667 -0.4        -0.28571429\n",
      "  -0.22222222 -0.18181818]\n",
      " [ 0.4         0.66666667  2.         -2.         -0.66666667 -0.4\n",
      "  -0.28571429 -0.22222222]\n",
      " [ 0.28571429  0.4         0.66666667  2.         -2.         -0.66666667\n",
      "  -0.4        -0.28571429]\n",
      " [ 0.22222222  0.28571429  0.4         0.66666667  2.         -2.\n",
      "  -0.66666667 -0.4       ]\n",
      " [ 0.18181818  0.22222222  0.28571429  0.4         0.66666667  2.\n",
      "  -2.         -0.66666667]\n",
      " [ 0.15384615  0.18181818  0.22222222  0.28571429  0.4         0.66666667\n",
      "   2.         -2.        ]]\n"
     ]
    }
   ],
   "source": [
    "X = np.arange(8)\n",
    "Y = X + 0.5\n",
    "print(\"X:\", X)\n",
    "print(\"Y:\", Y)\n",
    "C = 1.0 / np.subtract.outer(X, Y)\n",
    "print(\"Cauchy matrix:\")\n",
    "print(C)"
   ]
  },
  {
   "cell_type": "markdown",
   "id": "c8a2f65a",
   "metadata": {
    "id": "c8a2f65a"
   },
   "source": [
    "#### 48. Print the minimum and maximum representable value for each numpy scalar type (★★☆)"
   ]
  },
  {
   "cell_type": "code",
   "execution_count": 238,
   "id": "35d844d6",
   "metadata": {
    "id": "35d844d6"
   },
   "outputs": [
    {
     "name": "stdout",
     "output_type": "stream",
     "text": [
      "int8: min=-128, max=127\n",
      "int32: min=-2147483648, max=2147483647\n",
      "int64: min=-9223372036854775808, max=9223372036854775807\n",
      "float32: min=-3.4028234663852886e+38, max=3.4028234663852886e+38\n",
      "float64: min=-1.7976931348623157e+308, max=1.7976931348623157e+308\n"
     ]
    }
   ],
   "source": [
    "for dtype in [np.int8, np.int32, np.int64]:\n",
    "    print(f\"{dtype.__name__}: min={np.iinfo(dtype).min}, max={np.iinfo(dtype).max}\")\n",
    "for dtype in [np.float32, np.float64]:\n",
    "    print(f\"{dtype.__name__}: min={np.finfo(dtype).min}, max={np.finfo(dtype).max}\")"
   ]
  },
  {
   "cell_type": "markdown",
   "id": "11727a69",
   "metadata": {
    "id": "11727a69"
   },
   "source": [
    "#### 49. How to print all the values of an array? (★★☆)"
   ]
  },
  {
   "cell_type": "code",
   "execution_count": 239,
   "id": "47e98473",
   "metadata": {
    "id": "47e98473"
   },
   "outputs": [
    {
     "name": "stdout",
     "output_type": "stream",
     "text": [
      "[[0. 0. 0. 0. 0. 0. 0. 0. 0. 0. 0. 0. 0. 0. 0. 0. 0. 0. 0. 0. 0. 0. 0. 0.\n",
      "  0. 0. 0. 0. 0. 0. 0. 0. 0. 0. 0. 0. 0. 0. 0. 0.]\n",
      " [0. 0. 0. 0. 0. 0. 0. 0. 0. 0. 0. 0. 0. 0. 0. 0. 0. 0. 0. 0. 0. 0. 0. 0.\n",
      "  0. 0. 0. 0. 0. 0. 0. 0. 0. 0. 0. 0. 0. 0. 0. 0.]\n",
      " [0. 0. 0. 0. 0. 0. 0. 0. 0. 0. 0. 0. 0. 0. 0. 0. 0. 0. 0. 0. 0. 0. 0. 0.\n",
      "  0. 0. 0. 0. 0. 0. 0. 0. 0. 0. 0. 0. 0. 0. 0. 0.]\n",
      " [0. 0. 0. 0. 0. 0. 0. 0. 0. 0. 0. 0. 0. 0. 0. 0. 0. 0. 0. 0. 0. 0. 0. 0.\n",
      "  0. 0. 0. 0. 0. 0. 0. 0. 0. 0. 0. 0. 0. 0. 0. 0.]\n",
      " [0. 0. 0. 0. 0. 0. 0. 0. 0. 0. 0. 0. 0. 0. 0. 0. 0. 0. 0. 0. 0. 0. 0. 0.\n",
      "  0. 0. 0. 0. 0. 0. 0. 0. 0. 0. 0. 0. 0. 0. 0. 0.]\n",
      " [0. 0. 0. 0. 0. 0. 0. 0. 0. 0. 0. 0. 0. 0. 0. 0. 0. 0. 0. 0. 0. 0. 0. 0.\n",
      "  0. 0. 0. 0. 0. 0. 0. 0. 0. 0. 0. 0. 0. 0. 0. 0.]\n",
      " [0. 0. 0. 0. 0. 0. 0. 0. 0. 0. 0. 0. 0. 0. 0. 0. 0. 0. 0. 0. 0. 0. 0. 0.\n",
      "  0. 0. 0. 0. 0. 0. 0. 0. 0. 0. 0. 0. 0. 0. 0. 0.]\n",
      " [0. 0. 0. 0. 0. 0. 0. 0. 0. 0. 0. 0. 0. 0. 0. 0. 0. 0. 0. 0. 0. 0. 0. 0.\n",
      "  0. 0. 0. 0. 0. 0. 0. 0. 0. 0. 0. 0. 0. 0. 0. 0.]\n",
      " [0. 0. 0. 0. 0. 0. 0. 0. 0. 0. 0. 0. 0. 0. 0. 0. 0. 0. 0. 0. 0. 0. 0. 0.\n",
      "  0. 0. 0. 0. 0. 0. 0. 0. 0. 0. 0. 0. 0. 0. 0. 0.]\n",
      " [0. 0. 0. 0. 0. 0. 0. 0. 0. 0. 0. 0. 0. 0. 0. 0. 0. 0. 0. 0. 0. 0. 0. 0.\n",
      "  0. 0. 0. 0. 0. 0. 0. 0. 0. 0. 0. 0. 0. 0. 0. 0.]\n",
      " [0. 0. 0. 0. 0. 0. 0. 0. 0. 0. 0. 0. 0. 0. 0. 0. 0. 0. 0. 0. 0. 0. 0. 0.\n",
      "  0. 0. 0. 0. 0. 0. 0. 0. 0. 0. 0. 0. 0. 0. 0. 0.]\n",
      " [0. 0. 0. 0. 0. 0. 0. 0. 0. 0. 0. 0. 0. 0. 0. 0. 0. 0. 0. 0. 0. 0. 0. 0.\n",
      "  0. 0. 0. 0. 0. 0. 0. 0. 0. 0. 0. 0. 0. 0. 0. 0.]\n",
      " [0. 0. 0. 0. 0. 0. 0. 0. 0. 0. 0. 0. 0. 0. 0. 0. 0. 0. 0. 0. 0. 0. 0. 0.\n",
      "  0. 0. 0. 0. 0. 0. 0. 0. 0. 0. 0. 0. 0. 0. 0. 0.]\n",
      " [0. 0. 0. 0. 0. 0. 0. 0. 0. 0. 0. 0. 0. 0. 0. 0. 0. 0. 0. 0. 0. 0. 0. 0.\n",
      "  0. 0. 0. 0. 0. 0. 0. 0. 0. 0. 0. 0. 0. 0. 0. 0.]\n",
      " [0. 0. 0. 0. 0. 0. 0. 0. 0. 0. 0. 0. 0. 0. 0. 0. 0. 0. 0. 0. 0. 0. 0. 0.\n",
      "  0. 0. 0. 0. 0. 0. 0. 0. 0. 0. 0. 0. 0. 0. 0. 0.]\n",
      " [0. 0. 0. 0. 0. 0. 0. 0. 0. 0. 0. 0. 0. 0. 0. 0. 0. 0. 0. 0. 0. 0. 0. 0.\n",
      "  0. 0. 0. 0. 0. 0. 0. 0. 0. 0. 0. 0. 0. 0. 0. 0.]\n",
      " [0. 0. 0. 0. 0. 0. 0. 0. 0. 0. 0. 0. 0. 0. 0. 0. 0. 0. 0. 0. 0. 0. 0. 0.\n",
      "  0. 0. 0. 0. 0. 0. 0. 0. 0. 0. 0. 0. 0. 0. 0. 0.]\n",
      " [0. 0. 0. 0. 0. 0. 0. 0. 0. 0. 0. 0. 0. 0. 0. 0. 0. 0. 0. 0. 0. 0. 0. 0.\n",
      "  0. 0. 0. 0. 0. 0. 0. 0. 0. 0. 0. 0. 0. 0. 0. 0.]\n",
      " [0. 0. 0. 0. 0. 0. 0. 0. 0. 0. 0. 0. 0. 0. 0. 0. 0. 0. 0. 0. 0. 0. 0. 0.\n",
      "  0. 0. 0. 0. 0. 0. 0. 0. 0. 0. 0. 0. 0. 0. 0. 0.]\n",
      " [0. 0. 0. 0. 0. 0. 0. 0. 0. 0. 0. 0. 0. 0. 0. 0. 0. 0. 0. 0. 0. 0. 0. 0.\n",
      "  0. 0. 0. 0. 0. 0. 0. 0. 0. 0. 0. 0. 0. 0. 0. 0.]\n",
      " [0. 0. 0. 0. 0. 0. 0. 0. 0. 0. 0. 0. 0. 0. 0. 0. 0. 0. 0. 0. 0. 0. 0. 0.\n",
      "  0. 0. 0. 0. 0. 0. 0. 0. 0. 0. 0. 0. 0. 0. 0. 0.]\n",
      " [0. 0. 0. 0. 0. 0. 0. 0. 0. 0. 0. 0. 0. 0. 0. 0. 0. 0. 0. 0. 0. 0. 0. 0.\n",
      "  0. 0. 0. 0. 0. 0. 0. 0. 0. 0. 0. 0. 0. 0. 0. 0.]\n",
      " [0. 0. 0. 0. 0. 0. 0. 0. 0. 0. 0. 0. 0. 0. 0. 0. 0. 0. 0. 0. 0. 0. 0. 0.\n",
      "  0. 0. 0. 0. 0. 0. 0. 0. 0. 0. 0. 0. 0. 0. 0. 0.]\n",
      " [0. 0. 0. 0. 0. 0. 0. 0. 0. 0. 0. 0. 0. 0. 0. 0. 0. 0. 0. 0. 0. 0. 0. 0.\n",
      "  0. 0. 0. 0. 0. 0. 0. 0. 0. 0. 0. 0. 0. 0. 0. 0.]\n",
      " [0. 0. 0. 0. 0. 0. 0. 0. 0. 0. 0. 0. 0. 0. 0. 0. 0. 0. 0. 0. 0. 0. 0. 0.\n",
      "  0. 0. 0. 0. 0. 0. 0. 0. 0. 0. 0. 0. 0. 0. 0. 0.]\n",
      " [0. 0. 0. 0. 0. 0. 0. 0. 0. 0. 0. 0. 0. 0. 0. 0. 0. 0. 0. 0. 0. 0. 0. 0.\n",
      "  0. 0. 0. 0. 0. 0. 0. 0. 0. 0. 0. 0. 0. 0. 0. 0.]\n",
      " [0. 0. 0. 0. 0. 0. 0. 0. 0. 0. 0. 0. 0. 0. 0. 0. 0. 0. 0. 0. 0. 0. 0. 0.\n",
      "  0. 0. 0. 0. 0. 0. 0. 0. 0. 0. 0. 0. 0. 0. 0. 0.]\n",
      " [0. 0. 0. 0. 0. 0. 0. 0. 0. 0. 0. 0. 0. 0. 0. 0. 0. 0. 0. 0. 0. 0. 0. 0.\n",
      "  0. 0. 0. 0. 0. 0. 0. 0. 0. 0. 0. 0. 0. 0. 0. 0.]\n",
      " [0. 0. 0. 0. 0. 0. 0. 0. 0. 0. 0. 0. 0. 0. 0. 0. 0. 0. 0. 0. 0. 0. 0. 0.\n",
      "  0. 0. 0. 0. 0. 0. 0. 0. 0. 0. 0. 0. 0. 0. 0. 0.]\n",
      " [0. 0. 0. 0. 0. 0. 0. 0. 0. 0. 0. 0. 0. 0. 0. 0. 0. 0. 0. 0. 0. 0. 0. 0.\n",
      "  0. 0. 0. 0. 0. 0. 0. 0. 0. 0. 0. 0. 0. 0. 0. 0.]\n",
      " [0. 0. 0. 0. 0. 0. 0. 0. 0. 0. 0. 0. 0. 0. 0. 0. 0. 0. 0. 0. 0. 0. 0. 0.\n",
      "  0. 0. 0. 0. 0. 0. 0. 0. 0. 0. 0. 0. 0. 0. 0. 0.]\n",
      " [0. 0. 0. 0. 0. 0. 0. 0. 0. 0. 0. 0. 0. 0. 0. 0. 0. 0. 0. 0. 0. 0. 0. 0.\n",
      "  0. 0. 0. 0. 0. 0. 0. 0. 0. 0. 0. 0. 0. 0. 0. 0.]\n",
      " [0. 0. 0. 0. 0. 0. 0. 0. 0. 0. 0. 0. 0. 0. 0. 0. 0. 0. 0. 0. 0. 0. 0. 0.\n",
      "  0. 0. 0. 0. 0. 0. 0. 0. 0. 0. 0. 0. 0. 0. 0. 0.]\n",
      " [0. 0. 0. 0. 0. 0. 0. 0. 0. 0. 0. 0. 0. 0. 0. 0. 0. 0. 0. 0. 0. 0. 0. 0.\n",
      "  0. 0. 0. 0. 0. 0. 0. 0. 0. 0. 0. 0. 0. 0. 0. 0.]\n",
      " [0. 0. 0. 0. 0. 0. 0. 0. 0. 0. 0. 0. 0. 0. 0. 0. 0. 0. 0. 0. 0. 0. 0. 0.\n",
      "  0. 0. 0. 0. 0. 0. 0. 0. 0. 0. 0. 0. 0. 0. 0. 0.]\n",
      " [0. 0. 0. 0. 0. 0. 0. 0. 0. 0. 0. 0. 0. 0. 0. 0. 0. 0. 0. 0. 0. 0. 0. 0.\n",
      "  0. 0. 0. 0. 0. 0. 0. 0. 0. 0. 0. 0. 0. 0. 0. 0.]\n",
      " [0. 0. 0. 0. 0. 0. 0. 0. 0. 0. 0. 0. 0. 0. 0. 0. 0. 0. 0. 0. 0. 0. 0. 0.\n",
      "  0. 0. 0. 0. 0. 0. 0. 0. 0. 0. 0. 0. 0. 0. 0. 0.]\n",
      " [0. 0. 0. 0. 0. 0. 0. 0. 0. 0. 0. 0. 0. 0. 0. 0. 0. 0. 0. 0. 0. 0. 0. 0.\n",
      "  0. 0. 0. 0. 0. 0. 0. 0. 0. 0. 0. 0. 0. 0. 0. 0.]\n",
      " [0. 0. 0. 0. 0. 0. 0. 0. 0. 0. 0. 0. 0. 0. 0. 0. 0. 0. 0. 0. 0. 0. 0. 0.\n",
      "  0. 0. 0. 0. 0. 0. 0. 0. 0. 0. 0. 0. 0. 0. 0. 0.]\n",
      " [0. 0. 0. 0. 0. 0. 0. 0. 0. 0. 0. 0. 0. 0. 0. 0. 0. 0. 0. 0. 0. 0. 0. 0.\n",
      "  0. 0. 0. 0. 0. 0. 0. 0. 0. 0. 0. 0. 0. 0. 0. 0.]]\n"
     ]
    }
   ],
   "source": [
    "np.set_printoptions(threshold=np.inf)\n",
    "Z = np.zeros((40, 40))\n",
    "print(Z)"
   ]
  },
  {
   "cell_type": "markdown",
   "id": "e0e7d741",
   "metadata": {
    "id": "e0e7d741"
   },
   "source": [
    "#### 50. How to find the closest value (to a given scalar) in a vector? (★★☆)"
   ]
  },
  {
   "cell_type": "code",
   "execution_count": 240,
   "id": "62cabf6f",
   "metadata": {
    "id": "62cabf6f"
   },
   "outputs": [
    {
     "name": "stdout",
     "output_type": "stream",
     "text": [
      "Array: [ 0  1  2  3  4  5  6  7  8  9 10 11 12 13 14 15 16 17 18 19 20 21 22 23\n",
      " 24 25 26 27 28 29 30 31 32 33 34 35 36 37 38 39 40 41 42 43 44 45 46 47\n",
      " 48 49 50 51 52 53 54 55 56 57 58 59 60 61 62 63 64 65 66 67 68 69 70 71\n",
      " 72 73 74 75 76 77 78 79 80 81 82 83 84 85 86 87 88 89 90 91 92 93 94 95\n",
      " 96 97 98 99]\n",
      "Target value: 10.308308697313851\n",
      "Closest value: 10\n"
     ]
    }
   ],
   "source": [
    "Z = np.arange(100)\n",
    "v = np.random.uniform(0, 100)\n",
    "print(\"Array:\", Z)\n",
    "print(\"Target value:\", v)\n",
    "index = (np.abs(Z - v)).argmin()\n",
    "print(\"Closest value:\", Z[index])"
   ]
  },
  {
   "cell_type": "markdown",
   "id": "c5611b9e",
   "metadata": {
    "id": "c5611b9e"
   },
   "source": [
    "#### 51. Create a structured array representing a position (x,y) and a color (r,g,b) (★★☆)"
   ]
  },
  {
   "cell_type": "code",
   "execution_count": 241,
   "id": "f622939d",
   "metadata": {
    "id": "f622939d"
   },
   "outputs": [
    {
     "name": "stdout",
     "output_type": "stream",
     "text": [
      "[((0., 0.), (0., 0., 0.)) ((0., 0.), (0., 0., 0.))\n",
      " ((0., 0.), (0., 0., 0.)) ((0., 0.), (0., 0., 0.))\n",
      " ((0., 0.), (0., 0., 0.)) ((0., 0.), (0., 0., 0.))\n",
      " ((0., 0.), (0., 0., 0.)) ((0., 0.), (0., 0., 0.))\n",
      " ((0., 0.), (0., 0., 0.)) ((0., 0.), (0., 0., 0.))]\n"
     ]
    }
   ],
   "source": [
    "Z = np.zeros(10, [('position', [('x', float), ('y', float)]), ('color', [('r', float), ('g', float), ('b', float)])])\n",
    "print(Z)"
   ]
  },
  {
   "cell_type": "markdown",
   "id": "d22b8574",
   "metadata": {
    "id": "d22b8574"
   },
   "source": [
    "#### 52. Consider a random vector with shape (100,2) representing coordinates, find point by point distances (★★☆)"
   ]
  },
  {
   "cell_type": "code",
   "execution_count": 242,
   "id": "d5c9cdf8",
   "metadata": {
    "id": "d5c9cdf8"
   },
   "outputs": [
    {
     "name": "stdout",
     "output_type": "stream",
     "text": [
      "[[0.         0.09222849 0.36907689 0.60252575 0.32607212 0.2999135\n",
      "  0.84325962 0.78517793 0.65551714 0.06931742]\n",
      " [0.09222849 0.         0.36626926 0.65328591 0.30113258 0.38013331\n",
      "  0.89926539 0.8125019  0.70475879 0.05477093]\n",
      " [0.36907689 0.36626926 0.         0.39029069 0.09884037 0.36546954\n",
      "  0.63134214 0.46810912 0.42879751 0.32361478]\n",
      " [0.60252575 0.65328591 0.39029069 0.         0.48527836 0.3600768\n",
      "  0.24906884 0.26252927 0.05386615 0.59871689]\n",
      " [0.32607212 0.30113258 0.09884037 0.48527836 0.         0.40293083\n",
      "  0.7286932  0.56371413 0.5256784  0.26834664]\n",
      " [0.2999135  0.38013331 0.36546954 0.3600768  0.40293083 0.\n",
      "  0.57454451 0.598406   0.41307202 0.33020563]\n",
      " [0.84325962 0.89926539 0.63134214 0.24906884 0.7286932  0.57454451\n",
      "  0.         0.30077346 0.20332741 0.84452283]\n",
      " [0.78517793 0.8125019  0.46810912 0.26252927 0.56371413 0.598406\n",
      "  0.30077346 0.         0.22652995 0.76168902]\n",
      " [0.65551714 0.70475879 0.42879751 0.05386615 0.5256784  0.41307202\n",
      "  0.20332741 0.22652995 0.         0.6503187 ]\n",
      " [0.06931742 0.05477093 0.32361478 0.59871689 0.26834664 0.33020563\n",
      "  0.84452283 0.76168902 0.6503187  0.        ]]\n"
     ]
    }
   ],
   "source": [
    "Z = np.random.random((10, 2))\n",
    "X, Y = np.atleast_2d(Z[:,0], Z[:,1])\n",
    "D = np.sqrt((X - X.T)**2 + (Y - Y.T)**2)\n",
    "print(D)"
   ]
  },
  {
   "cell_type": "markdown",
   "id": "f5c164f2",
   "metadata": {
    "id": "f5c164f2"
   },
   "source": [
    "#### 53. How to convert a float (32 bits) array into an integer (32 bits) in place?"
   ]
  },
  {
   "cell_type": "code",
   "execution_count": 243,
   "id": "ea262de8",
   "metadata": {
    "id": "ea262de8"
   },
   "outputs": [
    {
     "name": "stdout",
     "output_type": "stream",
     "text": [
      "Original: float32\n",
      "New dtype: int32\n"
     ]
    }
   ],
   "source": [
    "Z = np.arange(10, dtype=np.float32)\n",
    "print(\"Original:\", Z.dtype)\n",
    "Z = Z.view(np.int32)\n",
    "print(\"New dtype:\", Z.dtype)"
   ]
  },
  {
   "cell_type": "markdown",
   "id": "a8b7e6f5",
   "metadata": {
    "id": "a8b7e6f5"
   },
   "source": [
    "#### 54. How to read the following file? (★★☆)\n",
    "```\n",
    "1, 2, 3, 4, 5\n",
    "6,  ,  , 7, 8\n",
    " ,  , 9,10,11\n",
    "```"
   ]
  },
  {
   "cell_type": "code",
   "execution_count": 244,
   "id": "bde0538a",
   "metadata": {
    "id": "bde0538a"
   },
   "outputs": [
    {
     "name": "stdout",
     "output_type": "stream",
     "text": [
      "[[ 1  2  3  4  5]\n",
      " [ 6 -1 -1  7  8]\n",
      " [-1 -1  9 10 11]]\n"
     ]
    }
   ],
   "source": [
    "from io import StringIO\n",
    "s = StringIO('''1, 2, 3, 4, 5\n",
    "6,  ,  , 7, 8\n",
    " ,  , 9,10,11''')\n",
    "Z = np.genfromtxt(s, delimiter=\",\", dtype=np.int32)\n",
    "print(Z)"
   ]
  },
  {
   "cell_type": "markdown",
   "id": "c6b32834",
   "metadata": {
    "id": "c6b32834"
   },
   "source": [
    "#### 55. What is the equivalent of enumerate for numpy arrays? (★★☆)"
   ]
  },
  {
   "cell_type": "code",
   "execution_count": 245,
   "id": "ab02472a",
   "metadata": {
    "id": "ab02472a"
   },
   "outputs": [
    {
     "name": "stdout",
     "output_type": "stream",
     "text": [
      "(0, 0) 0\n",
      "(0, 1) 1\n",
      "(0, 2) 2\n",
      "(1, 0) 3\n",
      "(1, 1) 4\n",
      "(1, 2) 5\n",
      "(2, 0) 6\n",
      "(2, 1) 7\n",
      "(2, 2) 8\n"
     ]
    }
   ],
   "source": [
    "Z = np.arange(9).reshape(3, 3)\n",
    "for index, value in np.ndenumerate(Z):\n",
    "    print(index, value)"
   ]
  },
  {
   "cell_type": "markdown",
   "id": "a2121a05",
   "metadata": {
    "id": "a2121a05"
   },
   "source": [
    "#### 56. Generate a generic 2D Gaussian-like array (★★☆)"
   ]
  },
  {
   "cell_type": "code",
   "execution_count": 246,
   "id": "18507102",
   "metadata": {
    "id": "18507102"
   },
   "outputs": [
    {
     "name": "stdout",
     "output_type": "stream",
     "text": [
      "[[0.36787944 0.44822088 0.51979489 0.57375342 0.60279818 0.60279818\n",
      "  0.57375342 0.51979489 0.44822088 0.36787944]\n",
      " [0.44822088 0.54610814 0.63331324 0.69905581 0.73444367 0.73444367\n",
      "  0.69905581 0.63331324 0.54610814 0.44822088]\n",
      " [0.51979489 0.63331324 0.73444367 0.81068432 0.85172308 0.85172308\n",
      "  0.81068432 0.73444367 0.63331324 0.51979489]\n",
      " [0.57375342 0.69905581 0.81068432 0.89483932 0.9401382  0.9401382\n",
      "  0.89483932 0.81068432 0.69905581 0.57375342]\n",
      " [0.60279818 0.73444367 0.85172308 0.9401382  0.98773022 0.98773022\n",
      "  0.9401382  0.85172308 0.73444367 0.60279818]\n",
      " [0.60279818 0.73444367 0.85172308 0.9401382  0.98773022 0.98773022\n",
      "  0.9401382  0.85172308 0.73444367 0.60279818]\n",
      " [0.57375342 0.69905581 0.81068432 0.89483932 0.9401382  0.9401382\n",
      "  0.89483932 0.81068432 0.69905581 0.57375342]\n",
      " [0.51979489 0.63331324 0.73444367 0.81068432 0.85172308 0.85172308\n",
      "  0.81068432 0.73444367 0.63331324 0.51979489]\n",
      " [0.44822088 0.54610814 0.63331324 0.69905581 0.73444367 0.73444367\n",
      "  0.69905581 0.63331324 0.54610814 0.44822088]\n",
      " [0.36787944 0.44822088 0.51979489 0.57375342 0.60279818 0.60279818\n",
      "  0.57375342 0.51979489 0.44822088 0.36787944]]\n"
     ]
    }
   ],
   "source": [
    "X, Y = np.meshgrid(np.linspace(-1, 1, 10), np.linspace(-1, 1, 10))\n",
    "D = np.sqrt(X*X + Y*Y)\n",
    "sigma, mu = 1.0, 0.0\n",
    "G = np.exp(-((D - mu)**2 / (2.0 * sigma**2)))\n",
    "print(G)"
   ]
  },
  {
   "cell_type": "markdown",
   "id": "97055efa",
   "metadata": {
    "id": "97055efa"
   },
   "source": [
    "#### 57. How to randomly place p elements in a 2D array? (★★☆)"
   ]
  },
  {
   "cell_type": "code",
   "execution_count": 247,
   "id": "292e842f",
   "metadata": {
    "id": "292e842f"
   },
   "outputs": [
    {
     "name": "stdout",
     "output_type": "stream",
     "text": [
      "[[0. 0. 0. 0. 0. 0. 0. 0. 0. 0.]\n",
      " [0. 0. 0. 0. 0. 1. 0. 0. 0. 1.]\n",
      " [0. 0. 0. 0. 0. 0. 0. 0. 1. 0.]\n",
      " [0. 0. 0. 0. 0. 0. 0. 0. 0. 0.]\n",
      " [0. 0. 0. 0. 0. 0. 0. 0. 0. 0.]\n",
      " [0. 0. 0. 0. 0. 0. 0. 0. 0. 0.]\n",
      " [0. 0. 0. 0. 0. 0. 0. 0. 0. 0.]\n",
      " [0. 0. 0. 0. 0. 0. 0. 0. 0. 0.]\n",
      " [0. 0. 0. 0. 0. 0. 0. 0. 0. 0.]\n",
      " [0. 0. 0. 0. 0. 0. 0. 0. 0. 0.]]\n"
     ]
    }
   ],
   "source": [
    "n = 10\n",
    "p = 3\n",
    "Z = np.zeros((n, n))\n",
    "np.put(Z, np.random.choice(range(n*n), p, replace=False), 1)\n",
    "print(Z)"
   ]
  },
  {
   "cell_type": "markdown",
   "id": "bfd2513c",
   "metadata": {
    "id": "bfd2513c"
   },
   "source": [
    "#### 58. Subtract the mean of each row of a matrix (★★☆)"
   ]
  },
  {
   "cell_type": "code",
   "execution_count": 248,
   "id": "f306ab72",
   "metadata": {
    "id": "f306ab72"
   },
   "outputs": [
    {
     "name": "stdout",
     "output_type": "stream",
     "text": [
      "Original matrix:\n",
      "[[0.38711431 0.58765671 0.47587906 0.93285293 0.10118308 0.60603526\n",
      "  0.65676662 0.54880493 0.26645576 0.95245883]\n",
      " [0.23738803 0.64404777 0.29074411 0.38346076 0.25888296 0.10757755\n",
      "  0.97739169 0.01490846 0.85249037 0.64706748]\n",
      " [0.41743896 0.94696721 0.68512585 0.39017114 0.64615156 0.5567497\n",
      "  0.43275217 0.12369545 0.42883599 0.67475719]\n",
      " [0.27682247 0.73408637 0.81283833 0.30747406 0.85546091 0.78982297\n",
      "  0.79000187 0.11768763 0.56382662 0.02855997]\n",
      " [0.02741501 0.81570299 0.09248071 0.19235774 0.16863049 0.28923046\n",
      "  0.85816848 0.71200666 0.55221119 0.07090299]]\n",
      "After subtracting row means:\n",
      "[[-0.16440643  0.03613596 -0.07564169  0.38133218 -0.45033767  0.05451451\n",
      "   0.10524587 -0.00271582 -0.28506499  0.40093808]\n",
      " [-0.20400789  0.20265185 -0.1506518  -0.05793515 -0.18251296 -0.33381837\n",
      "   0.53599577 -0.42648746  0.41109445  0.20567156]\n",
      " [-0.11282556  0.41670269  0.15486133 -0.14009339  0.11588704  0.02648517\n",
      "  -0.09751235 -0.40656907 -0.10142853  0.14449267]\n",
      " [-0.25083565  0.20642825  0.28518021 -0.22018406  0.32780279  0.26216485\n",
      "   0.26234375 -0.40997049  0.0361685  -0.49909815]\n",
      " [-0.35049566  0.43779232 -0.28542996 -0.18555293 -0.20928018 -0.08868021\n",
      "   0.48025781  0.33409599  0.17430052 -0.30700768]]\n"
     ]
    }
   ],
   "source": [
    "X = np.random.rand(5, 10)\n",
    "print(\"Original matrix:\")\n",
    "print(X)\n",
    "Y = X - X.mean(axis=1, keepdims=True)\n",
    "print(\"After subtracting row means:\")\n",
    "print(Y)"
   ]
  },
  {
   "cell_type": "markdown",
   "id": "da9f2f9b",
   "metadata": {
    "id": "da9f2f9b"
   },
   "source": [
    "#### 59. How to sort an array by the nth column? (★★☆)"
   ]
  },
  {
   "cell_type": "code",
   "execution_count": 249,
   "id": "68cde57f",
   "metadata": {
    "id": "68cde57f"
   },
   "outputs": [
    {
     "name": "stdout",
     "output_type": "stream",
     "text": [
      "Original array:\n",
      "[[0 3 8]\n",
      " [8 8 2]\n",
      " [0 1 0]]\n",
      "Sorted by 2nd column:\n",
      "[[0 1 0]\n",
      " [0 3 8]\n",
      " [8 8 2]]\n"
     ]
    }
   ],
   "source": [
    "Z = np.random.randint(0, 10, (3, 3))\n",
    "print(\"Original array:\")\n",
    "print(Z)\n",
    "print(\"Sorted by 2nd column:\")\n",
    "print(Z[Z[:,1].argsort()])"
   ]
  },
  {
   "cell_type": "markdown",
   "id": "5b7be45c",
   "metadata": {
    "id": "5b7be45c"
   },
   "source": [
    "#### 60. How to tell if a given 2D array has null columns? (★★☆)"
   ]
  },
  {
   "cell_type": "code",
   "execution_count": 250,
   "id": "7dbe2c27",
   "metadata": {
    "id": "7dbe2c27"
   },
   "outputs": [
    {
     "name": "stdout",
     "output_type": "stream",
     "text": [
      "Array:\n",
      "[[1 1 0 2 0 0 1 2 0 0]\n",
      " [0 1 1 0 2 2 1 1 0 0]\n",
      " [0 2 1 1 0 1 0 0 1 2]]\n",
      "Has null columns: False\n"
     ]
    }
   ],
   "source": [
    "Z = np.random.randint(0, 3, (3, 10))\n",
    "print(\"Array:\")\n",
    "print(Z)\n",
    "print(\"Has null columns:\", (~Z.any(axis=0)).any())"
   ]
  },
  {
   "cell_type": "markdown",
   "id": "7c18c02e",
   "metadata": {
    "id": "7c18c02e"
   },
   "source": [
    "#### 61. Find the nearest value from a given value in an array (★★☆)"
   ]
  },
  {
   "cell_type": "code",
   "execution_count": 251,
   "id": "b78ae9c4",
   "metadata": {
    "id": "b78ae9c4"
   },
   "outputs": [
    {
     "name": "stdout",
     "output_type": "stream",
     "text": [
      "Target: 8.206749628108877\n",
      "Nearest: 8\n"
     ]
    }
   ],
   "source": [
    "Z = np.arange(100)\n",
    "v = np.random.uniform(0, 100)\n",
    "index = (np.abs(Z - v)).argmin()\n",
    "print(\"Target:\", v)\n",
    "print(\"Nearest:\", Z[index])"
   ]
  },
  {
   "cell_type": "markdown",
   "id": "8174ba2c",
   "metadata": {
    "id": "8174ba2c"
   },
   "source": [
    "#### 62. Considering two arrays with shape (1,3) and (3,1), how to compute their sum using an iterator? (★★☆)"
   ]
  },
  {
   "cell_type": "code",
   "execution_count": 252,
   "id": "8a18fe57",
   "metadata": {
    "id": "8a18fe57"
   },
   "outputs": [
    {
     "name": "stdout",
     "output_type": "stream",
     "text": [
      "[[0 1 2]\n",
      " [1 2 3]\n",
      " [2 3 4]]\n"
     ]
    }
   ],
   "source": [
    "A = np.arange(3).reshape(1, 3)\n",
    "B = np.arange(3).reshape(3, 1)\n",
    "it = np.nditer([A, B, None])\n",
    "for x, y, z in it:\n",
    "    z[...] = x + y\n",
    "print(it.operands[2])"
   ]
  },
  {
   "cell_type": "markdown",
   "id": "9189bd7c",
   "metadata": {
    "id": "9189bd7c"
   },
   "source": [
    "#### 63. Create an array class that has a name attribute (★★☆)"
   ]
  },
  {
   "cell_type": "code",
   "execution_count": 253,
   "id": "1c01ed42",
   "metadata": {
    "id": "1c01ed42"
   },
   "outputs": [
    {
     "name": "stdout",
     "output_type": "stream",
     "text": [
      "my_array\n"
     ]
    }
   ],
   "source": [
    "class NamedArray(np.ndarray):\n",
    "    def __new__(cls, array, name=\"no name\"):\n",
    "        obj = np.asarray(array).view(cls)\n",
    "        obj.name = name\n",
    "        return obj\n",
    "    def __array_finalize__(self, obj):\n",
    "        if obj is None: return\n",
    "        self.name = getattr(obj, 'name', \"no name\")\n",
    "\n",
    "Z = NamedArray(np.arange(10), \"my_array\")\n",
    "print(Z.name)"
   ]
  },
  {
   "cell_type": "markdown",
   "id": "f30162d2",
   "metadata": {
    "id": "f30162d2"
   },
   "source": [
    "#### 64. Consider a given vector, how to add 1 to each element indexed by a second vector (be careful with repeated indices)? (★★★)"
   ]
  },
  {
   "cell_type": "code",
   "execution_count": 254,
   "id": "093ba36f",
   "metadata": {
    "id": "093ba36f"
   },
   "outputs": [
    {
     "name": "stdout",
     "output_type": "stream",
     "text": [
      "[4. 3. 2. 3. 3. 2. 3. 1. 4. 5.]\n"
     ]
    }
   ],
   "source": [
    "Z = np.ones(10)\n",
    "I = np.random.randint(0, len(Z), 20)\n",
    "Z += np.bincount(I, minlength=len(Z))\n",
    "print(Z)"
   ]
  },
  {
   "cell_type": "markdown",
   "id": "f5b1c584",
   "metadata": {
    "id": "f5b1c584"
   },
   "source": [
    "#### 65. How to accumulate elements of a vector (X) to an array (F) based on an index list (I)? (★★★)"
   ]
  },
  {
   "cell_type": "code",
   "execution_count": 255,
   "id": "c9d92a75",
   "metadata": {
    "id": "c9d92a75"
   },
   "outputs": [
    {
     "name": "stdout",
     "output_type": "stream",
     "text": [
      "[0. 7. 0. 6. 5. 0. 0. 0. 0. 3.]\n"
     ]
    }
   ],
   "source": [
    "X = [1, 2, 3, 4, 5, 6]\n",
    "I = [1, 3, 9, 3, 4, 1]\n",
    "F = np.bincount(I, X)\n",
    "print(F)"
   ]
  },
  {
   "cell_type": "markdown",
   "id": "994c452d",
   "metadata": {
    "id": "994c452d"
   },
   "source": [
    "#### 66. Considering a (w,h,3) image of (dtype=ubyte), compute the number of unique colors (★★☆)"
   ]
  },
  {
   "cell_type": "code",
   "execution_count": 256,
   "id": "269cdaea",
   "metadata": {
    "id": "269cdaea"
   },
   "outputs": [
    {
     "name": "stdout",
     "output_type": "stream",
     "text": [
      "Number of unique colors: 256\n"
     ]
    }
   ],
   "source": [
    "w, h = 16, 16\n",
    "I = np.random.randint(0, 256, (h, w, 3)).astype(np.ubyte)\n",
    "colors = np.unique(I.reshape(-1, 3), axis=0)\n",
    "print(\"Number of unique colors:\", len(colors))"
   ]
  },
  {
   "cell_type": "markdown",
   "id": "4bddeb31",
   "metadata": {
    "id": "4bddeb31"
   },
   "source": [
    "#### 67. Considering a four dimensions array, how to get sum over the last two axis at once? (★★★)"
   ]
  },
  {
   "cell_type": "code",
   "execution_count": 257,
   "id": "32af15f5",
   "metadata": {
    "id": "32af15f5"
   },
   "outputs": [
    {
     "name": "stdout",
     "output_type": "stream",
     "text": [
      "Original shape: (3, 4, 3, 4)\n",
      "After sum over last 2 axes: (3, 4)\n",
      "[[54 48 56 55]\n",
      " [62 61 57 57]\n",
      " [62 55 56 54]]\n"
     ]
    }
   ],
   "source": [
    "A = np.random.randint(0, 10, (3, 4, 3, 4))\n",
    "print(\"Original shape:\", A.shape)\n",
    "sum_result = A.sum(axis=(-2, -1))\n",
    "print(\"After sum over last 2 axes:\", sum_result.shape)\n",
    "print(sum_result)"
   ]
  },
  {
   "cell_type": "markdown",
   "id": "c4cf083c",
   "metadata": {
    "id": "c4cf083c"
   },
   "source": [
    "#### 68. Considering a one-dimensional vector D, how to compute means of subsets of D using a vector S of same size describing subset  indices? (★★★)"
   ]
  },
  {
   "cell_type": "code",
   "execution_count": 258,
   "id": "9600a2dd",
   "metadata": {
    "id": "9600a2dd"
   },
   "outputs": [
    {
     "name": "stdout",
     "output_type": "stream",
     "text": [
      "[0.46901334 0.55393342 0.35048836 0.47222329 0.44358577 0.48171966\n",
      " 0.51838734 0.51965336 0.58671191 0.3468109 ]\n"
     ]
    }
   ],
   "source": [
    "D = np.random.uniform(0, 1, 100)\n",
    "S = np.random.randint(0, 10, 100)\n",
    "D_sums = np.bincount(S, weights=D)\n",
    "D_counts = np.bincount(S)\n",
    "D_means = D_sums / D_counts\n",
    "print(D_means)"
   ]
  },
  {
   "cell_type": "markdown",
   "id": "a5e316db",
   "metadata": {
    "id": "a5e316db"
   },
   "source": [
    "#### 69. How to get the diagonal of a dot product? (★★★)"
   ]
  },
  {
   "cell_type": "code",
   "execution_count": 259,
   "id": "94735dbd",
   "metadata": {
    "id": "94735dbd"
   },
   "outputs": [
    {
     "name": "stdout",
     "output_type": "stream",
     "text": [
      "Using diag: [0.52534023 1.62184933 1.24260419 0.78364775 1.623022  ]\n",
      "Using einsum: [0.52534023 1.62184933 1.24260419 0.78364775 1.623022  ]\n"
     ]
    }
   ],
   "source": [
    "A = np.random.uniform(0, 1, (5, 5))\n",
    "B = np.random.uniform(0, 1, (5, 5))\n",
    "print(\"Using diag:\", np.diag(np.dot(A, B)))\n",
    "print(\"Using einsum:\", np.einsum(\"ij,ji->i\", A, B))"
   ]
  },
  {
   "cell_type": "markdown",
   "id": "de727a7b",
   "metadata": {
    "id": "de727a7b"
   },
   "source": [
    "#### 70. Consider the vector [1, 2, 3, 4, 5], how to build a new vector with 3 consecutive zeros interleaved between each value? (★★★)"
   ]
  },
  {
   "cell_type": "code",
   "execution_count": 260,
   "id": "982be812",
   "metadata": {
    "id": "982be812"
   },
   "outputs": [
    {
     "name": "stdout",
     "output_type": "stream",
     "text": [
      "[1. 0. 0. 0. 2. 0. 0. 0. 3. 0. 0. 0. 4. 0. 0. 0. 5.]\n"
     ]
    }
   ],
   "source": [
    "Z = np.array([1, 2, 3, 4, 5])\n",
    "nz = 3\n",
    "Z0 = np.zeros(len(Z) + (len(Z) - 1) * nz)\n",
    "Z0[::nz + 1] = Z\n",
    "print(Z0)"
   ]
  },
  {
   "cell_type": "markdown",
   "id": "a9a73d6b",
   "metadata": {
    "id": "a9a73d6b"
   },
   "source": [
    "#### 71. Consider an array of dimension (5,5,3), how to mulitply it by an array with dimensions (5,5)? (★★★)"
   ]
  },
  {
   "cell_type": "code",
   "execution_count": 261,
   "id": "282a90cc",
   "metadata": {
    "id": "282a90cc"
   },
   "outputs": [
    {
     "name": "stdout",
     "output_type": "stream",
     "text": [
      "[[[2. 2. 2.]\n",
      "  [2. 2. 2.]\n",
      "  [2. 2. 2.]\n",
      "  [2. 2. 2.]\n",
      "  [2. 2. 2.]]\n",
      "\n",
      " [[2. 2. 2.]\n",
      "  [2. 2. 2.]\n",
      "  [2. 2. 2.]\n",
      "  [2. 2. 2.]\n",
      "  [2. 2. 2.]]\n",
      "\n",
      " [[2. 2. 2.]\n",
      "  [2. 2. 2.]\n",
      "  [2. 2. 2.]\n",
      "  [2. 2. 2.]\n",
      "  [2. 2. 2.]]\n",
      "\n",
      " [[2. 2. 2.]\n",
      "  [2. 2. 2.]\n",
      "  [2. 2. 2.]\n",
      "  [2. 2. 2.]\n",
      "  [2. 2. 2.]]\n",
      "\n",
      " [[2. 2. 2.]\n",
      "  [2. 2. 2.]\n",
      "  [2. 2. 2.]\n",
      "  [2. 2. 2.]\n",
      "  [2. 2. 2.]]]\n"
     ]
    }
   ],
   "source": [
    "A = np.ones((5, 5, 3))\n",
    "B = 2 * np.ones((5, 5))\n",
    "print(A * B[:, :, None])"
   ]
  },
  {
   "cell_type": "markdown",
   "id": "a951c78f",
   "metadata": {
    "id": "a951c78f"
   },
   "source": [
    "#### 72. How to swap two rows of an array? (★★★)"
   ]
  },
  {
   "cell_type": "code",
   "execution_count": 262,
   "id": "e29b3fde",
   "metadata": {
    "id": "e29b3fde"
   },
   "outputs": [
    {
     "name": "stdout",
     "output_type": "stream",
     "text": [
      "Original:\n",
      "[[ 0  1  2  3  4]\n",
      " [ 5  6  7  8  9]\n",
      " [10 11 12 13 14]\n",
      " [15 16 17 18 19]\n",
      " [20 21 22 23 24]]\n",
      "After swapping rows 0 and 1:\n",
      "[[ 5  6  7  8  9]\n",
      " [ 0  1  2  3  4]\n",
      " [10 11 12 13 14]\n",
      " [15 16 17 18 19]\n",
      " [20 21 22 23 24]]\n"
     ]
    }
   ],
   "source": [
    "A = np.arange(25).reshape(5, 5)\n",
    "print(\"Original:\")\n",
    "print(A)\n",
    "A[[0, 1]] = A[[1, 0]]\n",
    "print(\"After swapping rows 0 and 1:\")\n",
    "print(A)"
   ]
  },
  {
   "cell_type": "markdown",
   "id": "43b639e8",
   "metadata": {
    "id": "43b639e8"
   },
   "source": [
    "#### 73. Consider a set of 10 triplets describing 10 triangles (with shared vertices), find the set of unique line segments composing all the  triangles (★★★)"
   ]
  },
  {
   "cell_type": "code",
   "execution_count": 263,
   "id": "147e1034",
   "metadata": {
    "id": "147e1034"
   },
   "outputs": [
    {
     "name": "stdout",
     "output_type": "stream",
     "text": [
      "[( 0, 41) ( 0, 76) ( 0, 79) ( 0, 94) ( 8, 68) ( 8, 95) ( 9, 63) ( 9, 76)\n",
      " (14, 63) (14, 89) (24, 24) (24, 58) (33, 36) (33, 42) (36, 42) (37, 69)\n",
      " (37, 79) (40, 71) (40, 92) (41, 94) (44, 68) (44, 75) (63, 76) (63, 89)\n",
      " (68, 75) (68, 95) (69, 79) (71, 92) (76, 79)]\n"
     ]
    }
   ],
   "source": [
    "faces = np.random.randint(0, 100, (10, 3))\n",
    "F = np.roll(faces.repeat(2, axis=1), -1, axis=1)\n",
    "F = F.reshape(len(F) * 3, 2)\n",
    "F = np.sort(F, axis=1)\n",
    "G = F.view(dtype=[('p0', F.dtype), ('p1', F.dtype)])\n",
    "G = np.unique(G)\n",
    "print(G)"
   ]
  },
  {
   "cell_type": "markdown",
   "id": "d41de585",
   "metadata": {
    "id": "d41de585"
   },
   "source": [
    "#### 74. Given a sorted array C that corresponds to a bincount, how to produce an array A such that np.bincount(A) == C? (★★★)"
   ]
  },
  {
   "cell_type": "code",
   "execution_count": 264,
   "id": "5f5d6e36",
   "metadata": {
    "id": "5f5d6e36"
   },
   "outputs": [
    {
     "name": "stdout",
     "output_type": "stream",
     "text": [
      "[1 1 2 3 4 4 6]\n"
     ]
    }
   ],
   "source": [
    "C = np.bincount([1, 1, 2, 3, 4, 4, 6])\n",
    "A = np.repeat(np.arange(len(C)), C)\n",
    "print(A)"
   ]
  },
  {
   "cell_type": "markdown",
   "id": "b50adf7c",
   "metadata": {
    "id": "b50adf7c"
   },
   "source": [
    "#### 75. How to compute averages using a sliding window over an array? (★★★)"
   ]
  },
  {
   "cell_type": "code",
   "execution_count": 265,
   "id": "e631a9d2",
   "metadata": {
    "id": "e631a9d2"
   },
   "outputs": [
    {
     "name": "stdout",
     "output_type": "stream",
     "text": [
      "[ 1.  2.  3.  4.  5.  6.  7.  8.  9. 10. 11. 12. 13. 14. 15. 16. 17. 18.]\n"
     ]
    }
   ],
   "source": [
    "def moving_average(a, n=3):\n",
    "    ret = np.cumsum(a, dtype=float)\n",
    "    ret[n:] = ret[n:] - ret[:-n]\n",
    "    return ret[n - 1:] / n\n",
    "\n",
    "Z = np.arange(20)\n",
    "print(moving_average(Z, n=3))"
   ]
  },
  {
   "cell_type": "markdown",
   "id": "1ab4c50d",
   "metadata": {
    "id": "1ab4c50d"
   },
   "source": [
    "#### 76. Consider a one-dimensional array Z, build a two-dimensional array whose first row is (Z[0],Z[1],Z[2]) and each subsequent row is  shifted by 1 (last row should be (Z[-3],Z[-2],Z[-1]) (★★★)"
   ]
  },
  {
   "cell_type": "code",
   "execution_count": 266,
   "id": "3ccfe2c0",
   "metadata": {
    "id": "3ccfe2c0"
   },
   "outputs": [
    {
     "name": "stdout",
     "output_type": "stream",
     "text": [
      "[[0 1 2]\n",
      " [1 2 3]\n",
      " [2 3 4]\n",
      " [3 4 5]\n",
      " [4 5 6]\n",
      " [5 6 7]\n",
      " [6 7 8]\n",
      " [7 8 9]]\n"
     ]
    }
   ],
   "source": [
    "from numpy.lib import stride_tricks\n",
    "def rolling(a, window):\n",
    "    shape = (a.size - window + 1, window)\n",
    "    strides = (a.strides[0], a.strides[0])\n",
    "    return stride_tricks.as_strided(a, shape=shape, strides=strides)\n",
    "\n",
    "Z = rolling(np.arange(10), 3)\n",
    "print(Z)"
   ]
  },
  {
   "cell_type": "markdown",
   "id": "5b4fe59d",
   "metadata": {
    "id": "5b4fe59d"
   },
   "source": [
    "#### 77. How to negate a boolean, or to change the sign of a float inplace? (★★★)"
   ]
  },
  {
   "cell_type": "code",
   "execution_count": 267,
   "id": "3c2373ff",
   "metadata": {
    "id": "3c2373ff"
   },
   "outputs": [
    {
     "data": {
      "text/plain": [
       "array([-0.24384455,  0.16461449, -0.42904108, -0.08543433, -0.59448056,\n",
       "        0.02558384, -0.11430364, -0.03287999,  0.75808477, -0.19347914,\n",
       "       -0.91603449,  0.70776186, -0.47678472, -0.86232431,  0.86473241,\n",
       "        0.00208477, -0.31486214,  0.72495445, -0.60242146,  0.93304874,\n",
       "       -0.15094182, -0.14805423, -0.23043457, -0.49828677,  0.11376759,\n",
       "       -0.7050793 ,  0.78669083,  0.80722254,  0.34554096, -0.06925099,\n",
       "       -0.74733553,  0.71159978,  0.47587416, -0.49118785, -0.74195707,\n",
       "        0.23833839,  0.40067225,  0.39955448,  0.14841465,  0.31253243,\n",
       "       -0.60666917, -0.71390166, -0.0638564 , -0.16888842, -0.0297081 ,\n",
       "       -0.72818596,  0.82849607, -0.46017373,  0.41959365, -0.2043672 ,\n",
       "        0.12908993, -0.97697478,  0.28861482,  0.05504324,  0.07330727,\n",
       "       -0.88237602,  0.75307953, -0.53450672, -0.96654846,  0.21737238,\n",
       "       -0.46435221,  0.92575954,  0.88073667, -0.99811778, -0.64486501,\n",
       "       -0.5301675 , -0.12151063, -0.08123399, -0.69709362,  0.0959801 ,\n",
       "       -0.31086333, -0.20687196, -0.05276214, -0.51644551,  0.37598103,\n",
       "       -0.18214904,  0.2177342 , -0.66041703, -0.80425022,  0.27451674,\n",
       "       -0.8035547 ,  0.0157273 , -0.39843394, -0.43064439, -0.68396256,\n",
       "       -0.24742744,  0.13180341, -0.45529879, -0.62095285,  0.58822545,\n",
       "        0.87010954, -0.59747395,  0.05262582,  0.18971195,  0.26361178,\n",
       "        0.66583102, -0.40260392, -0.54834964, -0.21220556,  0.2788233 ])"
      ]
     },
     "execution_count": 267,
     "metadata": {},
     "output_type": "execute_result"
    }
   ],
   "source": [
    "Z = np.random.randint(0, 2, 100, dtype=bool)\n",
    "np.logical_not(Z, out=Z)\n",
    "\n",
    "Z = np.random.uniform(-1, 1, 100)\n",
    "np.negative(Z, out=Z)"
   ]
  },
  {
   "cell_type": "markdown",
   "id": "119ab5af",
   "metadata": {
    "id": "119ab5af"
   },
   "source": [
    "#### 78. Consider 2 sets of points P0,P1 describing lines (2d) and a point p, how to compute distance from p to each line i (P0[i],P1[i])? (★★★)"
   ]
  },
  {
   "cell_type": "code",
   "execution_count": 268,
   "id": "1d8d06dc",
   "metadata": {
    "id": "1d8d06dc"
   },
   "outputs": [
    {
     "name": "stdout",
     "output_type": "stream",
     "text": [
      "[ 3.44454797 11.04294188 10.80978536 15.13727198  0.6535998  16.04053037\n",
      " 11.84663472  6.40760076  8.01948805 10.69163801]\n"
     ]
    }
   ],
   "source": [
    "def distance(P0, P1, p):\n",
    "    T = P1 - P0\n",
    "    L = (T**2).sum(axis=1)\n",
    "    U = -((P0[:,0] - p[...,0]) * T[:,0] + (P0[:,1] - p[...,1]) * T[:,1]) / L\n",
    "    U = U.reshape(len(U), 1)\n",
    "    D = P0 + U * T\n",
    "    return np.sqrt(((D - p)**2).sum(axis=1))\n",
    "\n",
    "P0 = np.random.uniform(-10, 10, (10, 2))\n",
    "P1 = np.random.uniform(-10, 10, (10, 2))\n",
    "p = np.random.uniform(-10, 10, (1, 2))\n",
    "print(distance(P0, P1, p))"
   ]
  },
  {
   "cell_type": "markdown",
   "id": "e5e7f323",
   "metadata": {
    "id": "e5e7f323"
   },
   "source": [
    "#### 79. Consider 2 sets of points P0,P1 describing lines (2d) and a set of points P, how to compute distance from each point j (P[j]) to each line i (P0[i],P1[i])? (★★★)"
   ]
  },
  {
   "cell_type": "code",
   "execution_count": 269,
   "id": "d0ce77e2",
   "metadata": {
    "id": "d0ce77e2"
   },
   "outputs": [
    {
     "name": "stdout",
     "output_type": "stream",
     "text": [
      "[ 2.52596157  5.83191123  2.90465421  3.28381412  2.40296764  6.63944837\n",
      "  7.41523317  5.05063592 16.15742584 10.15388525]\n"
     ]
    }
   ],
   "source": [
    "def distance(P0, P1, p):\n",
    "    T = P1 - P0\n",
    "    L = (T**2).sum(axis=1)\n",
    "    U = -((P0[:,0] - p[...,0]) * T[:,0] + (P0[:,1] - p[...,1]) * T[:,1]) / L\n",
    "    U = U.reshape(len(U), 1)\n",
    "    D = P0 + U * T\n",
    "    return np.sqrt(((D - p)**2).sum(axis=1))\n",
    "\n",
    "P0 = np.random.uniform(-10, 10, (10, 2))\n",
    "P1 = np.random.uniform(-10, 10, (10, 2))\n",
    "p = np.random.uniform(-10, 10, (10, 2))\n",
    "print(distance(P0, P1, p))"
   ]
  },
  {
   "cell_type": "markdown",
   "id": "9b9d03eb",
   "metadata": {
    "id": "9b9d03eb"
   },
   "source": [
    "#### 80. Consider an arbitrary array, write a function that extract a subpart with a fixed shape and centered on a given element (pad with a `fill` value when necessary) (★★★)"
   ]
  },
  {
   "cell_type": "code",
   "execution_count": 270,
   "id": "ec2b7ae3",
   "metadata": {
    "id": "ec2b7ae3"
   },
   "outputs": [
    {
     "name": "stdout",
     "output_type": "stream",
     "text": [
      "[[2 9 6 9 2]\n",
      " [4 3 4 2 0]\n",
      " [6 7 6 4 1]\n",
      " [4 7 7 1 1]\n",
      " [9 1 2 3 6]]\n"
     ]
    }
   ],
   "source": [
    "Z = np.random.randint(0, 10, (10, 10))\n",
    "shape = (5, 5)\n",
    "fill = 0\n",
    "position = (5, 5)\n",
    "\n",
    "R = np.ones(shape, dtype=Z.dtype) * fill\n",
    "P = np.array(list(position)).astype(int)\n",
    "Rs = np.array(list(R.shape)).astype(int)\n",
    "Zs = np.array(list(Z.shape)).astype(int)\n",
    "\n",
    "R_start = np.zeros((len(shape),)).astype(int)\n",
    "R_stop = np.array(list(shape)).astype(int)\n",
    "Z_start = (P - Rs // 2)\n",
    "Z_stop = (Z_start + Rs)\n",
    "\n",
    "R_start = (R_start - np.minimum(Z_start, 0)).tolist()\n",
    "Z_start = (np.maximum(Z_start, 0)).tolist()\n",
    "R_stop = np.maximum(R_start, (R_stop - np.maximum(Z_stop - Zs, 0))).tolist()\n",
    "Z_stop = (np.minimum(Z_stop, Zs)).tolist()\n",
    "\n",
    "r = tuple([slice(start, stop) for start, stop in zip(R_start, R_stop)])\n",
    "z = tuple([slice(start, stop) for start, stop in zip(Z_start, Z_stop)])\n",
    "R[r] = Z[z]\n",
    "print(R)"
   ]
  },
  {
   "cell_type": "markdown",
   "id": "27794913",
   "metadata": {
    "id": "27794913"
   },
   "source": [
    "#### 81. Consider an array Z = [1,2,3,4,5,6,7,8,9,10,11,12,13,14], how to generate an array R = [[1,2,3,4], [2,3,4,5], [3,4,5,6], ..., [11,12,13,14]]? (★★★)"
   ]
  },
  {
   "cell_type": "code",
   "execution_count": 271,
   "id": "f3e7878b",
   "metadata": {
    "id": "f3e7878b"
   },
   "outputs": [
    {
     "name": "stdout",
     "output_type": "stream",
     "text": [
      "[[ 1  2  3  4]\n",
      " [ 2  3  4  5]\n",
      " [ 3  4  5  6]\n",
      " [ 4  5  6  7]\n",
      " [ 5  6  7  8]\n",
      " [ 6  7  8  9]\n",
      " [ 7  8  9 10]\n",
      " [ 8  9 10 11]\n",
      " [ 9 10 11 12]\n",
      " [10 11 12 13]\n",
      " [11 12 13 14]]\n"
     ]
    }
   ],
   "source": [
    "Z = np.arange(1, 15, dtype=np.uint32)\n",
    "R = stride_tricks.as_strided(Z, (11, 4), (4, 4))\n",
    "print(R)"
   ]
  },
  {
   "cell_type": "markdown",
   "id": "fae786f5",
   "metadata": {
    "id": "fae786f5"
   },
   "source": [
    "#### 82. Compute a matrix rank (★★★)"
   ]
  },
  {
   "cell_type": "code",
   "execution_count": 272,
   "id": "64b9615b",
   "metadata": {
    "id": "64b9615b"
   },
   "outputs": [
    {
     "name": "stdout",
     "output_type": "stream",
     "text": [
      "Matrix rank: 10\n"
     ]
    }
   ],
   "source": [
    "Z = np.random.uniform(0, 1, (10, 10))\n",
    "U, S, V = np.linalg.svd(Z)\n",
    "rank = np.sum(S > 1e-10)\n",
    "print(\"Matrix rank:\", rank)"
   ]
  },
  {
   "cell_type": "markdown",
   "id": "c85aa0b9",
   "metadata": {
    "id": "c85aa0b9"
   },
   "source": [
    "#### 83. How to find the most frequent value in an array?"
   ]
  },
  {
   "cell_type": "code",
   "execution_count": 273,
   "id": "056be85b",
   "metadata": {
    "id": "056be85b"
   },
   "outputs": [
    {
     "name": "stdout",
     "output_type": "stream",
     "text": [
      "Array: [5 5 0 2 6 8 4 2 7 6 3 3 9 4 9 9 4 2 5 2 6 2 0 7 8 9 4 4 2 8 9 6 6 4 6 7 6\n",
      " 0 9 0 0 7 8 3 0 3 6 7 9 9]\n",
      "Most frequent value: 6\n"
     ]
    }
   ],
   "source": [
    "Z = np.random.randint(0, 10, 50)\n",
    "print(\"Array:\", Z)\n",
    "print(\"Most frequent value:\", np.bincount(Z).argmax())"
   ]
  },
  {
   "cell_type": "markdown",
   "id": "0ff2344d",
   "metadata": {
    "id": "0ff2344d"
   },
   "source": [
    "#### 84. Extract all the contiguous 3x3 blocks from a random 10x10 matrix (★★★)"
   ]
  },
  {
   "cell_type": "code",
   "execution_count": 274,
   "id": "d58b1318",
   "metadata": {
    "id": "d58b1318"
   },
   "outputs": [
    {
     "name": "stdout",
     "output_type": "stream",
     "text": [
      "[[[[2 2 0]\n",
      "   [4 3 3]\n",
      "   [4 1 2]]\n",
      "\n",
      "  [[2 0 0]\n",
      "   [3 3 4]\n",
      "   [1 2 0]]\n",
      "\n",
      "  [[0 0 4]\n",
      "   [3 4 4]\n",
      "   [2 0 1]]\n",
      "\n",
      "  [[0 4 2]\n",
      "   [4 4 3]\n",
      "   [0 1 1]]\n",
      "\n",
      "  [[4 2 2]\n",
      "   [4 3 1]\n",
      "   [1 1 0]]\n",
      "\n",
      "  [[2 2 3]\n",
      "   [3 1 3]\n",
      "   [1 0 0]]\n",
      "\n",
      "  [[2 3 3]\n",
      "   [1 3 4]\n",
      "   [0 0 2]]\n",
      "\n",
      "  [[3 3 4]\n",
      "   [3 4 3]\n",
      "   [0 2 3]]]\n",
      "\n",
      "\n",
      " [[[4 3 3]\n",
      "   [4 1 2]\n",
      "   [3 2 4]]\n",
      "\n",
      "  [[3 3 4]\n",
      "   [1 2 0]\n",
      "   [2 4 1]]\n",
      "\n",
      "  [[3 4 4]\n",
      "   [2 0 1]\n",
      "   [4 1 2]]\n",
      "\n",
      "  [[4 4 3]\n",
      "   [0 1 1]\n",
      "   [1 2 2]]\n",
      "\n",
      "  [[4 3 1]\n",
      "   [1 1 0]\n",
      "   [2 2 3]]\n",
      "\n",
      "  [[3 1 3]\n",
      "   [1 0 0]\n",
      "   [2 3 1]]\n",
      "\n",
      "  [[1 3 4]\n",
      "   [0 0 2]\n",
      "   [3 1 1]]\n",
      "\n",
      "  [[3 4 3]\n",
      "   [0 2 3]\n",
      "   [1 1 0]]]\n",
      "\n",
      "\n",
      " [[[4 1 2]\n",
      "   [3 2 4]\n",
      "   [3 4 4]]\n",
      "\n",
      "  [[1 2 0]\n",
      "   [2 4 1]\n",
      "   [4 4 1]]\n",
      "\n",
      "  [[2 0 1]\n",
      "   [4 1 2]\n",
      "   [4 1 0]]\n",
      "\n",
      "  [[0 1 1]\n",
      "   [1 2 2]\n",
      "   [1 0 1]]\n",
      "\n",
      "  [[1 1 0]\n",
      "   [2 2 3]\n",
      "   [0 1 4]]\n",
      "\n",
      "  [[1 0 0]\n",
      "   [2 3 1]\n",
      "   [1 4 2]]\n",
      "\n",
      "  [[0 0 2]\n",
      "   [3 1 1]\n",
      "   [4 2 1]]\n",
      "\n",
      "  [[0 2 3]\n",
      "   [1 1 0]\n",
      "   [2 1 2]]]\n",
      "\n",
      "\n",
      " [[[3 2 4]\n",
      "   [3 4 4]\n",
      "   [1 3 0]]\n",
      "\n",
      "  [[2 4 1]\n",
      "   [4 4 1]\n",
      "   [3 0 3]]\n",
      "\n",
      "  [[4 1 2]\n",
      "   [4 1 0]\n",
      "   [0 3 0]]\n",
      "\n",
      "  [[1 2 2]\n",
      "   [1 0 1]\n",
      "   [3 0 3]]\n",
      "\n",
      "  [[2 2 3]\n",
      "   [0 1 4]\n",
      "   [0 3 1]]\n",
      "\n",
      "  [[2 3 1]\n",
      "   [1 4 2]\n",
      "   [3 1 2]]\n",
      "\n",
      "  [[3 1 1]\n",
      "   [4 2 1]\n",
      "   [1 2 1]]\n",
      "\n",
      "  [[1 1 0]\n",
      "   [2 1 2]\n",
      "   [2 1 2]]]\n",
      "\n",
      "\n",
      " [[[3 4 4]\n",
      "   [1 3 0]\n",
      "   [2 4 2]]\n",
      "\n",
      "  [[4 4 1]\n",
      "   [3 0 3]\n",
      "   [4 2 1]]\n",
      "\n",
      "  [[4 1 0]\n",
      "   [0 3 0]\n",
      "   [2 1 4]]\n",
      "\n",
      "  [[1 0 1]\n",
      "   [3 0 3]\n",
      "   [1 4 1]]\n",
      "\n",
      "  [[0 1 4]\n",
      "   [0 3 1]\n",
      "   [4 1 3]]\n",
      "\n",
      "  [[1 4 2]\n",
      "   [3 1 2]\n",
      "   [1 3 3]]\n",
      "\n",
      "  [[4 2 1]\n",
      "   [1 2 1]\n",
      "   [3 3 2]]\n",
      "\n",
      "  [[2 1 2]\n",
      "   [2 1 2]\n",
      "   [3 2 1]]]\n",
      "\n",
      "\n",
      " [[[1 3 0]\n",
      "   [2 4 2]\n",
      "   [2 0 1]]\n",
      "\n",
      "  [[3 0 3]\n",
      "   [4 2 1]\n",
      "   [0 1 4]]\n",
      "\n",
      "  [[0 3 0]\n",
      "   [2 1 4]\n",
      "   [1 4 2]]\n",
      "\n",
      "  [[3 0 3]\n",
      "   [1 4 1]\n",
      "   [4 2 0]]\n",
      "\n",
      "  [[0 3 1]\n",
      "   [4 1 3]\n",
      "   [2 0 0]]\n",
      "\n",
      "  [[3 1 2]\n",
      "   [1 3 3]\n",
      "   [0 0 0]]\n",
      "\n",
      "  [[1 2 1]\n",
      "   [3 3 2]\n",
      "   [0 0 1]]\n",
      "\n",
      "  [[2 1 2]\n",
      "   [3 2 1]\n",
      "   [0 1 1]]]\n",
      "\n",
      "\n",
      " [[[2 4 2]\n",
      "   [2 0 1]\n",
      "   [2 2 2]]\n",
      "\n",
      "  [[4 2 1]\n",
      "   [0 1 4]\n",
      "   [2 2 0]]\n",
      "\n",
      "  [[2 1 4]\n",
      "   [1 4 2]\n",
      "   [2 0 0]]\n",
      "\n",
      "  [[1 4 1]\n",
      "   [4 2 0]\n",
      "   [0 0 2]]\n",
      "\n",
      "  [[4 1 3]\n",
      "   [2 0 0]\n",
      "   [0 2 1]]\n",
      "\n",
      "  [[1 3 3]\n",
      "   [0 0 0]\n",
      "   [2 1 1]]\n",
      "\n",
      "  [[3 3 2]\n",
      "   [0 0 1]\n",
      "   [1 1 3]]\n",
      "\n",
      "  [[3 2 1]\n",
      "   [0 1 1]\n",
      "   [1 3 3]]]\n",
      "\n",
      "\n",
      " [[[2 0 1]\n",
      "   [2 2 2]\n",
      "   [4 3 3]]\n",
      "\n",
      "  [[0 1 4]\n",
      "   [2 2 0]\n",
      "   [3 3 3]]\n",
      "\n",
      "  [[1 4 2]\n",
      "   [2 0 0]\n",
      "   [3 3 1]]\n",
      "\n",
      "  [[4 2 0]\n",
      "   [0 0 2]\n",
      "   [3 1 4]]\n",
      "\n",
      "  [[2 0 0]\n",
      "   [0 2 1]\n",
      "   [1 4 1]]\n",
      "\n",
      "  [[0 0 0]\n",
      "   [2 1 1]\n",
      "   [4 1 3]]\n",
      "\n",
      "  [[0 0 1]\n",
      "   [1 1 3]\n",
      "   [1 3 2]]\n",
      "\n",
      "  [[0 1 1]\n",
      "   [1 3 3]\n",
      "   [3 2 2]]]]\n"
     ]
    }
   ],
   "source": [
    "Z = np.random.randint(0, 5, (10, 10))\n",
    "n = 3\n",
    "i = 1 + (Z.shape[0] - n)\n",
    "j = 1 + (Z.shape[1] - n)\n",
    "C = stride_tricks.as_strided(Z, shape=(i, j, n, n), strides=Z.strides + Z.strides)\n",
    "print(C)"
   ]
  },
  {
   "cell_type": "markdown",
   "id": "1a18b263",
   "metadata": {
    "id": "1a18b263"
   },
   "source": [
    "#### 85. Create a 2D array subclass such that Z[i,j] == Z[j,i] (★★★)"
   ]
  },
  {
   "cell_type": "code",
   "execution_count": 275,
   "id": "87f17adc",
   "metadata": {
    "id": "87f17adc"
   },
   "outputs": [
    {
     "name": "stdout",
     "output_type": "stream",
     "text": [
      "[[ 2 10  7 10  7]\n",
      " [10  7 12 10 11]\n",
      " [ 7 12  9 42  9]\n",
      " [10 10 42  4 13]\n",
      " [ 7 11  9 13  3]]\n"
     ]
    }
   ],
   "source": [
    "class Symetric(np.ndarray):\n",
    "    def __setitem__(self, index, value):\n",
    "        i, j = index\n",
    "        super(Symetric, self).__setitem__((i, j), value)\n",
    "        super(Symetric, self).__setitem__((j, i), value)\n",
    "\n",
    "def symetric(Z):\n",
    "    return np.asarray(Z + Z.T - np.diag(Z.diagonal())).view(Symetric)\n",
    "\n",
    "S = symetric(np.random.randint(0, 10, (5, 5)))\n",
    "S[2, 3] = 42\n",
    "print(S)"
   ]
  },
  {
   "cell_type": "markdown",
   "id": "f85f2cad",
   "metadata": {
    "id": "f85f2cad"
   },
   "source": [
    "#### 86. Consider a set of p matrices wich shape (n,n) and a set of p vectors with shape (n,1). How to compute the sum of of the p matrix products at once? (result has shape (n,1)) (★★★)"
   ]
  },
  {
   "cell_type": "code",
   "execution_count": 276,
   "id": "8d230557",
   "metadata": {
    "id": "8d230557"
   },
   "outputs": [
    {
     "name": "stdout",
     "output_type": "stream",
     "text": [
      "[[200.]\n",
      " [200.]\n",
      " [200.]\n",
      " [200.]\n",
      " [200.]\n",
      " [200.]\n",
      " [200.]\n",
      " [200.]\n",
      " [200.]\n",
      " [200.]\n",
      " [200.]\n",
      " [200.]\n",
      " [200.]\n",
      " [200.]\n",
      " [200.]\n",
      " [200.]\n",
      " [200.]\n",
      " [200.]\n",
      " [200.]\n",
      " [200.]]\n"
     ]
    }
   ],
   "source": [
    "p, n = 10, 20\n",
    "M = np.ones((p, n, n))\n",
    "V = np.ones((p, n, 1))\n",
    "S = np.tensordot(M, V, axes=[[0, 2], [0, 1]])\n",
    "print(S)"
   ]
  },
  {
   "cell_type": "markdown",
   "id": "5afb72c8",
   "metadata": {
    "id": "5afb72c8"
   },
   "source": [
    "#### 87. Consider a 16x16 array, how to get the block-sum (block size is 4x4)? (★★★)"
   ]
  },
  {
   "cell_type": "code",
   "execution_count": 277,
   "id": "e86f47a9",
   "metadata": {
    "id": "e86f47a9"
   },
   "outputs": [
    {
     "name": "stdout",
     "output_type": "stream",
     "text": [
      "[[10 18]\n",
      " [42 50]]\n"
     ]
    }
   ],
   "source": [
    "Z = np.arange(16).reshape(4, 4)\n",
    "k = 2\n",
    "S = np.add.reduceat(np.add.reduceat(Z, np.arange(0, Z.shape[0], k), axis=0), np.arange(0, Z.shape[1], k), axis=1)\n",
    "print(S)"
   ]
  },
  {
   "cell_type": "markdown",
   "id": "6094d37c",
   "metadata": {
    "id": "6094d37c"
   },
   "source": [
    "#### 88. How to implement the Game of Life using numpy arrays? (★★★)"
   ]
  },
  {
   "cell_type": "code",
   "execution_count": 278,
   "id": "a93e715f",
   "metadata": {
    "id": "a93e715f"
   },
   "outputs": [
    {
     "name": "stdout",
     "output_type": "stream",
     "text": [
      "Initial state:\n",
      "[[0 0 1 1 1 1 0 0 1 0]\n",
      " [0 1 1 1 0 1 0 1 0 0]\n",
      " [1 1 0 1 0 0 0 1 1 0]\n",
      " [1 0 0 0 1 0 0 0 1 0]\n",
      " [0 1 1 0 1 0 1 1 1 1]\n",
      " [0 1 1 0 1 1 0 1 1 1]\n",
      " [1 0 0 0 0 1 1 1 0 1]\n",
      " [1 1 1 0 1 0 0 0 1 1]\n",
      " [0 0 1 0 1 0 0 0 0 0]\n",
      " [0 0 1 1 1 0 1 1 1 0]]\n",
      "\n",
      "After 5 iterations:\n",
      "[[0 0 0 0 0 0 0 0 0 0]\n",
      " [0 0 0 0 0 0 1 0 1 0]\n",
      " [0 0 0 0 0 0 1 0 1 0]\n",
      " [0 0 0 0 0 0 0 1 0 0]\n",
      " [0 0 0 0 1 1 0 0 0 0]\n",
      " [0 0 0 0 1 1 0 0 0 0]\n",
      " [0 0 0 0 1 1 1 0 0 0]\n",
      " [0 0 0 0 0 0 0 0 0 0]\n",
      " [0 0 0 0 0 0 0 0 0 0]\n",
      " [0 0 0 0 0 0 0 0 0 0]]\n"
     ]
    }
   ],
   "source": [
    "def iterate(Z):\n",
    "    N = (Z[0:-2, 0:-2] + Z[0:-2, 1:-1] + Z[0:-2, 2:] +\n",
    "         Z[1:-1, 0:-2]                 + Z[1:-1, 2:] +\n",
    "         Z[2:  , 0:-2] + Z[2:  , 1:-1] + Z[2:  , 2:])\n",
    "    birth = (N == 3) & (Z[1:-1, 1:-1] == 0)\n",
    "    survive = ((N == 2) | (N == 3)) & (Z[1:-1, 1:-1] == 1)\n",
    "    Z[...] = 0\n",
    "    Z[1:-1, 1:-1][birth | survive] = 1\n",
    "    return Z\n",
    "\n",
    "Z = np.random.randint(0, 2, (10, 10))\n",
    "print(\"Initial state:\")\n",
    "print(Z)\n",
    "for i in range(5):\n",
    "    Z = iterate(Z)\n",
    "print(\"\\nAfter 5 iterations:\")\n",
    "print(Z)"
   ]
  },
  {
   "cell_type": "markdown",
   "id": "a173cf96",
   "metadata": {
    "id": "a173cf96"
   },
   "source": [
    "#### 89. How to get the n largest values of an array (★★★)"
   ]
  },
  {
   "cell_type": "code",
   "execution_count": 279,
   "id": "b7c2ff35",
   "metadata": {
    "id": "b7c2ff35"
   },
   "outputs": [
    {
     "name": "stdout",
     "output_type": "stream",
     "text": [
      "Array (first 20 elements): [62 60 28 97 88 46 58 48 39 47 89 71 36 50 17 78 67 42 57 51]\n",
      "\n",
      "5 largest values: [99 98 97 96 95]\n"
     ]
    }
   ],
   "source": [
    "Z = np.arange(100)\n",
    "np.random.shuffle(Z)\n",
    "n = 5\n",
    "print(\"Array (first 20 elements):\", Z[:20])\n",
    "largest = Z[np.argpartition(-Z, n)[:n]]\n",
    "print(f\"\\n{n} largest values:\", largest)"
   ]
  },
  {
   "cell_type": "markdown",
   "id": "15db2d01",
   "metadata": {
    "id": "15db2d01"
   },
   "source": [
    "#### 90. Given an arbitrary number of vectors, build the cartesian product (every combinations of every item) (★★★)"
   ]
  },
  {
   "cell_type": "code",
   "execution_count": 280,
   "id": "a9a4633d",
   "metadata": {
    "id": "a9a4633d"
   },
   "outputs": [
    {
     "name": "stdout",
     "output_type": "stream",
     "text": [
      "Cartesian product:\n",
      "[[1 4 6]\n",
      " [1 4 7]\n",
      " [1 5 6]\n",
      " [1 5 7]\n",
      " [2 4 6]\n",
      " [2 4 7]\n",
      " [2 5 6]\n",
      " [2 5 7]\n",
      " [3 4 6]\n",
      " [3 4 7]\n",
      " [3 5 6]\n",
      " [3 5 7]]\n"
     ]
    }
   ],
   "source": [
    "def cartesian(arrays):\n",
    "    arrays = [np.asarray(a) for a in arrays]\n",
    "    shape = tuple(len(x) for x in arrays)\n",
    "    ix = np.indices(shape, dtype=int)\n",
    "    ix = ix.reshape(len(arrays), -1).T\n",
    "    for n, arr in enumerate(arrays):\n",
    "        ix[:, n] = arrays[n][ix[:, n]]\n",
    "    return ix\n",
    "\n",
    "result = cartesian(([1, 2, 3], [4, 5], [6, 7]))\n",
    "print(\"Cartesian product:\")\n",
    "print(result)"
   ]
  },
  {
   "cell_type": "markdown",
   "id": "5d94d1ef",
   "metadata": {
    "id": "5d94d1ef"
   },
   "source": [
    "#### 91. How to create a record array from a regular array? (★★★)"
   ]
  },
  {
   "cell_type": "code",
   "execution_count": 281,
   "id": "b1dae380",
   "metadata": {
    "id": "b1dae380"
   },
   "outputs": [
    {
     "name": "stdout",
     "output_type": "stream",
     "text": [
      "Regular array:\n",
      "[['Hello' '2.5' '3']\n",
      " ['World' '3.6' '2']]\n",
      "\n",
      "Record array:\n",
      "[(b'Hello', 2.5, 3) (b'World', 3.6, 2)]\n"
     ]
    },
    {
     "name": "stderr",
     "output_type": "stream",
     "text": [
      "C:\\Users\\Bakir\\AppData\\Local\\Temp\\ipykernel_21752\\3376599292.py:4: DeprecationWarning: numpy.core is deprecated and has been renamed to numpy._core. The numpy._core namespace contains private NumPy internals and its use is discouraged, as NumPy internals can change without warning in any release. In practice, most real-world usage of numpy.core is to access functionality in the public NumPy API. If that is the case, use the public NumPy API. If not, you are using NumPy internals. If you would still like to access an internal attribute, use numpy._core.records.\n",
      "  R = np.core.records.fromarrays(Z.T, names='col1, col2, col3', formats='S8, f8, i8')\n"
     ]
    }
   ],
   "source": [
    "Z = np.array([(\"Hello\", 2.5, 3), (\"World\", 3.6, 2)])\n",
    "print(\"Regular array:\")\n",
    "print(Z)\n",
    "R = np.core.records.fromarrays(Z.T, names='col1, col2, col3', formats='S8, f8, i8')\n",
    "print(\"\\nRecord array:\")\n",
    "print(R)"
   ]
  },
  {
   "cell_type": "markdown",
   "id": "114ccc36",
   "metadata": {
    "id": "114ccc36"
   },
   "source": [
    "#### 92. Consider a large vector Z, compute Z to the power of 3 using 3 different methods (★★★)"
   ]
  },
  {
   "cell_type": "code",
   "execution_count": 282,
   "id": "877c65d6",
   "metadata": {
    "id": "877c65d6"
   },
   "outputs": [
    {
     "name": "stdout",
     "output_type": "stream",
     "text": [
      "Method 1 (x**3): 0.059000 seconds\n",
      "Method 2 (x*x*x): 0.008001 seconds\n",
      "Method 3 (np.power): 0.059000 seconds\n"
     ]
    }
   ],
   "source": [
    "x = np.random.rand(int(1e6))\n",
    "\n",
    "import time\n",
    "\n",
    "start = time.time()\n",
    "_ = x**3\n",
    "t1 = time.time() - start\n",
    "print(f\"Method 1 (x**3): {t1:.6f} seconds\")\n",
    "\n",
    "start = time.time()\n",
    "_ = x*x*x\n",
    "t2 = time.time() - start\n",
    "print(f\"Method 2 (x*x*x): {t2:.6f} seconds\")\n",
    "\n",
    "start = time.time()\n",
    "_ = np.power(x, 3)\n",
    "t3 = time.time() - start\n",
    "print(f\"Method 3 (np.power): {t3:.6f} seconds\")"
   ]
  },
  {
   "cell_type": "markdown",
   "id": "d614fee4",
   "metadata": {
    "id": "d614fee4"
   },
   "source": [
    "#### 93. Consider two arrays A and B of shape (8,3) and (2,2). How to find rows of A that contain elements of each row of B regardless of the order of the elements in B? (★★★)"
   ]
  },
  {
   "cell_type": "code",
   "execution_count": 283,
   "id": "e6807a84",
   "metadata": {
    "id": "e6807a84"
   },
   "outputs": [
    {
     "name": "stdout",
     "output_type": "stream",
     "text": [
      "Array A:\n",
      "[[1 3 2]\n",
      " [4 3 2]\n",
      " [3 3 1]\n",
      " [4 3 3]\n",
      " [3 4 0]\n",
      " [1 0 2]\n",
      " [2 2 4]\n",
      " [4 4 2]]\n",
      "\n",
      "Array B:\n",
      "[[4 1]\n",
      " [3 4]]\n",
      "\n",
      "Rows of A containing all elements of each row of B:\n",
      "[0 1 2 3 4 6 7]\n"
     ]
    }
   ],
   "source": [
    "A = np.random.randint(0, 5, (8, 3))\n",
    "B = np.random.randint(0, 5, (2, 2))\n",
    "print(\"Array A:\")\n",
    "print(A)\n",
    "print(\"\\nArray B:\")\n",
    "print(B)\n",
    "C = (A[..., np.newaxis, np.newaxis] == B)\n",
    "rows = np.where(C.any((3, 1)).all(1))[0]\n",
    "print(\"\\nRows of A containing all elements of each row of B:\")\n",
    "print(rows)"
   ]
  },
  {
   "cell_type": "markdown",
   "id": "b0eedca6",
   "metadata": {
    "id": "b0eedca6"
   },
   "source": [
    "#### 94. Considering a 10x3 matrix, extract rows with unequal values (e.g. [2,2,3]) (★★★)"
   ]
  },
  {
   "cell_type": "code",
   "execution_count": 284,
   "id": "fc136ce2",
   "metadata": {
    "id": "fc136ce2"
   },
   "outputs": [
    {
     "name": "stdout",
     "output_type": "stream",
     "text": [
      "Original matrix:\n",
      "[[3 1 1]\n",
      " [1 0 1]\n",
      " [4 4 0]\n",
      " [4 3 0]\n",
      " [1 3 0]\n",
      " [1 1 3]\n",
      " [2 0 2]\n",
      " [3 0 1]\n",
      " [3 4 2]\n",
      " [0 0 4]]\n",
      "\n",
      "Rows with unequal values:\n",
      "[[3 1 1]\n",
      " [1 0 1]\n",
      " [4 4 0]\n",
      " [4 3 0]\n",
      " [1 3 0]\n",
      " [1 1 3]\n",
      " [2 0 2]\n",
      " [3 0 1]\n",
      " [3 4 2]\n",
      " [0 0 4]]\n"
     ]
    }
   ],
   "source": [
    "Z = np.random.randint(0, 5, (10, 3))\n",
    "print(\"Original matrix:\")\n",
    "print(Z)\n",
    "E = np.all(Z[:, 1:] == Z[:, :-1], axis=1)\n",
    "U = Z[~E]\n",
    "print(\"\\nRows with unequal values:\")\n",
    "print(U)"
   ]
  },
  {
   "cell_type": "markdown",
   "id": "a65ec1cf",
   "metadata": {
    "id": "a65ec1cf"
   },
   "source": [
    "#### 95. Convert a vector of ints into a matrix binary representation (★★★)"
   ]
  },
  {
   "cell_type": "code",
   "execution_count": 285,
   "id": "323cdf4c",
   "metadata": {
    "id": "323cdf4c"
   },
   "outputs": [
    {
     "name": "stdout",
     "output_type": "stream",
     "text": [
      "Integers: [  0   1   2   3  15  16  32  64 128]\n",
      "\n",
      "Binary representation:\n",
      "[[0 0 0 0 0 0 0 0]\n",
      " [0 0 0 0 0 0 0 1]\n",
      " [0 0 0 0 0 0 1 0]\n",
      " [0 0 0 0 0 0 1 1]\n",
      " [0 0 0 0 1 1 1 1]\n",
      " [0 0 0 1 0 0 0 0]\n",
      " [0 0 1 0 0 0 0 0]\n",
      " [0 1 0 0 0 0 0 0]\n",
      " [1 0 0 0 0 0 0 0]]\n"
     ]
    }
   ],
   "source": [
    "I = np.array([0, 1, 2, 3, 15, 16, 32, 64, 128])\n",
    "print(\"Integers:\", I)\n",
    "B = ((I.reshape(-1, 1) & (2**np.arange(8))) != 0).astype(int)\n",
    "print(\"\\nBinary representation:\")\n",
    "print(B[:, ::-1])"
   ]
  },
  {
   "cell_type": "markdown",
   "id": "75b9397f",
   "metadata": {
    "id": "75b9397f"
   },
   "source": [
    "#### 96. Given a two dimensional array, how to extract unique rows? (★★★)"
   ]
  },
  {
   "cell_type": "code",
   "execution_count": 286,
   "id": "9bb56a47",
   "metadata": {
    "id": "9bb56a47"
   },
   "outputs": [
    {
     "name": "stdout",
     "output_type": "stream",
     "text": [
      "Original array:\n",
      "[[0 0 0]\n",
      " [1 1 0]\n",
      " [1 0 1]\n",
      " [1 0 0]\n",
      " [0 0 0]\n",
      " [0 1 0]]\n",
      "\n",
      "Unique rows:\n",
      "[[0 0 0]\n",
      " [0 1 0]\n",
      " [1 0 0]\n",
      " [1 0 1]\n",
      " [1 1 0]]\n"
     ]
    }
   ],
   "source": [
    "Z = np.random.randint(0, 2, (6, 3))\n",
    "print(\"Original array:\")\n",
    "print(Z)\n",
    "T = np.ascontiguousarray(Z).view(np.dtype((np.void, Z.dtype.itemsize * Z.shape[1])))\n",
    "_, idx = np.unique(T, return_index=True)\n",
    "uZ = Z[idx]\n",
    "print(\"\\nUnique rows:\")\n",
    "print(uZ)"
   ]
  },
  {
   "cell_type": "markdown",
   "id": "82aaf21b",
   "metadata": {
    "id": "82aaf21b"
   },
   "source": [
    "#### 97. Considering 2 vectors A & B, write the einsum equivalent of inner, outer, sum, and mul function (★★★)"
   ]
  },
  {
   "cell_type": "code",
   "execution_count": 287,
   "id": "cedcefd9",
   "metadata": {
    "id": "cedcefd9"
   },
   "outputs": [
    {
     "name": "stdout",
     "output_type": "stream",
     "text": [
      "A: [0.77634548 0.48884305 0.59351896 0.88223088 0.60037838 0.57715385\n",
      " 0.12726217 0.43349224 0.01260142 0.49252381]\n",
      "B: [0.73062856 0.59988239 0.45550541 0.20033118 0.93541203 0.71711422\n",
      " 0.75659612 0.75014852 0.00737364 0.78743545]\n",
      "\n",
      "Inner product: 3.0924376271714697\n",
      "np.inner equivalent: 3.0924376271714706\n",
      "\n",
      "Outer product shape: (10, 10)\n",
      "np.outer equivalent shape: (10, 10)\n",
      "\n",
      "Sum: 4.984350255600079\n",
      "np.sum equivalent: 4.984350255600079\n",
      "\n",
      "Element-wise mul: [5.67220183e-01 2.93248335e-01 2.70351098e-01 1.76738357e-01\n",
      " 5.61601164e-01 4.13885238e-01 9.62860628e-02 3.25183562e-01\n",
      " 9.29183531e-05 3.87830709e-01]\n",
      "A*B equivalent: [5.67220183e-01 2.93248335e-01 2.70351098e-01 1.76738357e-01\n",
      " 5.61601164e-01 4.13885238e-01 9.62860628e-02 3.25183562e-01\n",
      " 9.29183531e-05 3.87830709e-01]\n"
     ]
    }
   ],
   "source": [
    "A = np.random.uniform(0, 1, 10)\n",
    "B = np.random.uniform(0, 1, 10)\n",
    "print(\"A:\", A)\n",
    "print(\"B:\", B)\n",
    "\n",
    "print(\"\\nInner product:\", np.einsum('i,i', A, B))\n",
    "print(\"np.inner equivalent:\", np.inner(A, B))\n",
    "\n",
    "print(\"\\nOuter product shape:\", np.einsum('i,j', A, B).shape)\n",
    "print(\"np.outer equivalent shape:\", np.outer(A, B).shape)\n",
    "\n",
    "print(\"\\nSum:\", np.einsum('i->', A))\n",
    "print(\"np.sum equivalent:\", np.sum(A))\n",
    "\n",
    "print(\"\\nElement-wise mul:\", np.einsum('i,i->i', A, B))\n",
    "print(\"A*B equivalent:\", (A*B))"
   ]
  },
  {
   "cell_type": "markdown",
   "id": "7741e17f",
   "metadata": {
    "id": "7741e17f"
   },
   "source": [
    "#### 98. Considering a path described by two vectors (X,Y), how to sample it using equidistant samples (★★★)?"
   ]
  },
  {
   "cell_type": "code",
   "execution_count": 288,
   "id": "0b2432fe",
   "metadata": {
    "id": "0b2432fe"
   },
   "outputs": [
    {
     "name": "stdout",
     "output_type": "stream",
     "text": [
      "Original points: 315\n",
      "Cumulative distances calculated\n",
      "Equidistant sampled points: 200\n"
     ]
    }
   ],
   "source": [
    "phi = np.arange(0, 10*np.pi, 0.1)\n",
    "a = 1\n",
    "x = a*phi*np.cos(phi)\n",
    "y = a*phi*np.sin(phi)\n",
    "print(\"Original points:\", len(x))\n",
    "\n",
    "dr = (np.diff(x)**2 + np.diff(y)**2)**.5\n",
    "r = np.zeros_like(x)\n",
    "r[1:] = np.cumsum(dr)\n",
    "print(\"Cumulative distances calculated\")\n",
    "\n",
    "r_int = np.linspace(0, r.max(), 200)\n",
    "x_int = np.interp(r_int, r, x)\n",
    "y_int = np.interp(r_int, r, y)\n",
    "print(\"Equidistant sampled points:\", len(x_int))"
   ]
  },
  {
   "cell_type": "markdown",
   "id": "340d6f36",
   "metadata": {
    "id": "340d6f36"
   },
   "source": [
    "#### 99. Given an integer n and a 2D array X, select from X the rows which can be interpreted as draws from a multinomial distribution with n degrees, i.e., the rows which only contain integers and which sum to n. (★★★)"
   ]
  },
  {
   "cell_type": "code",
   "execution_count": 289,
   "id": "a75323ae",
   "metadata": {
    "id": "a75323ae"
   },
   "outputs": [
    {
     "name": "stdout",
     "output_type": "stream",
     "text": [
      "Array X:\n",
      "[[ 6 18 10]\n",
      " [17 19 19]\n",
      " [12  5 14]\n",
      " [15 24 18]\n",
      " [13  3  8]\n",
      " [ 3 19 17]\n",
      " [ 5  0 18]\n",
      " [22 14 23]\n",
      " [ 1 22 20]\n",
      " [20  1  7]]\n",
      "\n",
      "Row sums: [34 55 31 57 24 39 23 59 43 28]\n",
      "\n",
      "Rows that sum to 24:\n",
      "[[13  3  8]]\n"
     ]
    }
   ],
   "source": [
    "n = 24\n",
    "X = np.random.randint(0, n+1, (10, 3))\n",
    "print(\"Array X:\")\n",
    "print(X)\n",
    "print(\"\\nRow sums:\", X.sum(axis=1))\n",
    "valid = (X.sum(axis=1) == n) & np.all((X >= 0), axis=1)\n",
    "result = X[valid]\n",
    "print(f\"\\nRows that sum to {n}:\")\n",
    "print(result)"
   ]
  },
  {
   "cell_type": "markdown",
   "id": "19721849",
   "metadata": {
    "id": "19721849"
   },
   "source": [
    "#### 100. Compute bootstrapped 95% confidence intervals for the mean of a 1D array X (i.e., resample the elements of an array with replacement N times, compute the mean of each sample, and then compute percentiles over the means). (★★★)"
   ]
  },
  {
   "cell_type": "code",
   "execution_count": 290,
   "id": "87309c6f",
   "metadata": {
    "id": "87309c6f"
   },
   "outputs": [
    {
     "name": "stdout",
     "output_type": "stream",
     "text": [
      "Original array mean: 0.09954778532131883\n",
      "Original array std: 1.0556765007961209\n",
      "\n",
      "Bootstrap samples: 1000\n",
      "Bootstrap means (first 10): [0.04349729 0.08289594 0.23368903 0.0758498  0.09078206 0.11437169\n",
      " 0.09670288 0.00379665 0.03510894 0.08229658]\n",
      "\n",
      "95% confidence interval for the mean:\n",
      "Lower bound: -0.1034\n",
      "Upper bound: 0.2949\n"
     ]
    }
   ],
   "source": [
    "X = np.random.randn(100)\n",
    "print(\"Original array mean:\", X.mean())\n",
    "print(\"Original array std:\", X.std())\n",
    "\n",
    "N = 1000\n",
    "idx = np.random.randint(0, X.size, (N, X.size))\n",
    "means = X[idx].mean(axis=1)\n",
    "print(f\"\\nBootstrap samples: {N}\")\n",
    "print(\"Bootstrap means (first 10):\", means[:10])\n",
    "\n",
    "confint = np.percentile(means, [2.5, 97.5])\n",
    "print(\"\\n95% confidence interval for the mean:\")\n",
    "print(f\"Lower bound: {confint[0]:.4f}\")\n",
    "print(f\"Upper bound: {confint[1]:.4f}\")"
   ]
  }
 ],
 "metadata": {
  "colab": {
   "provenance": []
  },
  "kernelspec": {
   "display_name": "data_llm",
   "language": "python",
   "name": "python3"
  },
  "language_info": {
   "codemirror_mode": {
    "name": "ipython",
    "version": 3
   },
   "file_extension": ".py",
   "mimetype": "text/x-python",
   "name": "python",
   "nbconvert_exporter": "python",
   "pygments_lexer": "ipython3",
   "version": "3.12.11"
  }
 },
 "nbformat": 4,
 "nbformat_minor": 5
}
