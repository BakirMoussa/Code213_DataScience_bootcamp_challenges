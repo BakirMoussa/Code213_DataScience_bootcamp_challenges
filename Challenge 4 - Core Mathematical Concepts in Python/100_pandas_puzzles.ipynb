{
 "cells": [
  {
   "cell_type": "markdown",
   "metadata": {
    "id": "GaCfjeAcDXQm"
   },
   "source": [
    "# 100 pandas\n",
    "\n",
    "Inspired by [100 Numpy exerises], here are 100* short puzzles for testing your knowledge of [pandas'](http://pandas.pydata.org/) power.\n",
    "\n",
    "Since pandas is a large library with many different specialist features and functions, these excercises focus mainly on the fundamentals of manipulating data (indexing, grouping, aggregating, cleaning), making use of the core DataFrame and Series objects.\n",
    "\n",
    "Many of the excerises here are stright-forward in that the solutions require no more than a few lines of code (in pandas or NumPy... don't go using pure Python or Cython!). Choosing the right methods and following best practices is the underlying goal.\n",
    "\n",
    "The exercises are loosely divided in sections. Each section has a difficulty rating; these ratings are subjective, of course, but should be a seen as a rough guide as to how inventive the required solution is.\n",
    "\n",
    "If you're just starting out with pandas and you are looking for some other resources, the official documentation  is very extensive. In particular, some good places get a broader overview of pandas are...\n",
    "\n",
    "- [10 minutes to pandas](http://pandas.pydata.org/pandas-docs/stable/10min.html)\n",
    "- [pandas basics](http://pandas.pydata.org/pandas-docs/stable/basics.html)\n",
    "- [tutorials](http://pandas.pydata.org/pandas-docs/stable/tutorials.html)\n",
    "- [cookbook and idioms](http://pandas.pydata.org/pandas-docs/stable/cookbook.html#cookbook)\n",
    "\n",
    "Enjoy the puzzles!\n",
    "\n",
    "\\* *the list of exercises is not yet complete! Pull requests or suggestions for additional exercises, corrections and improvements are welcomed.*"
   ]
  },
  {
   "cell_type": "markdown",
   "metadata": {
    "id": "GjUpRlnxDXQr"
   },
   "source": [
    "## Importing pandas\n",
    "\n",
    "### Getting started and checking your pandas setup\n",
    "\n",
    "Difficulty: *easy*\n",
    "\n",
    "**1.** Import pandas under the alias `pd`."
   ]
  },
  {
   "cell_type": "code",
   "execution_count": 149,
   "metadata": {
    "collapsed": true,
    "id": "8JysHadgDXQs"
   },
   "outputs": [],
   "source": [
    "import pandas as pd"
   ]
  },
  {
   "cell_type": "markdown",
   "metadata": {
    "id": "HziQ41wEDXQs"
   },
   "source": [
    "**2.** Print the version of pandas that has been imported."
   ]
  },
  {
   "cell_type": "code",
   "execution_count": 150,
   "metadata": {
    "colab": {
     "base_uri": "https://localhost:8080/",
     "height": 35
    },
    "collapsed": true,
    "id": "Y7Bwu091DXQt",
    "outputId": "e3ba30d8-84d7-45ca-f6ad-66cea459513d"
   },
   "outputs": [
    {
     "data": {
      "text/plain": [
       "'2.3.3'"
      ]
     },
     "execution_count": 150,
     "metadata": {},
     "output_type": "execute_result"
    }
   ],
   "source": [
    "pd.__version__"
   ]
  },
  {
   "cell_type": "markdown",
   "metadata": {
    "id": "1gmByDESDXQt"
   },
   "source": [
    "**3.** Print out all the *version* information of the libraries that are required by the pandas library."
   ]
  },
  {
   "cell_type": "code",
   "execution_count": 151,
   "metadata": {
    "colab": {
     "base_uri": "https://localhost:8080/"
    },
    "collapsed": true,
    "id": "K5kObb5xDXQt",
    "outputId": "9a8703d4-b9e6-4eac-e0b8-f61afa9cb386"
   },
   "outputs": [
    {
     "name": "stdout",
     "output_type": "stream",
     "text": [
      "\n",
      "INSTALLED VERSIONS\n",
      "------------------\n",
      "commit                : 9c8bc3e55188c8aff37207a74f1dd144980b8874\n",
      "python                : 3.12.11\n",
      "python-bits           : 64\n",
      "OS                    : Windows\n",
      "OS-release            : 10\n",
      "Version               : 10.0.19045\n",
      "machine               : AMD64\n",
      "processor             : Intel64 Family 6 Model 142 Stepping 9, GenuineIntel\n",
      "byteorder             : little\n",
      "LC_ALL                : None\n",
      "LANG                  : None\n",
      "LOCALE                : English_United States.1252\n",
      "\n",
      "pandas                : 2.3.3\n",
      "numpy                 : 2.2.6\n",
      "pytz                  : 2025.2\n",
      "dateutil              : 2.9.0.post0\n",
      "pip                   : 25.2\n",
      "Cython                : None\n",
      "sphinx                : None\n",
      "IPython               : 9.6.0\n",
      "adbc-driver-postgresql: None\n",
      "adbc-driver-sqlite    : None\n",
      "bs4                   : 4.14.2\n",
      "blosc                 : None\n",
      "bottleneck            : None\n",
      "dataframe-api-compat  : None\n",
      "fastparquet           : None\n",
      "fsspec                : 2025.9.0\n",
      "html5lib              : None\n",
      "hypothesis            : None\n",
      "gcsfs                 : None\n",
      "jinja2                : 3.1.6\n",
      "lxml.etree            : None\n",
      "matplotlib            : 3.10.6\n",
      "numba                 : None\n",
      "numexpr               : None\n",
      "odfpy                 : None\n",
      "openpyxl              : None\n",
      "pandas_gbq            : None\n",
      "psycopg2              : None\n",
      "pymysql               : None\n",
      "pyarrow               : 21.0.0\n",
      "pyreadstat            : None\n",
      "pytest                : None\n",
      "python-calamine       : None\n",
      "pyxlsb                : None\n",
      "s3fs                  : None\n",
      "scipy                 : 1.16.2\n",
      "sqlalchemy            : 2.0.43\n",
      "tables                : None\n",
      "tabulate              : None\n",
      "xarray                : None\n",
      "xlrd                  : None\n",
      "xlsxwriter            : None\n",
      "zstandard             : 0.25.0\n",
      "tzdata                : 2025.2\n",
      "qtpy                  : None\n",
      "pyqt5                 : None\n"
     ]
    }
   ],
   "source": [
    "pd.show_versions()"
   ]
  },
  {
   "cell_type": "markdown",
   "metadata": {
    "id": "YqMAqnvZDXQu"
   },
   "source": [
    "## DataFrame basics\n",
    "\n",
    "### A few of the fundamental routines for selecting, sorting, adding and aggregating data in DataFrames\n",
    "\n",
    "Difficulty: *easy*\n",
    "\n",
    "Note: remember to import numpy using:\n",
    "```python\n",
    "import numpy as np\n",
    "```\n",
    "\n",
    "Consider the following Python dictionary `data` and Python list `labels`:\n",
    "\n",
    "``` python\n",
    "data = {'animal': ['cat', 'cat', 'snake', 'dog', 'dog', 'cat', 'snake', 'cat', 'dog', 'dog'],\n",
    "        'age': [2.5, 3, 0.5, np.nan, 5, 2, 4.5, np.nan, 7, 3],\n",
    "        'visits': [1, 3, 2, 3, 2, 3, 1, 1, 2, 1],\n",
    "        'priority': ['yes', 'yes', 'no', 'yes', 'no', 'no', 'no', 'yes', 'no', 'no']}\n",
    "\n",
    "labels = ['a', 'b', 'c', 'd', 'e', 'f', 'g', 'h', 'i', 'j']\n",
    "```\n",
    "(This is just some meaningless data I made up with the theme of animals and trips to a vet.)\n",
    "\n",
    "**4.** Create a DataFrame `df` from this dictionary `data` which has the index `labels`."
   ]
  },
  {
   "cell_type": "code",
   "execution_count": 152,
   "metadata": {
    "colab": {
     "base_uri": "https://localhost:8080/",
     "height": 363
    },
    "collapsed": true,
    "id": "pI0LGtlHDXQu",
    "outputId": "f32f2469-c35d-4c4b-e259-2c9464e2c20f"
   },
   "outputs": [
    {
     "data": {
      "text/html": [
       "<div>\n",
       "<style scoped>\n",
       "    .dataframe tbody tr th:only-of-type {\n",
       "        vertical-align: middle;\n",
       "    }\n",
       "\n",
       "    .dataframe tbody tr th {\n",
       "        vertical-align: top;\n",
       "    }\n",
       "\n",
       "    .dataframe thead th {\n",
       "        text-align: right;\n",
       "    }\n",
       "</style>\n",
       "<table border=\"1\" class=\"dataframe\">\n",
       "  <thead>\n",
       "    <tr style=\"text-align: right;\">\n",
       "      <th></th>\n",
       "      <th>animal</th>\n",
       "      <th>age</th>\n",
       "      <th>visits</th>\n",
       "      <th>priority</th>\n",
       "    </tr>\n",
       "  </thead>\n",
       "  <tbody>\n",
       "    <tr>\n",
       "      <th>a</th>\n",
       "      <td>cat</td>\n",
       "      <td>2.5</td>\n",
       "      <td>1</td>\n",
       "      <td>yes</td>\n",
       "    </tr>\n",
       "    <tr>\n",
       "      <th>b</th>\n",
       "      <td>cat</td>\n",
       "      <td>3.0</td>\n",
       "      <td>3</td>\n",
       "      <td>yes</td>\n",
       "    </tr>\n",
       "    <tr>\n",
       "      <th>c</th>\n",
       "      <td>snake</td>\n",
       "      <td>0.5</td>\n",
       "      <td>2</td>\n",
       "      <td>no</td>\n",
       "    </tr>\n",
       "    <tr>\n",
       "      <th>d</th>\n",
       "      <td>dog</td>\n",
       "      <td>NaN</td>\n",
       "      <td>3</td>\n",
       "      <td>yes</td>\n",
       "    </tr>\n",
       "    <tr>\n",
       "      <th>e</th>\n",
       "      <td>dog</td>\n",
       "      <td>5.0</td>\n",
       "      <td>2</td>\n",
       "      <td>no</td>\n",
       "    </tr>\n",
       "    <tr>\n",
       "      <th>f</th>\n",
       "      <td>cat</td>\n",
       "      <td>2.0</td>\n",
       "      <td>3</td>\n",
       "      <td>no</td>\n",
       "    </tr>\n",
       "    <tr>\n",
       "      <th>g</th>\n",
       "      <td>snake</td>\n",
       "      <td>4.5</td>\n",
       "      <td>1</td>\n",
       "      <td>no</td>\n",
       "    </tr>\n",
       "    <tr>\n",
       "      <th>h</th>\n",
       "      <td>cat</td>\n",
       "      <td>NaN</td>\n",
       "      <td>1</td>\n",
       "      <td>yes</td>\n",
       "    </tr>\n",
       "    <tr>\n",
       "      <th>i</th>\n",
       "      <td>dog</td>\n",
       "      <td>7.0</td>\n",
       "      <td>2</td>\n",
       "      <td>no</td>\n",
       "    </tr>\n",
       "    <tr>\n",
       "      <th>j</th>\n",
       "      <td>dog</td>\n",
       "      <td>3.0</td>\n",
       "      <td>1</td>\n",
       "      <td>no</td>\n",
       "    </tr>\n",
       "  </tbody>\n",
       "</table>\n",
       "</div>"
      ],
      "text/plain": [
       "  animal  age  visits priority\n",
       "a    cat  2.5       1      yes\n",
       "b    cat  3.0       3      yes\n",
       "c  snake  0.5       2       no\n",
       "d    dog  NaN       3      yes\n",
       "e    dog  5.0       2       no\n",
       "f    cat  2.0       3       no\n",
       "g  snake  4.5       1       no\n",
       "h    cat  NaN       1      yes\n",
       "i    dog  7.0       2       no\n",
       "j    dog  3.0       1       no"
      ]
     },
     "execution_count": 152,
     "metadata": {},
     "output_type": "execute_result"
    }
   ],
   "source": [
    "import numpy as np\n",
    "\n",
    "data = {'animal': ['cat', 'cat', 'snake', 'dog', 'dog', 'cat', 'snake', 'cat', 'dog', 'dog'],\n",
    "        'age': [2.5, 3, 0.5, np.nan, 5, 2, 4.5, np.nan, 7, 3],\n",
    "        'visits': [1, 3, 2, 3, 2, 3, 1, 1, 2, 1],\n",
    "        'priority': ['yes', 'yes', 'no', 'yes', 'no', 'no', 'no', 'yes', 'no', 'no']}\n",
    "\n",
    "labels = ['a', 'b', 'c', 'd', 'e', 'f', 'g', 'h', 'i', 'j']\n",
    "\n",
    "df = pd.DataFrame(data, index=labels) # (complete this line of code)\n",
    "df"
   ]
  },
  {
   "cell_type": "markdown",
   "metadata": {
    "id": "BfPbyS7SDXQv"
   },
   "source": [
    "**5.** Display a summary of the basic information about this DataFrame and its data (*hint: there is a single method that can be called on the DataFrame*)."
   ]
  },
  {
   "cell_type": "code",
   "execution_count": 153,
   "metadata": {
    "colab": {
     "base_uri": "https://localhost:8080/"
    },
    "collapsed": true,
    "id": "Jp9GG81TDXQw",
    "outputId": "fced4c82-5c00-411a-e7e4-e7f1f691cd36"
   },
   "outputs": [
    {
     "name": "stdout",
     "output_type": "stream",
     "text": [
      "            age     visits\n",
      "count  8.000000  10.000000\n",
      "mean   3.437500   1.900000\n",
      "std    2.007797   0.875595\n",
      "min    0.500000   1.000000\n",
      "25%    2.375000   1.000000\n",
      "50%    3.000000   2.000000\n",
      "75%    4.625000   2.750000\n",
      "max    7.000000   3.000000\n",
      "______________________________________\n",
      "<class 'pandas.core.frame.DataFrame'>\n",
      "Index: 10 entries, a to j\n",
      "Data columns (total 4 columns):\n",
      " #   Column    Non-Null Count  Dtype  \n",
      "---  ------    --------------  -----  \n",
      " 0   animal    10 non-null     object \n",
      " 1   age       8 non-null      float64\n",
      " 2   visits    10 non-null     int64  \n",
      " 3   priority  10 non-null     object \n",
      "dtypes: float64(1), int64(1), object(2)\n",
      "memory usage: 400.0+ bytes\n",
      "None\n",
      "______________________________________\n",
      "animal       object\n",
      "age         float64\n",
      "visits        int64\n",
      "priority     object\n",
      "dtype: object\n"
     ]
    }
   ],
   "source": [
    "print(df.describe())\n",
    "print('______________________________________')\n",
    "print(df.info())\n",
    "print('______________________________________')\n",
    "print(df.dtypes)"
   ]
  },
  {
   "cell_type": "markdown",
   "metadata": {
    "id": "JFwTLk4BDXQw"
   },
   "source": [
    "**6.** Return the first 3 rows of the DataFrame `df`."
   ]
  },
  {
   "cell_type": "code",
   "execution_count": 154,
   "metadata": {
    "colab": {
     "base_uri": "https://localhost:8080/",
     "height": 143
    },
    "collapsed": true,
    "id": "y4BGrHvzDXQw",
    "outputId": "5ab3c9f2-6857-4ae2-f040-7b851cf38ac9"
   },
   "outputs": [
    {
     "data": {
      "text/html": [
       "<div>\n",
       "<style scoped>\n",
       "    .dataframe tbody tr th:only-of-type {\n",
       "        vertical-align: middle;\n",
       "    }\n",
       "\n",
       "    .dataframe tbody tr th {\n",
       "        vertical-align: top;\n",
       "    }\n",
       "\n",
       "    .dataframe thead th {\n",
       "        text-align: right;\n",
       "    }\n",
       "</style>\n",
       "<table border=\"1\" class=\"dataframe\">\n",
       "  <thead>\n",
       "    <tr style=\"text-align: right;\">\n",
       "      <th></th>\n",
       "      <th>animal</th>\n",
       "      <th>age</th>\n",
       "      <th>visits</th>\n",
       "      <th>priority</th>\n",
       "    </tr>\n",
       "  </thead>\n",
       "  <tbody>\n",
       "    <tr>\n",
       "      <th>a</th>\n",
       "      <td>cat</td>\n",
       "      <td>2.5</td>\n",
       "      <td>1</td>\n",
       "      <td>yes</td>\n",
       "    </tr>\n",
       "    <tr>\n",
       "      <th>b</th>\n",
       "      <td>cat</td>\n",
       "      <td>3.0</td>\n",
       "      <td>3</td>\n",
       "      <td>yes</td>\n",
       "    </tr>\n",
       "    <tr>\n",
       "      <th>c</th>\n",
       "      <td>snake</td>\n",
       "      <td>0.5</td>\n",
       "      <td>2</td>\n",
       "      <td>no</td>\n",
       "    </tr>\n",
       "  </tbody>\n",
       "</table>\n",
       "</div>"
      ],
      "text/plain": [
       "  animal  age  visits priority\n",
       "a    cat  2.5       1      yes\n",
       "b    cat  3.0       3      yes\n",
       "c  snake  0.5       2       no"
      ]
     },
     "execution_count": 154,
     "metadata": {},
     "output_type": "execute_result"
    }
   ],
   "source": [
    "df.head(3)"
   ]
  },
  {
   "cell_type": "markdown",
   "metadata": {
    "id": "DCIbdfyCDXQw"
   },
   "source": [
    "**7.** Select just the 'animal' and 'age' columns from the DataFrame `df`."
   ]
  },
  {
   "cell_type": "code",
   "execution_count": 155,
   "metadata": {
    "colab": {
     "base_uri": "https://localhost:8080/",
     "height": 363
    },
    "collapsed": true,
    "id": "144EwVjnDXQw",
    "outputId": "d67a4fae-1630-4aa7-bb3d-f0480d4fbc17"
   },
   "outputs": [
    {
     "data": {
      "text/html": [
       "<div>\n",
       "<style scoped>\n",
       "    .dataframe tbody tr th:only-of-type {\n",
       "        vertical-align: middle;\n",
       "    }\n",
       "\n",
       "    .dataframe tbody tr th {\n",
       "        vertical-align: top;\n",
       "    }\n",
       "\n",
       "    .dataframe thead th {\n",
       "        text-align: right;\n",
       "    }\n",
       "</style>\n",
       "<table border=\"1\" class=\"dataframe\">\n",
       "  <thead>\n",
       "    <tr style=\"text-align: right;\">\n",
       "      <th></th>\n",
       "      <th>animal</th>\n",
       "      <th>age</th>\n",
       "    </tr>\n",
       "  </thead>\n",
       "  <tbody>\n",
       "    <tr>\n",
       "      <th>a</th>\n",
       "      <td>cat</td>\n",
       "      <td>2.5</td>\n",
       "    </tr>\n",
       "    <tr>\n",
       "      <th>b</th>\n",
       "      <td>cat</td>\n",
       "      <td>3.0</td>\n",
       "    </tr>\n",
       "    <tr>\n",
       "      <th>c</th>\n",
       "      <td>snake</td>\n",
       "      <td>0.5</td>\n",
       "    </tr>\n",
       "    <tr>\n",
       "      <th>d</th>\n",
       "      <td>dog</td>\n",
       "      <td>NaN</td>\n",
       "    </tr>\n",
       "    <tr>\n",
       "      <th>e</th>\n",
       "      <td>dog</td>\n",
       "      <td>5.0</td>\n",
       "    </tr>\n",
       "    <tr>\n",
       "      <th>f</th>\n",
       "      <td>cat</td>\n",
       "      <td>2.0</td>\n",
       "    </tr>\n",
       "    <tr>\n",
       "      <th>g</th>\n",
       "      <td>snake</td>\n",
       "      <td>4.5</td>\n",
       "    </tr>\n",
       "    <tr>\n",
       "      <th>h</th>\n",
       "      <td>cat</td>\n",
       "      <td>NaN</td>\n",
       "    </tr>\n",
       "    <tr>\n",
       "      <th>i</th>\n",
       "      <td>dog</td>\n",
       "      <td>7.0</td>\n",
       "    </tr>\n",
       "    <tr>\n",
       "      <th>j</th>\n",
       "      <td>dog</td>\n",
       "      <td>3.0</td>\n",
       "    </tr>\n",
       "  </tbody>\n",
       "</table>\n",
       "</div>"
      ],
      "text/plain": [
       "  animal  age\n",
       "a    cat  2.5\n",
       "b    cat  3.0\n",
       "c  snake  0.5\n",
       "d    dog  NaN\n",
       "e    dog  5.0\n",
       "f    cat  2.0\n",
       "g  snake  4.5\n",
       "h    cat  NaN\n",
       "i    dog  7.0\n",
       "j    dog  3.0"
      ]
     },
     "execution_count": 155,
     "metadata": {},
     "output_type": "execute_result"
    }
   ],
   "source": [
    "df[['animal', 'age']]"
   ]
  },
  {
   "cell_type": "markdown",
   "metadata": {
    "id": "RD80cn_zDXQx"
   },
   "source": [
    "**8.** Select the data in rows `[3, 4, 8]` *and* in columns `['animal', 'age']`."
   ]
  },
  {
   "cell_type": "code",
   "execution_count": 156,
   "metadata": {
    "colab": {
     "base_uri": "https://localhost:8080/",
     "height": 143
    },
    "collapsed": true,
    "id": "m-C16FaPDXQx",
    "outputId": "3ba9eeb5-a5a6-4307-aa69-cb02c7b9b04f"
   },
   "outputs": [
    {
     "data": {
      "text/html": [
       "<div>\n",
       "<style scoped>\n",
       "    .dataframe tbody tr th:only-of-type {\n",
       "        vertical-align: middle;\n",
       "    }\n",
       "\n",
       "    .dataframe tbody tr th {\n",
       "        vertical-align: top;\n",
       "    }\n",
       "\n",
       "    .dataframe thead th {\n",
       "        text-align: right;\n",
       "    }\n",
       "</style>\n",
       "<table border=\"1\" class=\"dataframe\">\n",
       "  <thead>\n",
       "    <tr style=\"text-align: right;\">\n",
       "      <th></th>\n",
       "      <th>animal</th>\n",
       "      <th>age</th>\n",
       "    </tr>\n",
       "  </thead>\n",
       "  <tbody>\n",
       "    <tr>\n",
       "      <th>d</th>\n",
       "      <td>dog</td>\n",
       "      <td>NaN</td>\n",
       "    </tr>\n",
       "    <tr>\n",
       "      <th>e</th>\n",
       "      <td>dog</td>\n",
       "      <td>5.0</td>\n",
       "    </tr>\n",
       "    <tr>\n",
       "      <th>i</th>\n",
       "      <td>dog</td>\n",
       "      <td>7.0</td>\n",
       "    </tr>\n",
       "  </tbody>\n",
       "</table>\n",
       "</div>"
      ],
      "text/plain": [
       "  animal  age\n",
       "d    dog  NaN\n",
       "e    dog  5.0\n",
       "i    dog  7.0"
      ]
     },
     "execution_count": 156,
     "metadata": {},
     "output_type": "execute_result"
    }
   ],
   "source": [
    "df.loc[df.index[[3, 4, 8]], ['animal', 'age']]"
   ]
  },
  {
   "cell_type": "markdown",
   "metadata": {
    "id": "dow99e8DDXQx"
   },
   "source": [
    "**9.** Select only the rows where the number of visits is greater than 3."
   ]
  },
  {
   "cell_type": "code",
   "execution_count": 157,
   "metadata": {
    "colab": {
     "base_uri": "https://localhost:8080/",
     "height": 53
    },
    "collapsed": true,
    "id": "cx9lgcDrDXQx",
    "outputId": "35f3fcb5-55f0-4b7c-a9db-c8a40dc45ed8"
   },
   "outputs": [
    {
     "data": {
      "text/html": [
       "<div>\n",
       "<style scoped>\n",
       "    .dataframe tbody tr th:only-of-type {\n",
       "        vertical-align: middle;\n",
       "    }\n",
       "\n",
       "    .dataframe tbody tr th {\n",
       "        vertical-align: top;\n",
       "    }\n",
       "\n",
       "    .dataframe thead th {\n",
       "        text-align: right;\n",
       "    }\n",
       "</style>\n",
       "<table border=\"1\" class=\"dataframe\">\n",
       "  <thead>\n",
       "    <tr style=\"text-align: right;\">\n",
       "      <th></th>\n",
       "      <th>animal</th>\n",
       "      <th>age</th>\n",
       "      <th>visits</th>\n",
       "      <th>priority</th>\n",
       "    </tr>\n",
       "  </thead>\n",
       "  <tbody>\n",
       "  </tbody>\n",
       "</table>\n",
       "</div>"
      ],
      "text/plain": [
       "Empty DataFrame\n",
       "Columns: [animal, age, visits, priority]\n",
       "Index: []"
      ]
     },
     "execution_count": 157,
     "metadata": {},
     "output_type": "execute_result"
    }
   ],
   "source": [
    "df[df['visits'] > 3]"
   ]
  },
  {
   "cell_type": "markdown",
   "metadata": {
    "id": "wMNAaVuJDXQx"
   },
   "source": [
    "**10.** Select the rows where the age is missing, i.e. it is `NaN`."
   ]
  },
  {
   "cell_type": "code",
   "execution_count": 158,
   "metadata": {
    "colab": {
     "base_uri": "https://localhost:8080/",
     "height": 112
    },
    "collapsed": true,
    "id": "PDhVNsRODXQx",
    "outputId": "09c7ecec-1c39-403d-8118-04e0a7d02719"
   },
   "outputs": [
    {
     "data": {
      "text/html": [
       "<div>\n",
       "<style scoped>\n",
       "    .dataframe tbody tr th:only-of-type {\n",
       "        vertical-align: middle;\n",
       "    }\n",
       "\n",
       "    .dataframe tbody tr th {\n",
       "        vertical-align: top;\n",
       "    }\n",
       "\n",
       "    .dataframe thead th {\n",
       "        text-align: right;\n",
       "    }\n",
       "</style>\n",
       "<table border=\"1\" class=\"dataframe\">\n",
       "  <thead>\n",
       "    <tr style=\"text-align: right;\">\n",
       "      <th></th>\n",
       "      <th>animal</th>\n",
       "      <th>age</th>\n",
       "      <th>visits</th>\n",
       "      <th>priority</th>\n",
       "    </tr>\n",
       "  </thead>\n",
       "  <tbody>\n",
       "    <tr>\n",
       "      <th>d</th>\n",
       "      <td>dog</td>\n",
       "      <td>NaN</td>\n",
       "      <td>3</td>\n",
       "      <td>yes</td>\n",
       "    </tr>\n",
       "    <tr>\n",
       "      <th>h</th>\n",
       "      <td>cat</td>\n",
       "      <td>NaN</td>\n",
       "      <td>1</td>\n",
       "      <td>yes</td>\n",
       "    </tr>\n",
       "  </tbody>\n",
       "</table>\n",
       "</div>"
      ],
      "text/plain": [
       "  animal  age  visits priority\n",
       "d    dog  NaN       3      yes\n",
       "h    cat  NaN       1      yes"
      ]
     },
     "execution_count": 158,
     "metadata": {},
     "output_type": "execute_result"
    }
   ],
   "source": [
    "df[df['age'].isnull()]"
   ]
  },
  {
   "cell_type": "markdown",
   "metadata": {
    "id": "IweIydB1DXQx"
   },
   "source": [
    "**11.** Select the rows where the animal is a cat *and* the age is less than 3."
   ]
  },
  {
   "cell_type": "code",
   "execution_count": 159,
   "metadata": {
    "colab": {
     "base_uri": "https://localhost:8080/",
     "height": 112
    },
    "collapsed": true,
    "id": "f2LJYhvZDXQx",
    "outputId": "4af2aac1-38a7-4fa0-e354-548aef35ea43"
   },
   "outputs": [
    {
     "data": {
      "text/html": [
       "<div>\n",
       "<style scoped>\n",
       "    .dataframe tbody tr th:only-of-type {\n",
       "        vertical-align: middle;\n",
       "    }\n",
       "\n",
       "    .dataframe tbody tr th {\n",
       "        vertical-align: top;\n",
       "    }\n",
       "\n",
       "    .dataframe thead th {\n",
       "        text-align: right;\n",
       "    }\n",
       "</style>\n",
       "<table border=\"1\" class=\"dataframe\">\n",
       "  <thead>\n",
       "    <tr style=\"text-align: right;\">\n",
       "      <th></th>\n",
       "      <th>animal</th>\n",
       "      <th>age</th>\n",
       "      <th>visits</th>\n",
       "      <th>priority</th>\n",
       "    </tr>\n",
       "  </thead>\n",
       "  <tbody>\n",
       "    <tr>\n",
       "      <th>a</th>\n",
       "      <td>cat</td>\n",
       "      <td>2.5</td>\n",
       "      <td>1</td>\n",
       "      <td>yes</td>\n",
       "    </tr>\n",
       "    <tr>\n",
       "      <th>f</th>\n",
       "      <td>cat</td>\n",
       "      <td>2.0</td>\n",
       "      <td>3</td>\n",
       "      <td>no</td>\n",
       "    </tr>\n",
       "  </tbody>\n",
       "</table>\n",
       "</div>"
      ],
      "text/plain": [
       "  animal  age  visits priority\n",
       "a    cat  2.5       1      yes\n",
       "f    cat  2.0       3       no"
      ]
     },
     "execution_count": 159,
     "metadata": {},
     "output_type": "execute_result"
    }
   ],
   "source": [
    "df[(df['animal']=='cat') & (df['age']<3)]"
   ]
  },
  {
   "cell_type": "markdown",
   "metadata": {
    "id": "4wUNAGalDXQy"
   },
   "source": [
    "**12.** Select the rows the age is between 2 and 4 (inclusive)."
   ]
  },
  {
   "cell_type": "code",
   "execution_count": 160,
   "metadata": {
    "colab": {
     "base_uri": "https://localhost:8080/",
     "height": 174
    },
    "collapsed": true,
    "id": "C1y9Ltd8DXQy",
    "outputId": "1600645f-d323-4734-d998-1283d2c52e51"
   },
   "outputs": [
    {
     "data": {
      "text/html": [
       "<div>\n",
       "<style scoped>\n",
       "    .dataframe tbody tr th:only-of-type {\n",
       "        vertical-align: middle;\n",
       "    }\n",
       "\n",
       "    .dataframe tbody tr th {\n",
       "        vertical-align: top;\n",
       "    }\n",
       "\n",
       "    .dataframe thead th {\n",
       "        text-align: right;\n",
       "    }\n",
       "</style>\n",
       "<table border=\"1\" class=\"dataframe\">\n",
       "  <thead>\n",
       "    <tr style=\"text-align: right;\">\n",
       "      <th></th>\n",
       "      <th>animal</th>\n",
       "      <th>age</th>\n",
       "      <th>visits</th>\n",
       "      <th>priority</th>\n",
       "    </tr>\n",
       "  </thead>\n",
       "  <tbody>\n",
       "    <tr>\n",
       "      <th>a</th>\n",
       "      <td>cat</td>\n",
       "      <td>2.5</td>\n",
       "      <td>1</td>\n",
       "      <td>yes</td>\n",
       "    </tr>\n",
       "    <tr>\n",
       "      <th>b</th>\n",
       "      <td>cat</td>\n",
       "      <td>3.0</td>\n",
       "      <td>3</td>\n",
       "      <td>yes</td>\n",
       "    </tr>\n",
       "    <tr>\n",
       "      <th>f</th>\n",
       "      <td>cat</td>\n",
       "      <td>2.0</td>\n",
       "      <td>3</td>\n",
       "      <td>no</td>\n",
       "    </tr>\n",
       "    <tr>\n",
       "      <th>j</th>\n",
       "      <td>dog</td>\n",
       "      <td>3.0</td>\n",
       "      <td>1</td>\n",
       "      <td>no</td>\n",
       "    </tr>\n",
       "  </tbody>\n",
       "</table>\n",
       "</div>"
      ],
      "text/plain": [
       "  animal  age  visits priority\n",
       "a    cat  2.5       1      yes\n",
       "b    cat  3.0       3      yes\n",
       "f    cat  2.0       3       no\n",
       "j    dog  3.0       1       no"
      ]
     },
     "execution_count": 160,
     "metadata": {},
     "output_type": "execute_result"
    }
   ],
   "source": [
    "df[df['age'].between(2, 4)]"
   ]
  },
  {
   "cell_type": "markdown",
   "metadata": {
    "id": "7nJbzFFMDXQy"
   },
   "source": [
    "**13.** Change the age in row 'f' to 1.5."
   ]
  },
  {
   "cell_type": "code",
   "execution_count": 161,
   "metadata": {
    "colab": {
     "base_uri": "https://localhost:8080/",
     "height": 363
    },
    "collapsed": true,
    "id": "sUVMJovXDXQy",
    "outputId": "012de56e-4355-4453-b1c9-58de0e6232fa"
   },
   "outputs": [
    {
     "data": {
      "text/html": [
       "<div>\n",
       "<style scoped>\n",
       "    .dataframe tbody tr th:only-of-type {\n",
       "        vertical-align: middle;\n",
       "    }\n",
       "\n",
       "    .dataframe tbody tr th {\n",
       "        vertical-align: top;\n",
       "    }\n",
       "\n",
       "    .dataframe thead th {\n",
       "        text-align: right;\n",
       "    }\n",
       "</style>\n",
       "<table border=\"1\" class=\"dataframe\">\n",
       "  <thead>\n",
       "    <tr style=\"text-align: right;\">\n",
       "      <th></th>\n",
       "      <th>animal</th>\n",
       "      <th>age</th>\n",
       "      <th>visits</th>\n",
       "      <th>priority</th>\n",
       "    </tr>\n",
       "  </thead>\n",
       "  <tbody>\n",
       "    <tr>\n",
       "      <th>a</th>\n",
       "      <td>cat</td>\n",
       "      <td>2.5</td>\n",
       "      <td>1</td>\n",
       "      <td>yes</td>\n",
       "    </tr>\n",
       "    <tr>\n",
       "      <th>b</th>\n",
       "      <td>cat</td>\n",
       "      <td>3.0</td>\n",
       "      <td>3</td>\n",
       "      <td>yes</td>\n",
       "    </tr>\n",
       "    <tr>\n",
       "      <th>c</th>\n",
       "      <td>snake</td>\n",
       "      <td>0.5</td>\n",
       "      <td>2</td>\n",
       "      <td>no</td>\n",
       "    </tr>\n",
       "    <tr>\n",
       "      <th>d</th>\n",
       "      <td>dog</td>\n",
       "      <td>NaN</td>\n",
       "      <td>3</td>\n",
       "      <td>yes</td>\n",
       "    </tr>\n",
       "    <tr>\n",
       "      <th>e</th>\n",
       "      <td>dog</td>\n",
       "      <td>5.0</td>\n",
       "      <td>2</td>\n",
       "      <td>no</td>\n",
       "    </tr>\n",
       "    <tr>\n",
       "      <th>f</th>\n",
       "      <td>cat</td>\n",
       "      <td>1.5</td>\n",
       "      <td>3</td>\n",
       "      <td>no</td>\n",
       "    </tr>\n",
       "    <tr>\n",
       "      <th>g</th>\n",
       "      <td>snake</td>\n",
       "      <td>4.5</td>\n",
       "      <td>1</td>\n",
       "      <td>no</td>\n",
       "    </tr>\n",
       "    <tr>\n",
       "      <th>h</th>\n",
       "      <td>cat</td>\n",
       "      <td>NaN</td>\n",
       "      <td>1</td>\n",
       "      <td>yes</td>\n",
       "    </tr>\n",
       "    <tr>\n",
       "      <th>i</th>\n",
       "      <td>dog</td>\n",
       "      <td>7.0</td>\n",
       "      <td>2</td>\n",
       "      <td>no</td>\n",
       "    </tr>\n",
       "    <tr>\n",
       "      <th>j</th>\n",
       "      <td>dog</td>\n",
       "      <td>3.0</td>\n",
       "      <td>1</td>\n",
       "      <td>no</td>\n",
       "    </tr>\n",
       "  </tbody>\n",
       "</table>\n",
       "</div>"
      ],
      "text/plain": [
       "  animal  age  visits priority\n",
       "a    cat  2.5       1      yes\n",
       "b    cat  3.0       3      yes\n",
       "c  snake  0.5       2       no\n",
       "d    dog  NaN       3      yes\n",
       "e    dog  5.0       2       no\n",
       "f    cat  1.5       3       no\n",
       "g  snake  4.5       1       no\n",
       "h    cat  NaN       1      yes\n",
       "i    dog  7.0       2       no\n",
       "j    dog  3.0       1       no"
      ]
     },
     "execution_count": 161,
     "metadata": {},
     "output_type": "execute_result"
    }
   ],
   "source": [
    "df.loc['f', 'age'] = 1.5\n",
    "df"
   ]
  },
  {
   "cell_type": "markdown",
   "metadata": {
    "id": "nffQHARODXQy"
   },
   "source": [
    "**14.** Calculate the sum of all visits in `df` (i.e. find the total number of visits)."
   ]
  },
  {
   "cell_type": "code",
   "execution_count": 162,
   "metadata": {
    "colab": {
     "base_uri": "https://localhost:8080/"
    },
    "collapsed": true,
    "id": "U__1qIUBDXQy",
    "outputId": "e96c5595-8361-4c89-e6f0-84b031708b4d"
   },
   "outputs": [
    {
     "data": {
      "text/plain": [
       "np.int64(19)"
      ]
     },
     "execution_count": 162,
     "metadata": {},
     "output_type": "execute_result"
    }
   ],
   "source": [
    "df['visits'].sum()"
   ]
  },
  {
   "cell_type": "markdown",
   "metadata": {
    "id": "MOPUqLOjDXQy"
   },
   "source": [
    "**15.** Calculate the mean age for each different animal in `df`."
   ]
  },
  {
   "cell_type": "code",
   "execution_count": 163,
   "metadata": {
    "colab": {
     "base_uri": "https://localhost:8080/",
     "height": 209
    },
    "collapsed": true,
    "id": "1rbIQhVrDXQy",
    "outputId": "92b6a34e-7b84-4be9-e62b-1305ef78c1ab"
   },
   "outputs": [
    {
     "data": {
      "text/plain": [
       "animal\n",
       "cat      2.333333\n",
       "dog      5.000000\n",
       "snake    2.500000\n",
       "Name: age, dtype: float64"
      ]
     },
     "execution_count": 163,
     "metadata": {},
     "output_type": "execute_result"
    }
   ],
   "source": [
    "df.groupby('animal')['age'].mean()"
   ]
  },
  {
   "cell_type": "markdown",
   "metadata": {
    "id": "lZErp86TDXQy"
   },
   "source": [
    "**16.** Append a new row 'k' to `df` with your choice of values for each column. Then delete that row to return the original DataFrame."
   ]
  },
  {
   "cell_type": "code",
   "execution_count": 164,
   "metadata": {
    "colab": {
     "base_uri": "https://localhost:8080/",
     "height": 394
    },
    "collapsed": true,
    "id": "ubYMMaCzDXQy",
    "outputId": "8eada866-996f-4655-c6b0-9e2d03a94009"
   },
   "outputs": [
    {
     "data": {
      "text/html": [
       "<div>\n",
       "<style scoped>\n",
       "    .dataframe tbody tr th:only-of-type {\n",
       "        vertical-align: middle;\n",
       "    }\n",
       "\n",
       "    .dataframe tbody tr th {\n",
       "        vertical-align: top;\n",
       "    }\n",
       "\n",
       "    .dataframe thead th {\n",
       "        text-align: right;\n",
       "    }\n",
       "</style>\n",
       "<table border=\"1\" class=\"dataframe\">\n",
       "  <thead>\n",
       "    <tr style=\"text-align: right;\">\n",
       "      <th></th>\n",
       "      <th>animal</th>\n",
       "      <th>age</th>\n",
       "      <th>visits</th>\n",
       "      <th>priority</th>\n",
       "    </tr>\n",
       "  </thead>\n",
       "  <tbody>\n",
       "    <tr>\n",
       "      <th>a</th>\n",
       "      <td>cat</td>\n",
       "      <td>2.5</td>\n",
       "      <td>1</td>\n",
       "      <td>yes</td>\n",
       "    </tr>\n",
       "    <tr>\n",
       "      <th>b</th>\n",
       "      <td>cat</td>\n",
       "      <td>3.0</td>\n",
       "      <td>3</td>\n",
       "      <td>yes</td>\n",
       "    </tr>\n",
       "    <tr>\n",
       "      <th>c</th>\n",
       "      <td>snake</td>\n",
       "      <td>0.5</td>\n",
       "      <td>2</td>\n",
       "      <td>no</td>\n",
       "    </tr>\n",
       "    <tr>\n",
       "      <th>d</th>\n",
       "      <td>dog</td>\n",
       "      <td>NaN</td>\n",
       "      <td>3</td>\n",
       "      <td>yes</td>\n",
       "    </tr>\n",
       "    <tr>\n",
       "      <th>e</th>\n",
       "      <td>dog</td>\n",
       "      <td>5.0</td>\n",
       "      <td>2</td>\n",
       "      <td>no</td>\n",
       "    </tr>\n",
       "    <tr>\n",
       "      <th>f</th>\n",
       "      <td>cat</td>\n",
       "      <td>1.5</td>\n",
       "      <td>3</td>\n",
       "      <td>no</td>\n",
       "    </tr>\n",
       "    <tr>\n",
       "      <th>g</th>\n",
       "      <td>snake</td>\n",
       "      <td>4.5</td>\n",
       "      <td>1</td>\n",
       "      <td>no</td>\n",
       "    </tr>\n",
       "    <tr>\n",
       "      <th>h</th>\n",
       "      <td>cat</td>\n",
       "      <td>NaN</td>\n",
       "      <td>1</td>\n",
       "      <td>yes</td>\n",
       "    </tr>\n",
       "    <tr>\n",
       "      <th>i</th>\n",
       "      <td>dog</td>\n",
       "      <td>7.0</td>\n",
       "      <td>2</td>\n",
       "      <td>no</td>\n",
       "    </tr>\n",
       "    <tr>\n",
       "      <th>j</th>\n",
       "      <td>dog</td>\n",
       "      <td>3.0</td>\n",
       "      <td>1</td>\n",
       "      <td>no</td>\n",
       "    </tr>\n",
       "    <tr>\n",
       "      <th>k</th>\n",
       "      <td>dog</td>\n",
       "      <td>5.5</td>\n",
       "      <td>no</td>\n",
       "      <td>2</td>\n",
       "    </tr>\n",
       "  </tbody>\n",
       "</table>\n",
       "</div>"
      ],
      "text/plain": [
       "  animal  age visits priority\n",
       "a    cat  2.5      1      yes\n",
       "b    cat  3.0      3      yes\n",
       "c  snake  0.5      2       no\n",
       "d    dog  NaN      3      yes\n",
       "e    dog  5.0      2       no\n",
       "f    cat  1.5      3       no\n",
       "g  snake  4.5      1       no\n",
       "h    cat  NaN      1      yes\n",
       "i    dog  7.0      2       no\n",
       "j    dog  3.0      1       no\n",
       "k    dog  5.5     no        2"
      ]
     },
     "execution_count": 164,
     "metadata": {},
     "output_type": "execute_result"
    }
   ],
   "source": [
    "df.loc['k'] = ['dog', 5.5, 'no', 2]\n",
    "df"
   ]
  },
  {
   "cell_type": "code",
   "execution_count": 165,
   "metadata": {
    "id": "WIa2uZmMQPSO"
   },
   "outputs": [],
   "source": [
    "df=df.drop('k')"
   ]
  },
  {
   "cell_type": "code",
   "execution_count": 166,
   "metadata": {
    "colab": {
     "base_uri": "https://localhost:8080/",
     "height": 363
    },
    "id": "05EbKMYES8kN",
    "outputId": "f06755a2-d25e-4e7e-e0ef-875b39531f14"
   },
   "outputs": [
    {
     "data": {
      "text/html": [
       "<div>\n",
       "<style scoped>\n",
       "    .dataframe tbody tr th:only-of-type {\n",
       "        vertical-align: middle;\n",
       "    }\n",
       "\n",
       "    .dataframe tbody tr th {\n",
       "        vertical-align: top;\n",
       "    }\n",
       "\n",
       "    .dataframe thead th {\n",
       "        text-align: right;\n",
       "    }\n",
       "</style>\n",
       "<table border=\"1\" class=\"dataframe\">\n",
       "  <thead>\n",
       "    <tr style=\"text-align: right;\">\n",
       "      <th></th>\n",
       "      <th>animal</th>\n",
       "      <th>age</th>\n",
       "      <th>visits</th>\n",
       "      <th>priority</th>\n",
       "    </tr>\n",
       "  </thead>\n",
       "  <tbody>\n",
       "    <tr>\n",
       "      <th>a</th>\n",
       "      <td>cat</td>\n",
       "      <td>2.5</td>\n",
       "      <td>1</td>\n",
       "      <td>yes</td>\n",
       "    </tr>\n",
       "    <tr>\n",
       "      <th>b</th>\n",
       "      <td>cat</td>\n",
       "      <td>3.0</td>\n",
       "      <td>3</td>\n",
       "      <td>yes</td>\n",
       "    </tr>\n",
       "    <tr>\n",
       "      <th>c</th>\n",
       "      <td>snake</td>\n",
       "      <td>0.5</td>\n",
       "      <td>2</td>\n",
       "      <td>no</td>\n",
       "    </tr>\n",
       "    <tr>\n",
       "      <th>d</th>\n",
       "      <td>dog</td>\n",
       "      <td>NaN</td>\n",
       "      <td>3</td>\n",
       "      <td>yes</td>\n",
       "    </tr>\n",
       "    <tr>\n",
       "      <th>e</th>\n",
       "      <td>dog</td>\n",
       "      <td>5.0</td>\n",
       "      <td>2</td>\n",
       "      <td>no</td>\n",
       "    </tr>\n",
       "    <tr>\n",
       "      <th>f</th>\n",
       "      <td>cat</td>\n",
       "      <td>1.5</td>\n",
       "      <td>3</td>\n",
       "      <td>no</td>\n",
       "    </tr>\n",
       "    <tr>\n",
       "      <th>g</th>\n",
       "      <td>snake</td>\n",
       "      <td>4.5</td>\n",
       "      <td>1</td>\n",
       "      <td>no</td>\n",
       "    </tr>\n",
       "    <tr>\n",
       "      <th>h</th>\n",
       "      <td>cat</td>\n",
       "      <td>NaN</td>\n",
       "      <td>1</td>\n",
       "      <td>yes</td>\n",
       "    </tr>\n",
       "    <tr>\n",
       "      <th>i</th>\n",
       "      <td>dog</td>\n",
       "      <td>7.0</td>\n",
       "      <td>2</td>\n",
       "      <td>no</td>\n",
       "    </tr>\n",
       "    <tr>\n",
       "      <th>j</th>\n",
       "      <td>dog</td>\n",
       "      <td>3.0</td>\n",
       "      <td>1</td>\n",
       "      <td>no</td>\n",
       "    </tr>\n",
       "  </tbody>\n",
       "</table>\n",
       "</div>"
      ],
      "text/plain": [
       "  animal  age visits priority\n",
       "a    cat  2.5      1      yes\n",
       "b    cat  3.0      3      yes\n",
       "c  snake  0.5      2       no\n",
       "d    dog  NaN      3      yes\n",
       "e    dog  5.0      2       no\n",
       "f    cat  1.5      3       no\n",
       "g  snake  4.5      1       no\n",
       "h    cat  NaN      1      yes\n",
       "i    dog  7.0      2       no\n",
       "j    dog  3.0      1       no"
      ]
     },
     "execution_count": 166,
     "metadata": {},
     "output_type": "execute_result"
    }
   ],
   "source": [
    "df"
   ]
  },
  {
   "cell_type": "markdown",
   "metadata": {
    "id": "cjKSBJElDXQy"
   },
   "source": [
    "**17.** Count the number of each type of animal in `df`."
   ]
  },
  {
   "cell_type": "code",
   "execution_count": 167,
   "metadata": {
    "colab": {
     "base_uri": "https://localhost:8080/",
     "height": 209
    },
    "collapsed": true,
    "id": "PuMbV1c6DXQz",
    "outputId": "5a57c0ce-c7b2-40a3-e44e-f47f3d142141"
   },
   "outputs": [
    {
     "data": {
      "text/plain": [
       "animal\n",
       "cat      4\n",
       "dog      4\n",
       "snake    2\n",
       "dtype: int64"
      ]
     },
     "execution_count": 167,
     "metadata": {},
     "output_type": "execute_result"
    }
   ],
   "source": [
    "df.groupby('animal').size()"
   ]
  },
  {
   "cell_type": "markdown",
   "metadata": {
    "id": "0OEgvHbIDXQz"
   },
   "source": [
    "**18.** Sort `df` first by the values in the 'age' in *decending* order, then by the value in the 'visits' column in *ascending* order (so row `i` should be first, and row `d` should be last)."
   ]
  },
  {
   "cell_type": "code",
   "execution_count": 168,
   "metadata": {
    "colab": {
     "base_uri": "https://localhost:8080/",
     "height": 363
    },
    "id": "rEaMkxzkDXQz",
    "outputId": "6d1b9c74-8084-4351-fd3c-4167776c70f0"
   },
   "outputs": [
    {
     "data": {
      "text/html": [
       "<div>\n",
       "<style scoped>\n",
       "    .dataframe tbody tr th:only-of-type {\n",
       "        vertical-align: middle;\n",
       "    }\n",
       "\n",
       "    .dataframe tbody tr th {\n",
       "        vertical-align: top;\n",
       "    }\n",
       "\n",
       "    .dataframe thead th {\n",
       "        text-align: right;\n",
       "    }\n",
       "</style>\n",
       "<table border=\"1\" class=\"dataframe\">\n",
       "  <thead>\n",
       "    <tr style=\"text-align: right;\">\n",
       "      <th></th>\n",
       "      <th>animal</th>\n",
       "      <th>age</th>\n",
       "      <th>visits</th>\n",
       "      <th>priority</th>\n",
       "    </tr>\n",
       "  </thead>\n",
       "  <tbody>\n",
       "    <tr>\n",
       "      <th>i</th>\n",
       "      <td>dog</td>\n",
       "      <td>7.0</td>\n",
       "      <td>2</td>\n",
       "      <td>no</td>\n",
       "    </tr>\n",
       "    <tr>\n",
       "      <th>e</th>\n",
       "      <td>dog</td>\n",
       "      <td>5.0</td>\n",
       "      <td>2</td>\n",
       "      <td>no</td>\n",
       "    </tr>\n",
       "    <tr>\n",
       "      <th>g</th>\n",
       "      <td>snake</td>\n",
       "      <td>4.5</td>\n",
       "      <td>1</td>\n",
       "      <td>no</td>\n",
       "    </tr>\n",
       "    <tr>\n",
       "      <th>j</th>\n",
       "      <td>dog</td>\n",
       "      <td>3.0</td>\n",
       "      <td>1</td>\n",
       "      <td>no</td>\n",
       "    </tr>\n",
       "    <tr>\n",
       "      <th>b</th>\n",
       "      <td>cat</td>\n",
       "      <td>3.0</td>\n",
       "      <td>3</td>\n",
       "      <td>yes</td>\n",
       "    </tr>\n",
       "    <tr>\n",
       "      <th>a</th>\n",
       "      <td>cat</td>\n",
       "      <td>2.5</td>\n",
       "      <td>1</td>\n",
       "      <td>yes</td>\n",
       "    </tr>\n",
       "    <tr>\n",
       "      <th>f</th>\n",
       "      <td>cat</td>\n",
       "      <td>1.5</td>\n",
       "      <td>3</td>\n",
       "      <td>no</td>\n",
       "    </tr>\n",
       "    <tr>\n",
       "      <th>c</th>\n",
       "      <td>snake</td>\n",
       "      <td>0.5</td>\n",
       "      <td>2</td>\n",
       "      <td>no</td>\n",
       "    </tr>\n",
       "    <tr>\n",
       "      <th>h</th>\n",
       "      <td>cat</td>\n",
       "      <td>NaN</td>\n",
       "      <td>1</td>\n",
       "      <td>yes</td>\n",
       "    </tr>\n",
       "    <tr>\n",
       "      <th>d</th>\n",
       "      <td>dog</td>\n",
       "      <td>NaN</td>\n",
       "      <td>3</td>\n",
       "      <td>yes</td>\n",
       "    </tr>\n",
       "  </tbody>\n",
       "</table>\n",
       "</div>"
      ],
      "text/plain": [
       "  animal  age visits priority\n",
       "i    dog  7.0      2       no\n",
       "e    dog  5.0      2       no\n",
       "g  snake  4.5      1       no\n",
       "j    dog  3.0      1       no\n",
       "b    cat  3.0      3      yes\n",
       "a    cat  2.5      1      yes\n",
       "f    cat  1.5      3       no\n",
       "c  snake  0.5      2       no\n",
       "h    cat  NaN      1      yes\n",
       "d    dog  NaN      3      yes"
      ]
     },
     "execution_count": 168,
     "metadata": {},
     "output_type": "execute_result"
    }
   ],
   "source": [
    "df.sort_values(by=['age', 'visits'], ascending=[False, True])"
   ]
  },
  {
   "cell_type": "markdown",
   "metadata": {
    "id": "PgsmOF_TDXQz"
   },
   "source": [
    "**19.** The 'priority' column contains the values 'yes' and 'no'. Replace this column with a column of boolean values: 'yes' should be `True` and 'no' should be `False`."
   ]
  },
  {
   "cell_type": "code",
   "execution_count": 169,
   "metadata": {
    "colab": {
     "base_uri": "https://localhost:8080/",
     "height": 363
    },
    "collapsed": true,
    "id": "5rJLa5VMDXQz",
    "outputId": "3295fbbd-1416-4535-dd06-3abe3acd95a6"
   },
   "outputs": [
    {
     "data": {
      "text/html": [
       "<div>\n",
       "<style scoped>\n",
       "    .dataframe tbody tr th:only-of-type {\n",
       "        vertical-align: middle;\n",
       "    }\n",
       "\n",
       "    .dataframe tbody tr th {\n",
       "        vertical-align: top;\n",
       "    }\n",
       "\n",
       "    .dataframe thead th {\n",
       "        text-align: right;\n",
       "    }\n",
       "</style>\n",
       "<table border=\"1\" class=\"dataframe\">\n",
       "  <thead>\n",
       "    <tr style=\"text-align: right;\">\n",
       "      <th></th>\n",
       "      <th>animal</th>\n",
       "      <th>age</th>\n",
       "      <th>visits</th>\n",
       "      <th>priority</th>\n",
       "    </tr>\n",
       "  </thead>\n",
       "  <tbody>\n",
       "    <tr>\n",
       "      <th>a</th>\n",
       "      <td>cat</td>\n",
       "      <td>2.5</td>\n",
       "      <td>1</td>\n",
       "      <td>True</td>\n",
       "    </tr>\n",
       "    <tr>\n",
       "      <th>b</th>\n",
       "      <td>cat</td>\n",
       "      <td>3.0</td>\n",
       "      <td>3</td>\n",
       "      <td>True</td>\n",
       "    </tr>\n",
       "    <tr>\n",
       "      <th>c</th>\n",
       "      <td>snake</td>\n",
       "      <td>0.5</td>\n",
       "      <td>2</td>\n",
       "      <td>False</td>\n",
       "    </tr>\n",
       "    <tr>\n",
       "      <th>d</th>\n",
       "      <td>dog</td>\n",
       "      <td>NaN</td>\n",
       "      <td>3</td>\n",
       "      <td>True</td>\n",
       "    </tr>\n",
       "    <tr>\n",
       "      <th>e</th>\n",
       "      <td>dog</td>\n",
       "      <td>5.0</td>\n",
       "      <td>2</td>\n",
       "      <td>False</td>\n",
       "    </tr>\n",
       "    <tr>\n",
       "      <th>f</th>\n",
       "      <td>cat</td>\n",
       "      <td>1.5</td>\n",
       "      <td>3</td>\n",
       "      <td>False</td>\n",
       "    </tr>\n",
       "    <tr>\n",
       "      <th>g</th>\n",
       "      <td>snake</td>\n",
       "      <td>4.5</td>\n",
       "      <td>1</td>\n",
       "      <td>False</td>\n",
       "    </tr>\n",
       "    <tr>\n",
       "      <th>h</th>\n",
       "      <td>cat</td>\n",
       "      <td>NaN</td>\n",
       "      <td>1</td>\n",
       "      <td>True</td>\n",
       "    </tr>\n",
       "    <tr>\n",
       "      <th>i</th>\n",
       "      <td>dog</td>\n",
       "      <td>7.0</td>\n",
       "      <td>2</td>\n",
       "      <td>False</td>\n",
       "    </tr>\n",
       "    <tr>\n",
       "      <th>j</th>\n",
       "      <td>dog</td>\n",
       "      <td>3.0</td>\n",
       "      <td>1</td>\n",
       "      <td>False</td>\n",
       "    </tr>\n",
       "  </tbody>\n",
       "</table>\n",
       "</div>"
      ],
      "text/plain": [
       "  animal  age visits  priority\n",
       "a    cat  2.5      1      True\n",
       "b    cat  3.0      3      True\n",
       "c  snake  0.5      2     False\n",
       "d    dog  NaN      3      True\n",
       "e    dog  5.0      2     False\n",
       "f    cat  1.5      3     False\n",
       "g  snake  4.5      1     False\n",
       "h    cat  NaN      1      True\n",
       "i    dog  7.0      2     False\n",
       "j    dog  3.0      1     False"
      ]
     },
     "execution_count": 169,
     "metadata": {},
     "output_type": "execute_result"
    }
   ],
   "source": [
    "df['priority']= df['priority'].map({'yes': True, 'no': False})\n",
    "df"
   ]
  },
  {
   "cell_type": "markdown",
   "metadata": {
    "id": "QY16oaVeDXQ4"
   },
   "source": [
    "**20.** In the 'animal' column, change the 'snake' entries to 'python'."
   ]
  },
  {
   "cell_type": "code",
   "execution_count": 170,
   "metadata": {
    "colab": {
     "base_uri": "https://localhost:8080/",
     "height": 363
    },
    "collapsed": true,
    "id": "Et_ncZjhDXQ4",
    "outputId": "931ec79d-2057-4cbc-946a-f1ae6651ff83"
   },
   "outputs": [
    {
     "data": {
      "text/html": [
       "<div>\n",
       "<style scoped>\n",
       "    .dataframe tbody tr th:only-of-type {\n",
       "        vertical-align: middle;\n",
       "    }\n",
       "\n",
       "    .dataframe tbody tr th {\n",
       "        vertical-align: top;\n",
       "    }\n",
       "\n",
       "    .dataframe thead th {\n",
       "        text-align: right;\n",
       "    }\n",
       "</style>\n",
       "<table border=\"1\" class=\"dataframe\">\n",
       "  <thead>\n",
       "    <tr style=\"text-align: right;\">\n",
       "      <th></th>\n",
       "      <th>animal</th>\n",
       "      <th>age</th>\n",
       "      <th>visits</th>\n",
       "      <th>priority</th>\n",
       "    </tr>\n",
       "  </thead>\n",
       "  <tbody>\n",
       "    <tr>\n",
       "      <th>a</th>\n",
       "      <td>cat</td>\n",
       "      <td>2.5</td>\n",
       "      <td>1</td>\n",
       "      <td>True</td>\n",
       "    </tr>\n",
       "    <tr>\n",
       "      <th>b</th>\n",
       "      <td>cat</td>\n",
       "      <td>3.0</td>\n",
       "      <td>3</td>\n",
       "      <td>True</td>\n",
       "    </tr>\n",
       "    <tr>\n",
       "      <th>c</th>\n",
       "      <td>python</td>\n",
       "      <td>0.5</td>\n",
       "      <td>2</td>\n",
       "      <td>False</td>\n",
       "    </tr>\n",
       "    <tr>\n",
       "      <th>d</th>\n",
       "      <td>dog</td>\n",
       "      <td>NaN</td>\n",
       "      <td>3</td>\n",
       "      <td>True</td>\n",
       "    </tr>\n",
       "    <tr>\n",
       "      <th>e</th>\n",
       "      <td>dog</td>\n",
       "      <td>5.0</td>\n",
       "      <td>2</td>\n",
       "      <td>False</td>\n",
       "    </tr>\n",
       "    <tr>\n",
       "      <th>f</th>\n",
       "      <td>cat</td>\n",
       "      <td>1.5</td>\n",
       "      <td>3</td>\n",
       "      <td>False</td>\n",
       "    </tr>\n",
       "    <tr>\n",
       "      <th>g</th>\n",
       "      <td>python</td>\n",
       "      <td>4.5</td>\n",
       "      <td>1</td>\n",
       "      <td>False</td>\n",
       "    </tr>\n",
       "    <tr>\n",
       "      <th>h</th>\n",
       "      <td>cat</td>\n",
       "      <td>NaN</td>\n",
       "      <td>1</td>\n",
       "      <td>True</td>\n",
       "    </tr>\n",
       "    <tr>\n",
       "      <th>i</th>\n",
       "      <td>dog</td>\n",
       "      <td>7.0</td>\n",
       "      <td>2</td>\n",
       "      <td>False</td>\n",
       "    </tr>\n",
       "    <tr>\n",
       "      <th>j</th>\n",
       "      <td>dog</td>\n",
       "      <td>3.0</td>\n",
       "      <td>1</td>\n",
       "      <td>False</td>\n",
       "    </tr>\n",
       "  </tbody>\n",
       "</table>\n",
       "</div>"
      ],
      "text/plain": [
       "   animal  age visits  priority\n",
       "a     cat  2.5      1      True\n",
       "b     cat  3.0      3      True\n",
       "c  python  0.5      2     False\n",
       "d     dog  NaN      3      True\n",
       "e     dog  5.0      2     False\n",
       "f     cat  1.5      3     False\n",
       "g  python  4.5      1     False\n",
       "h     cat  NaN      1      True\n",
       "i     dog  7.0      2     False\n",
       "j     dog  3.0      1     False"
      ]
     },
     "execution_count": 170,
     "metadata": {},
     "output_type": "execute_result"
    }
   ],
   "source": [
    "df['animal']= df['animal'].replace('snake', 'python')\n",
    "df"
   ]
  },
  {
   "cell_type": "markdown",
   "metadata": {
    "id": "nh2b429NDXQ4"
   },
   "source": [
    "**21.** For each animal type and each number of visits, find the mean age. In other words, each row is an animal, each column is a number of visits and the values are the mean ages (*hint: use a pivot table*)."
   ]
  },
  {
   "cell_type": "code",
   "execution_count": 171,
   "metadata": {
    "colab": {
     "base_uri": "https://localhost:8080/",
     "height": 209
    },
    "collapsed": true,
    "id": "xmk2289rDXQ4",
    "outputId": "6cb4cbec-03f6-4747-afc8-72410018ade6"
   },
   "outputs": [
    {
     "data": {
      "text/plain": [
       "animal\n",
       "cat       2.0\n",
       "dog       2.0\n",
       "python    1.5\n",
       "Name: visits, dtype: object"
      ]
     },
     "execution_count": 171,
     "metadata": {},
     "output_type": "execute_result"
    }
   ],
   "source": [
    "df.groupby('animal')['visits'].mean()"
   ]
  },
  {
   "cell_type": "markdown",
   "metadata": {
    "id": "8BMdg_ELDXQ5"
   },
   "source": [
    "## DataFrames: beyond the basics\n",
    "\n",
    "### Slightly trickier: you may need to combine two or more methods to get the right answer\n",
    "\n",
    "Difficulty: *medium*\n",
    "\n",
    "The previous section was tour through some basic but essential DataFrame operations. Below are some ways that you might need to cut your data, but for which there is no single \"out of the box\" method."
   ]
  },
  {
   "cell_type": "markdown",
   "metadata": {
    "id": "H_9irNmEDXQ5"
   },
   "source": [
    "**22.** You have a DataFrame `df` with a column 'A' of integers. For example:\n",
    "```python\n",
    "df = pd.DataFrame({'A': [1, 2, 2, 3, 4, 5, 5, 5, 6, 7, 7]})\n",
    "```\n",
    "\n",
    "How do you filter out rows which contain the same integer as the row immediately above?\n",
    "\n",
    "You should be left with a column containing the following values:\n",
    "\n",
    "```python\n",
    "1, 2, 3, 4, 5, 6, 7\n",
    "```"
   ]
  },
  {
   "cell_type": "code",
   "execution_count": 172,
   "metadata": {
    "colab": {
     "base_uri": "https://localhost:8080/",
     "height": 268
    },
    "id": "vUWezqfjDXQ5",
    "outputId": "4b984e8d-4708-4d7e-8aed-2a15fe4cf16a"
   },
   "outputs": [
    {
     "data": {
      "text/html": [
       "<div>\n",
       "<style scoped>\n",
       "    .dataframe tbody tr th:only-of-type {\n",
       "        vertical-align: middle;\n",
       "    }\n",
       "\n",
       "    .dataframe tbody tr th {\n",
       "        vertical-align: top;\n",
       "    }\n",
       "\n",
       "    .dataframe thead th {\n",
       "        text-align: right;\n",
       "    }\n",
       "</style>\n",
       "<table border=\"1\" class=\"dataframe\">\n",
       "  <thead>\n",
       "    <tr style=\"text-align: right;\">\n",
       "      <th></th>\n",
       "      <th>A</th>\n",
       "    </tr>\n",
       "  </thead>\n",
       "  <tbody>\n",
       "    <tr>\n",
       "      <th>0</th>\n",
       "      <td>1</td>\n",
       "    </tr>\n",
       "    <tr>\n",
       "      <th>1</th>\n",
       "      <td>2</td>\n",
       "    </tr>\n",
       "    <tr>\n",
       "      <th>3</th>\n",
       "      <td>3</td>\n",
       "    </tr>\n",
       "    <tr>\n",
       "      <th>4</th>\n",
       "      <td>4</td>\n",
       "    </tr>\n",
       "    <tr>\n",
       "      <th>5</th>\n",
       "      <td>5</td>\n",
       "    </tr>\n",
       "    <tr>\n",
       "      <th>8</th>\n",
       "      <td>6</td>\n",
       "    </tr>\n",
       "    <tr>\n",
       "      <th>9</th>\n",
       "      <td>7</td>\n",
       "    </tr>\n",
       "  </tbody>\n",
       "</table>\n",
       "</div>"
      ],
      "text/plain": [
       "   A\n",
       "0  1\n",
       "1  2\n",
       "3  3\n",
       "4  4\n",
       "5  5\n",
       "8  6\n",
       "9  7"
      ]
     },
     "execution_count": 172,
     "metadata": {},
     "output_type": "execute_result"
    }
   ],
   "source": [
    "df = pd.DataFrame({'A': [1, 2, 2, 3, 4, 5, 5, 5, 6, 7, 7]})\n",
    "df.loc[df['A'].shift() != df['A']]"
   ]
  },
  {
   "cell_type": "markdown",
   "metadata": {
    "id": "hxEVNBynDXQ5"
   },
   "source": [
    "**23.** Given a DataFrame of numeric values, say\n",
    "```python\n",
    "df = pd.DataFrame(np.random.random(size=(5, 3))) # a 5x3 frame of float values\n",
    "```\n",
    "\n",
    "how do you subtract the row mean from each element in the row?"
   ]
  },
  {
   "cell_type": "code",
   "execution_count": 173,
   "metadata": {
    "colab": {
     "base_uri": "https://localhost:8080/"
    },
    "collapsed": true,
    "id": "16mMLCJODXQ5",
    "outputId": "20bd782e-b7f2-4c22-cbe3-7c1adb414649"
   },
   "outputs": [
    {
     "name": "stdout",
     "output_type": "stream",
     "text": [
      "          0         1         2\n",
      "0  0.325339  0.697694  0.157887\n",
      "1  0.702078  0.034373  0.996802\n",
      "2  0.519672  0.559903  0.161745\n",
      "3  0.772923  0.201707  0.403854\n",
      "4  0.788514  0.508129  0.828748\n",
      "____________________________\n",
      "0    0.393640\n",
      "1    0.577751\n",
      "2    0.413773\n",
      "3    0.459495\n",
      "4    0.708464\n",
      "dtype: float64\n",
      "____________________________\n",
      "          0         1         2\n",
      "0 -0.068302  0.304054 -0.235753\n",
      "1  0.124327 -0.543378  0.419051\n",
      "2  0.105899  0.146129 -0.252028\n",
      "3  0.313428 -0.257788 -0.055641\n",
      "4  0.080050 -0.200334  0.120284\n"
     ]
    }
   ],
   "source": [
    "df = pd.DataFrame(np.random.random(size=(5, 3))) # a 5x3 frame of float values\n",
    "print(df)\n",
    "print(\"____________________________\")\n",
    "print(df.mean(axis=1))\n",
    "print(\"____________________________\")\n",
    "print(df.sub(df.mean(axis=1), axis=0))"
   ]
  },
  {
   "cell_type": "markdown",
   "metadata": {
    "id": "L_9aif8gDXQ5"
   },
   "source": [
    "**24.** Suppose you have DataFrame with 10 columns of real numbers, for example:\n",
    "\n",
    "```python\n",
    "df = pd.DataFrame(np.random.random(size=(5, 10)), columns=list('abcdefghij'))\n",
    "```\n",
    "Which column of numbers has the smallest sum?  Return that column's label."
   ]
  },
  {
   "cell_type": "code",
   "execution_count": 174,
   "metadata": {
    "colab": {
     "base_uri": "https://localhost:8080/",
     "height": 206
    },
    "collapsed": true,
    "id": "JfqzYLwFDXQ5",
    "outputId": "9d66ea37-a527-4c7b-a07b-94114e7fb201"
   },
   "outputs": [
    {
     "data": {
      "text/html": [
       "<div>\n",
       "<style scoped>\n",
       "    .dataframe tbody tr th:only-of-type {\n",
       "        vertical-align: middle;\n",
       "    }\n",
       "\n",
       "    .dataframe tbody tr th {\n",
       "        vertical-align: top;\n",
       "    }\n",
       "\n",
       "    .dataframe thead th {\n",
       "        text-align: right;\n",
       "    }\n",
       "</style>\n",
       "<table border=\"1\" class=\"dataframe\">\n",
       "  <thead>\n",
       "    <tr style=\"text-align: right;\">\n",
       "      <th></th>\n",
       "      <th>a</th>\n",
       "      <th>b</th>\n",
       "      <th>c</th>\n",
       "      <th>d</th>\n",
       "      <th>e</th>\n",
       "      <th>f</th>\n",
       "      <th>g</th>\n",
       "      <th>h</th>\n",
       "      <th>i</th>\n",
       "      <th>j</th>\n",
       "    </tr>\n",
       "  </thead>\n",
       "  <tbody>\n",
       "    <tr>\n",
       "      <th>0</th>\n",
       "      <td>0.696808</td>\n",
       "      <td>0.105104</td>\n",
       "      <td>0.157542</td>\n",
       "      <td>0.583909</td>\n",
       "      <td>0.252897</td>\n",
       "      <td>0.416066</td>\n",
       "      <td>0.474446</td>\n",
       "      <td>0.061122</td>\n",
       "      <td>0.175364</td>\n",
       "      <td>0.221349</td>\n",
       "    </tr>\n",
       "    <tr>\n",
       "      <th>1</th>\n",
       "      <td>0.312211</td>\n",
       "      <td>0.998573</td>\n",
       "      <td>0.685122</td>\n",
       "      <td>0.686516</td>\n",
       "      <td>0.044330</td>\n",
       "      <td>0.365612</td>\n",
       "      <td>0.048553</td>\n",
       "      <td>0.693439</td>\n",
       "      <td>0.267859</td>\n",
       "      <td>0.251085</td>\n",
       "    </tr>\n",
       "    <tr>\n",
       "      <th>2</th>\n",
       "      <td>0.074426</td>\n",
       "      <td>0.434506</td>\n",
       "      <td>0.868549</td>\n",
       "      <td>0.028110</td>\n",
       "      <td>0.904305</td>\n",
       "      <td>0.757824</td>\n",
       "      <td>0.867669</td>\n",
       "      <td>0.456550</td>\n",
       "      <td>0.377135</td>\n",
       "      <td>0.643077</td>\n",
       "    </tr>\n",
       "    <tr>\n",
       "      <th>3</th>\n",
       "      <td>0.074380</td>\n",
       "      <td>0.320941</td>\n",
       "      <td>0.686561</td>\n",
       "      <td>0.699382</td>\n",
       "      <td>0.310309</td>\n",
       "      <td>0.045029</td>\n",
       "      <td>0.847607</td>\n",
       "      <td>0.990605</td>\n",
       "      <td>0.951909</td>\n",
       "      <td>0.957381</td>\n",
       "    </tr>\n",
       "    <tr>\n",
       "      <th>4</th>\n",
       "      <td>0.723020</td>\n",
       "      <td>0.453303</td>\n",
       "      <td>0.146033</td>\n",
       "      <td>0.825443</td>\n",
       "      <td>0.585064</td>\n",
       "      <td>0.621306</td>\n",
       "      <td>0.281213</td>\n",
       "      <td>0.481569</td>\n",
       "      <td>0.240811</td>\n",
       "      <td>0.379388</td>\n",
       "    </tr>\n",
       "  </tbody>\n",
       "</table>\n",
       "</div>"
      ],
      "text/plain": [
       "          a         b         c         d         e         f         g  \\\n",
       "0  0.696808  0.105104  0.157542  0.583909  0.252897  0.416066  0.474446   \n",
       "1  0.312211  0.998573  0.685122  0.686516  0.044330  0.365612  0.048553   \n",
       "2  0.074426  0.434506  0.868549  0.028110  0.904305  0.757824  0.867669   \n",
       "3  0.074380  0.320941  0.686561  0.699382  0.310309  0.045029  0.847607   \n",
       "4  0.723020  0.453303  0.146033  0.825443  0.585064  0.621306  0.281213   \n",
       "\n",
       "          h         i         j  \n",
       "0  0.061122  0.175364  0.221349  \n",
       "1  0.693439  0.267859  0.251085  \n",
       "2  0.456550  0.377135  0.643077  \n",
       "3  0.990605  0.951909  0.957381  \n",
       "4  0.481569  0.240811  0.379388  "
      ]
     },
     "execution_count": 174,
     "metadata": {},
     "output_type": "execute_result"
    }
   ],
   "source": [
    "df = pd.DataFrame(np.random.random(size=(5, 10)), columns=list('abcdefghij'))\n",
    "df"
   ]
  },
  {
   "cell_type": "code",
   "execution_count": 175,
   "metadata": {
    "colab": {
     "base_uri": "https://localhost:8080/"
    },
    "id": "eOoBdEFmfipm",
    "outputId": "765a6cfc-03a4-4720-bdf7-b3f76e01a689"
   },
   "outputs": [
    {
     "name": "stdout",
     "output_type": "stream",
     "text": [
      "0    3.144608\n",
      "1    4.353301\n",
      "2    5.412150\n",
      "3    5.884104\n",
      "4    4.737150\n",
      "dtype: float64\n"
     ]
    },
    {
     "data": {
      "text/plain": [
       "np.float64(3.144608362106493)"
      ]
     },
     "execution_count": 175,
     "metadata": {},
     "output_type": "execute_result"
    }
   ],
   "source": [
    "print(df.sum(axis=1))\n",
    "df.sum(axis=1).min()"
   ]
  },
  {
   "cell_type": "markdown",
   "metadata": {
    "id": "pjFwKre1DXQ6"
   },
   "source": [
    "**25.** How do you count how many unique rows a DataFrame has (i.e. ignore all rows that are duplicates)? As input, use a DataFrame of zeros and ones with 10 rows and 3 columns.\n",
    "\n",
    "```python\n",
    "df = pd.DataFrame(np.random.randint(0, 2, size=(10, 3)))\n",
    "```"
   ]
  },
  {
   "cell_type": "code",
   "execution_count": 176,
   "metadata": {
    "colab": {
     "base_uri": "https://localhost:8080/",
     "height": 237
    },
    "collapsed": true,
    "id": "OnqeqipEDXQ6",
    "outputId": "62745efc-1931-4212-baf6-c410dc74d5ae"
   },
   "outputs": [
    {
     "data": {
      "text/html": [
       "<div>\n",
       "<style scoped>\n",
       "    .dataframe tbody tr th:only-of-type {\n",
       "        vertical-align: middle;\n",
       "    }\n",
       "\n",
       "    .dataframe tbody tr th {\n",
       "        vertical-align: top;\n",
       "    }\n",
       "\n",
       "    .dataframe thead th {\n",
       "        text-align: right;\n",
       "    }\n",
       "</style>\n",
       "<table border=\"1\" class=\"dataframe\">\n",
       "  <thead>\n",
       "    <tr style=\"text-align: right;\">\n",
       "      <th></th>\n",
       "      <th>0</th>\n",
       "      <th>1</th>\n",
       "      <th>2</th>\n",
       "    </tr>\n",
       "  </thead>\n",
       "  <tbody>\n",
       "    <tr>\n",
       "      <th>0</th>\n",
       "      <td>0</td>\n",
       "      <td>0</td>\n",
       "      <td>1</td>\n",
       "    </tr>\n",
       "    <tr>\n",
       "      <th>2</th>\n",
       "      <td>0</td>\n",
       "      <td>0</td>\n",
       "      <td>0</td>\n",
       "    </tr>\n",
       "    <tr>\n",
       "      <th>4</th>\n",
       "      <td>1</td>\n",
       "      <td>1</td>\n",
       "      <td>1</td>\n",
       "    </tr>\n",
       "    <tr>\n",
       "      <th>5</th>\n",
       "      <td>0</td>\n",
       "      <td>1</td>\n",
       "      <td>1</td>\n",
       "    </tr>\n",
       "    <tr>\n",
       "      <th>7</th>\n",
       "      <td>1</td>\n",
       "      <td>1</td>\n",
       "      <td>0</td>\n",
       "    </tr>\n",
       "  </tbody>\n",
       "</table>\n",
       "</div>"
      ],
      "text/plain": [
       "   0  1  2\n",
       "0  0  0  1\n",
       "2  0  0  0\n",
       "4  1  1  1\n",
       "5  0  1  1\n",
       "7  1  1  0"
      ]
     },
     "execution_count": 176,
     "metadata": {},
     "output_type": "execute_result"
    }
   ],
   "source": [
    "df = pd.DataFrame(np.random.randint(0, 2, size=(10, 3)))\n",
    "df.drop_duplicates()"
   ]
  },
  {
   "cell_type": "markdown",
   "metadata": {
    "id": "sbq56fo9DXQ6"
   },
   "source": [
    "The next three puzzles are slightly harder.\n",
    "\n",
    "\n",
    "**26.** In the cell below, you have a DataFrame `df` that consists of 10 columns of floating-point numbers. Exactly 5 entries in each row are NaN values.\n",
    "\n",
    "For each row of the DataFrame, find the *column* which contains the *third* NaN value.\n",
    "\n",
    "You should return a Series of column labels: `e, c, d, h, d`"
   ]
  },
  {
   "cell_type": "code",
   "execution_count": 177,
   "metadata": {
    "colab": {
     "base_uri": "https://localhost:8080/"
    },
    "id": "Ff-207UTDXQ6",
    "outputId": "a53c331a-b4c9-48fa-9461-ee0843952811"
   },
   "outputs": [
    {
     "name": "stdout",
     "output_type": "stream",
     "text": [
      "       a     b      c      d      e      f      g      h      i      j\n",
      "0  False  True   True  False   True  False  False  False   True   True\n",
      "1   True  True   True  False  False   True   True  False  False  False\n",
      "2   True  True  False   True  False  False   True   True  False  False\n",
      "3  False  True   True  False  False  False  False   True   True   True\n",
      "4   True  True  False   True  False   True  False   True  False  False\n",
      "   a  b  c  d  e  f  g  h  i  j\n",
      "0  0  1  2  2  3  3  3  3  4  5\n",
      "1  1  2  3  3  3  4  5  5  5  5\n",
      "2  1  2  2  3  3  3  4  5  5  5\n",
      "3  0  1  2  2  2  2  2  3  4  5\n",
      "4  1  2  2  3  3  4  4  5  5  5\n",
      "       a      b      c      d      e      f      g      h      i      j\n",
      "0  False  False  False  False   True   True   True   True  False  False\n",
      "1  False  False   True   True   True  False  False  False  False  False\n",
      "2  False  False  False   True   True   True  False  False  False  False\n",
      "3  False  False  False  False  False  False  False   True  False  False\n",
      "4  False  False  False   True   True  False  False  False  False  False\n",
      "Resulting Series:\n",
      "0    e\n",
      "1    c\n",
      "2    d\n",
      "3    h\n",
      "4    d\n",
      "dtype: object\n"
     ]
    }
   ],
   "source": [
    "nan = np.nan\n",
    "\n",
    "data = [[0.04,  nan,  nan, 0.25,  nan, 0.43, 0.71, 0.51,  nan,  nan],\n",
    "        [ nan,  nan,  nan, 0.04, 0.76,  nan,  nan, 0.67, 0.76, 0.16],\n",
    "        [ nan,  nan, 0.5 ,  nan, 0.31, 0.4 ,  nan,  nan, 0.24, 0.01],\n",
    "        [0.49,  nan,  nan, 0.62, 0.73, 0.26, 0.85,  nan,  nan,  nan],\n",
    "        [ nan,  nan, 0.41,  nan, 0.05,  nan, 0.61,  nan, 0.48, 0.68]]\n",
    "\n",
    "columns = list('abcdefghij')\n",
    "\n",
    "df = pd.DataFrame(data, columns=columns)\n",
    "\n",
    "# write a solution to the question here\n",
    "result = df.isna()\n",
    "print(result)\n",
    "result = df.isna().cumsum(axis=1)\n",
    "print(result)\n",
    "result = df.isna().cumsum(axis=1).eq(3)\n",
    "print(result)\n",
    "result = df.isna().cumsum(axis=1).eq(3).idxmax(axis=1)\n",
    "\n",
    "print(\"Resulting Series:\")\n",
    "print(result)"
   ]
  },
  {
   "cell_type": "markdown",
   "metadata": {
    "id": "O9IV3p3MDXQ6"
   },
   "source": [
    "**27.** A DataFrame has a column of groups 'grps' and and column of integer values 'vals':\n",
    "\n",
    "```python\n",
    "df = pd.DataFrame({'grps': list('aaabbcaabcccbbc'),\n",
    "                   'vals': [12,345,3,1,45,14,4,52,54,23,235,21,57,3,87]})\n",
    "```\n",
    "For each *group*, find the sum of the three greatest values. You should end up with the answer as follows:\n",
    "```\n",
    "grps\n",
    "a    409\n",
    "b    156\n",
    "c    345\n",
    "```"
   ]
  },
  {
   "cell_type": "code",
   "execution_count": 178,
   "metadata": {
    "colab": {
     "base_uri": "https://localhost:8080/",
     "height": 519
    },
    "id": "Ic3V-Wvnlgkq",
    "outputId": "2faeb875-b9a8-475d-cf62-27d7f9cc1099"
   },
   "outputs": [
    {
     "data": {
      "text/html": [
       "<div>\n",
       "<style scoped>\n",
       "    .dataframe tbody tr th:only-of-type {\n",
       "        vertical-align: middle;\n",
       "    }\n",
       "\n",
       "    .dataframe tbody tr th {\n",
       "        vertical-align: top;\n",
       "    }\n",
       "\n",
       "    .dataframe thead th {\n",
       "        text-align: right;\n",
       "    }\n",
       "</style>\n",
       "<table border=\"1\" class=\"dataframe\">\n",
       "  <thead>\n",
       "    <tr style=\"text-align: right;\">\n",
       "      <th></th>\n",
       "      <th>grps</th>\n",
       "      <th>vals</th>\n",
       "    </tr>\n",
       "  </thead>\n",
       "  <tbody>\n",
       "    <tr>\n",
       "      <th>0</th>\n",
       "      <td>a</td>\n",
       "      <td>12</td>\n",
       "    </tr>\n",
       "    <tr>\n",
       "      <th>1</th>\n",
       "      <td>a</td>\n",
       "      <td>345</td>\n",
       "    </tr>\n",
       "    <tr>\n",
       "      <th>2</th>\n",
       "      <td>a</td>\n",
       "      <td>3</td>\n",
       "    </tr>\n",
       "    <tr>\n",
       "      <th>3</th>\n",
       "      <td>b</td>\n",
       "      <td>1</td>\n",
       "    </tr>\n",
       "    <tr>\n",
       "      <th>4</th>\n",
       "      <td>b</td>\n",
       "      <td>45</td>\n",
       "    </tr>\n",
       "    <tr>\n",
       "      <th>5</th>\n",
       "      <td>c</td>\n",
       "      <td>14</td>\n",
       "    </tr>\n",
       "    <tr>\n",
       "      <th>6</th>\n",
       "      <td>a</td>\n",
       "      <td>4</td>\n",
       "    </tr>\n",
       "    <tr>\n",
       "      <th>7</th>\n",
       "      <td>a</td>\n",
       "      <td>52</td>\n",
       "    </tr>\n",
       "    <tr>\n",
       "      <th>8</th>\n",
       "      <td>b</td>\n",
       "      <td>54</td>\n",
       "    </tr>\n",
       "    <tr>\n",
       "      <th>9</th>\n",
       "      <td>c</td>\n",
       "      <td>23</td>\n",
       "    </tr>\n",
       "    <tr>\n",
       "      <th>10</th>\n",
       "      <td>c</td>\n",
       "      <td>235</td>\n",
       "    </tr>\n",
       "    <tr>\n",
       "      <th>11</th>\n",
       "      <td>c</td>\n",
       "      <td>21</td>\n",
       "    </tr>\n",
       "    <tr>\n",
       "      <th>12</th>\n",
       "      <td>b</td>\n",
       "      <td>57</td>\n",
       "    </tr>\n",
       "    <tr>\n",
       "      <th>13</th>\n",
       "      <td>b</td>\n",
       "      <td>3</td>\n",
       "    </tr>\n",
       "    <tr>\n",
       "      <th>14</th>\n",
       "      <td>c</td>\n",
       "      <td>87</td>\n",
       "    </tr>\n",
       "  </tbody>\n",
       "</table>\n",
       "</div>"
      ],
      "text/plain": [
       "   grps  vals\n",
       "0     a    12\n",
       "1     a   345\n",
       "2     a     3\n",
       "3     b     1\n",
       "4     b    45\n",
       "5     c    14\n",
       "6     a     4\n",
       "7     a    52\n",
       "8     b    54\n",
       "9     c    23\n",
       "10    c   235\n",
       "11    c    21\n",
       "12    b    57\n",
       "13    b     3\n",
       "14    c    87"
      ]
     },
     "execution_count": 178,
     "metadata": {},
     "output_type": "execute_result"
    }
   ],
   "source": [
    "df = pd.DataFrame({'grps': list('aaabbcaabcccbbc'),\n",
    "                   'vals': [12,345,3,1,45,14,4,52,54,23,235,21,57,3,87]})\n",
    "df"
   ]
  },
  {
   "cell_type": "code",
   "execution_count": 179,
   "metadata": {
    "colab": {
     "base_uri": "https://localhost:8080/",
     "height": 209
    },
    "collapsed": true,
    "id": "4nupzcRjDXQ6",
    "outputId": "16e2dd8a-8661-4bce-bb44-be5413565f32"
   },
   "outputs": [
    {
     "data": {
      "text/plain": [
       "grps\n",
       "a    416\n",
       "c    380\n",
       "b    160\n",
       "Name: vals, dtype: int64"
      ]
     },
     "execution_count": 179,
     "metadata": {},
     "output_type": "execute_result"
    }
   ],
   "source": [
    "df = pd.DataFrame({'grps': list('aaabbcaabcccbbc'),\n",
    "                   'vals': [12,345,3,1,45,14,4,52,54,23,235,21,57,3,87]})\n",
    "\n",
    "# write a solution to the question here\n",
    "df2=df.groupby('grps')['vals'].sum().sort_values(ascending=False)\n",
    "df2[:3]"
   ]
  },
  {
   "cell_type": "markdown",
   "metadata": {
    "id": "Mjsi5_kdDXQ7"
   },
   "source": [
    "**28.** The DataFrame `df` constructed below has two integer columns 'A' and 'B'. The values in 'A' are between 1 and 100 (inclusive).\n",
    "\n",
    "For each group of 10 consecutive integers in 'A' (i.e. `(0, 10]`, `(10, 20]`, ...), calculate the sum of the corresponding values in column 'B'.\n",
    "\n",
    "The answer should be a Series as follows:\n",
    "\n",
    "```\n",
    "A\n",
    "(0, 10]      635\n",
    "(10, 20]     360\n",
    "(20, 30]     315\n",
    "(30, 40]     306\n",
    "(40, 50]     750\n",
    "(50, 60]     284\n",
    "(60, 70]     424\n",
    "(70, 80]     526\n",
    "(80, 90]     835\n",
    "(90, 100]    852\n",
    "```"
   ]
  },
  {
   "cell_type": "code",
   "execution_count": 180,
   "metadata": {
    "collapsed": true,
    "id": "eJJbUw1-DXQ7"
   },
   "outputs": [
    {
     "name": "stdout",
     "output_type": "stream",
     "text": [
      "Original DataFrame:\n",
      "    A   B\n",
      "0  46  29\n",
      "1  75  22\n",
      "2  49  63\n",
      "3  33  43\n",
      "4  71  75\n",
      "5   8  54\n",
      "6  24  64\n",
      "7  40  10\n",
      "8  24  20\n",
      "9  63  19\n",
      "\n",
      "Bins for column A:\n",
      "0    (40, 50]\n",
      "1    (70, 80]\n",
      "2    (40, 50]\n",
      "3    (30, 40]\n",
      "4    (70, 80]\n",
      "5     (0, 10]\n",
      "6    (20, 30]\n",
      "7    (30, 40]\n",
      "8    (20, 30]\n",
      "9    (60, 70]\n",
      "Name: A, dtype: category\n",
      "Categories (10, interval[int64, right]): [(0, 10] < (10, 20] < (20, 30] < (30, 40] ... (60, 70] < (70, 80] < (80, 90] < (90, 100]]\n",
      "\n",
      "Grouped sum by bins:\n",
      "A\n",
      "(0, 10]      635\n",
      "(10, 20]     360\n",
      "(20, 30]     315\n",
      "(30, 40]     306\n",
      "(40, 50]     750\n",
      "(50, 60]     284\n",
      "(60, 70]     424\n",
      "(70, 80]     526\n",
      "(80, 90]     835\n",
      "(90, 100]    852\n",
      "Name: B, dtype: int32\n"
     ]
    },
    {
     "name": "stderr",
     "output_type": "stream",
     "text": [
      "C:\\Users\\Bakir\\AppData\\Local\\Temp\\ipykernel_23840\\3377976605.py:8: FutureWarning: The default of observed=False is deprecated and will be changed to True in a future version of pandas. Pass observed=False to retain current behavior or observed=True to adopt the future default and silence this warning.\n",
      "  result = df.groupby(bins)['B'].sum()\n"
     ]
    }
   ],
   "source": [
    "df = pd.DataFrame(np.random.RandomState(8765).randint(1, 101, size=(100, 2)), columns = [\"A\", \"B\"])\n",
    "print(\"Original DataFrame:\")\n",
    "print(df.head(10))\n",
    "print(\"\\nBins for column A:\")\n",
    "bins = pd.cut(df['A'], bins=range(0, 101, 10))\n",
    "print(bins.head(10))\n",
    "print(\"\\nGrouped sum by bins:\")\n",
    "result = df.groupby(bins)['B'].sum()\n",
    "print(result)"
   ]
  },
  {
   "cell_type": "markdown",
   "metadata": {
    "id": "zrfhvVbdDXQ7"
   },
   "source": [
    "## DataFrames: harder problems\n",
    "\n",
    "### These might require a bit of thinking outside the box...\n",
    "\n",
    "...but all are solvable using just the usual pandas/NumPy methods (and so avoid using explicit `for` loops).\n",
    "\n",
    "Difficulty: *hard*"
   ]
  },
  {
   "cell_type": "markdown",
   "metadata": {
    "id": "Wbw8hCLhDXQ7"
   },
   "source": [
    "**29.** Consider a DataFrame `df` where there is an integer column 'X':\n",
    "```python\n",
    "df = pd.DataFrame({'X': [7, 2, 0, 3, 4, 2, 5, 0, 3, 4]})\n",
    "```\n",
    "For each value, count the difference back to the previous zero (or the start of the Series, whichever is closer). These values should therefore be\n",
    "\n",
    "```\n",
    "[1, 2, 0, 1, 2, 3, 4, 0, 1, 2]\n",
    "```\n",
    "\n",
    "Make this a new column 'Y'."
   ]
  },
  {
   "cell_type": "code",
   "execution_count": 181,
   "metadata": {
    "collapsed": true,
    "id": "npoXADDiDXQ7"
   },
   "outputs": [
    {
     "name": "stdout",
     "output_type": "stream",
     "text": [
      "Original DataFrame:\n",
      "   X\n",
      "0  7\n",
      "1  2\n",
      "2  0\n",
      "3  3\n",
      "4  4\n",
      "5  2\n",
      "6  5\n",
      "7  0\n",
      "8  3\n",
      "9  4\n",
      "\n",
      "Finding zero positions:\n",
      "[0 0 1 1 1 1 1 2 2 2]\n",
      "\n",
      "Grouping by zero blocks:\n",
      "[1 2 1 2 3 4 5 1 2 3]\n",
      "\n",
      "Final result with Y column:\n",
      "   X  Y\n",
      "0  7  1\n",
      "1  2  2\n",
      "2  0  1\n",
      "3  3  2\n",
      "4  4  3\n",
      "5  2  4\n",
      "6  5  5\n",
      "7  0  1\n",
      "8  3  2\n",
      "9  4  3\n"
     ]
    }
   ],
   "source": [
    "df = pd.DataFrame({'X': [7, 2, 0, 3, 4, 2, 5, 0, 3, 4]})\n",
    "print(\"Original DataFrame:\")\n",
    "print(df)\n",
    "\n",
    "print(\"\\nFinding zero positions:\")\n",
    "zeros = (df['X'] == 0).cumsum()\n",
    "print(zeros.values)\n",
    "\n",
    "print(\"\\nGrouping by zero blocks:\")\n",
    "groups = df.groupby(zeros).cumcount() + 1\n",
    "print(groups.values)\n",
    "\n",
    "print(\"\\nFinal result with Y column:\")\n",
    "df['Y'] = groups\n",
    "print(df)"
   ]
  },
  {
   "cell_type": "markdown",
   "metadata": {
    "id": "YSecDR8QDXQ7"
   },
   "source": [
    "**30.** Consider the DataFrame constructed below which contains rows and columns of numerical data.\n",
    "\n",
    "Create a list of the column-row index locations of the 3 largest values in this DataFrame. In this case, the answer should be:\n",
    "```\n",
    "[(5, 7), (6, 4), (2, 5)]\n",
    "```"
   ]
  },
  {
   "cell_type": "code",
   "execution_count": 182,
   "metadata": {
    "collapsed": true,
    "id": "kW2tNqE4DXQ7"
   },
   "outputs": [
    {
     "name": "stdout",
     "output_type": "stream",
     "text": [
      "DataFrame:\n",
      "    0   1   2   3   4   5   6   7\n",
      "0  38  38  46  46  13  24   3  54\n",
      "1  18  47   4  42   8  66  50  46\n",
      "2  62  36  19  19  77  17   7  63\n",
      "3  28  47  46  65  63  12  16  24\n",
      "4  14  51  34  56  29  59  92  79\n",
      "5  58  76  96  45  38  76  58  40\n",
      "6  10  34  48  40  37  23  41  26\n",
      "7  55  70  91  27  79  92  20  31\n",
      "\n",
      "Stacked values:\n",
      "0  0    38\n",
      "   1    38\n",
      "   2    46\n",
      "   3    46\n",
      "   4    13\n",
      "   5    24\n",
      "   6     3\n",
      "   7    54\n",
      "1  0    18\n",
      "   1    47\n",
      "dtype: int32\n",
      "\n",
      "3 largest values:\n",
      "5  2    96\n",
      "4  6    92\n",
      "7  5    92\n",
      "dtype: int32\n",
      "\n",
      "Locations as list:\n",
      "[(5, 2), (4, 6), (7, 5)]\n"
     ]
    }
   ],
   "source": [
    "df = pd.DataFrame(np.random.RandomState(30).randint(1, 101, size=(8, 8)))\n",
    "print(\"DataFrame:\")\n",
    "print(df)\n",
    "print(\"\\nStacked values:\")\n",
    "stacked = df.stack()\n",
    "print(stacked.head(10))\n",
    "print(\"\\n3 largest values:\")\n",
    "largest = stacked.nlargest(3)\n",
    "print(largest)\n",
    "print(\"\\nLocations as list:\")\n",
    "result = list(largest.index)\n",
    "print(result)"
   ]
  },
  {
   "cell_type": "markdown",
   "metadata": {
    "id": "zEV7ZEpFDXQ7"
   },
   "source": [
    "**31.** You are given the DataFrame below with a column of group IDs, 'grps', and a column of corresponding integer values, 'vals'.\n",
    "\n",
    "```python\n",
    "df = pd.DataFrame({\"vals\": np.random.RandomState(31).randint(-30, 30, size=15),\n",
    "                   \"grps\": np.random.RandomState(31).choice([\"A\", \"B\"], 15)})\n",
    "```\n",
    "\n",
    "Create a new column 'patched_values' which contains the same values as the 'vals' any negative values in 'vals' with the group mean:\n",
    "\n",
    "```\n",
    "    vals grps  patched_vals\n",
    "0    -12    A          13.6\n",
    "1     -7    B          28.0\n",
    "2    -14    A          13.6\n",
    "3      4    A           4.0\n",
    "4     -7    A          13.6\n",
    "5     28    B          28.0\n",
    "6     -2    A          13.6\n",
    "7     -1    A          13.6\n",
    "8      8    A           8.0\n",
    "9     -2    B          28.0\n",
    "10    28    A          28.0\n",
    "11    12    A          12.0\n",
    "12    16    A          16.0\n",
    "13   -24    A          13.6\n",
    "14   -12    A          13.6\n",
    "```"
   ]
  },
  {
   "cell_type": "code",
   "execution_count": 183,
   "metadata": {
    "collapsed": true,
    "id": "Im9IjyNxDXQ8"
   },
   "outputs": [
    {
     "name": "stdout",
     "output_type": "stream",
     "text": [
      "Original DataFrame:\n",
      "    vals grps\n",
      "0    -12    A\n",
      "1     -7    B\n",
      "2    -14    A\n",
      "3      4    A\n",
      "4     -7    A\n",
      "5     28    B\n",
      "6     -2    A\n",
      "7     -1    A\n",
      "8      8    A\n",
      "9     -2    B\n",
      "10    28    A\n",
      "11    12    A\n",
      "12    16    A\n",
      "13   -24    A\n",
      "14   -12    A\n",
      "\n",
      "Group means for each group:\n",
      "grps\n",
      "A   -0.333333\n",
      "B    6.333333\n",
      "Name: vals, dtype: float64\n",
      "\n",
      "Group means transformed to match DataFrame:\n",
      "0    -0.333333\n",
      "1     6.333333\n",
      "2    -0.333333\n",
      "3    -0.333333\n",
      "4    -0.333333\n",
      "5     6.333333\n",
      "6    -0.333333\n",
      "7    -0.333333\n",
      "8    -0.333333\n",
      "9     6.333333\n",
      "10   -0.333333\n",
      "11   -0.333333\n",
      "12   -0.333333\n",
      "13   -0.333333\n",
      "14   -0.333333\n",
      "Name: vals, dtype: float64\n",
      "\n",
      "Patched values (negatives replaced with group mean):\n",
      "    vals grps  patched_vals\n",
      "0    -12    A     -0.333333\n",
      "1     -7    B      6.333333\n",
      "2    -14    A     -0.333333\n",
      "3      4    A      4.000000\n",
      "4     -7    A     -0.333333\n",
      "5     28    B     28.000000\n",
      "6     -2    A     -0.333333\n",
      "7     -1    A     -0.333333\n",
      "8      8    A      8.000000\n",
      "9     -2    B      6.333333\n",
      "10    28    A     28.000000\n",
      "11    12    A     12.000000\n",
      "12    16    A     16.000000\n",
      "13   -24    A     -0.333333\n",
      "14   -12    A     -0.333333\n"
     ]
    }
   ],
   "source": [
    "df = pd.DataFrame({\"vals\": np.random.RandomState(31).randint(-30, 30, size=15),\n",
    "                   \"grps\": np.random.RandomState(31).choice([\"A\", \"B\"], 15)})\n",
    "print(\"Original DataFrame:\")\n",
    "print(df)\n",
    "\n",
    "print(\"\\nGroup means for each group:\")\n",
    "group_means = df.groupby('grps')['vals'].mean()\n",
    "print(group_means)\n",
    "\n",
    "print(\"\\nGroup means transformed to match DataFrame:\")\n",
    "means_transformed = df.groupby('grps')['vals'].transform('mean')\n",
    "print(means_transformed)\n",
    "\n",
    "print(\"\\nPatched values (negatives replaced with group mean):\")\n",
    "df['patched_vals'] = df['vals'].where(df['vals'] >= 0, means_transformed)\n",
    "print(df)"
   ]
  },
  {
   "cell_type": "markdown",
   "metadata": {
    "id": "ogzmJyG2DXQ8"
   },
   "source": [
    "**32.** Implement a rolling mean over groups with window size 3, which ignores NaN value. For example consider the following DataFrame:\n",
    "\n",
    "```python\n",
    ">>> df = pd.DataFrame({'group': list('aabbabbbabab'),\n",
    "                       'value': [1, 2, 3, np.nan, 2, 3, np.nan, 1, 7, 3, np.nan, 8]})\n",
    ">>> df\n",
    "   group  value\n",
    "0      a    1.0\n",
    "1      a    2.0\n",
    "2      b    3.0\n",
    "3      b    NaN\n",
    "4      a    2.0\n",
    "5      b    3.0\n",
    "6      b    NaN\n",
    "7      b    1.0\n",
    "8      a    7.0\n",
    "9      b    3.0\n",
    "10     a    NaN\n",
    "11     b    8.0\n",
    "```\n",
    "The goal is to compute the Series:\n",
    "\n",
    "```\n",
    "0     1.000000\n",
    "1     1.500000\n",
    "2     3.000000\n",
    "3     3.000000\n",
    "4     1.666667\n",
    "5     3.000000\n",
    "6     3.000000\n",
    "7     2.000000\n",
    "8     3.666667\n",
    "9     2.000000\n",
    "10    4.500000\n",
    "11    4.000000\n",
    "```\n",
    "E.g. the first window of size three for group 'b' has values 3.0, NaN and 3.0 and occurs at row index 5. Instead of being NaN the value in the new column at this row index should be 3.0 (just the two non-NaN values are used to compute the mean (3+3)/2)"
   ]
  },
  {
   "cell_type": "code",
   "execution_count": 184,
   "metadata": {
    "collapsed": true,
    "id": "uw7_5GkWDXQ8"
   },
   "outputs": [
    {
     "name": "stdout",
     "output_type": "stream",
     "text": [
      "Original DataFrame:\n",
      "   group  value\n",
      "0      a    1.0\n",
      "1      a    2.0\n",
      "2      b    3.0\n",
      "3      b    NaN\n",
      "4      a    2.0\n",
      "5      b    3.0\n",
      "6      b    NaN\n",
      "7      b    1.0\n",
      "8      a    7.0\n",
      "9      b    3.0\n",
      "10     a    NaN\n",
      "11     b    8.0\n",
      "\n",
      "Grouping by 'group' column:\n",
      "Groups: 2\n",
      "\n",
      "Applying rolling mean (window=3, min_periods=1):\n",
      "[1.         1.5        1.66666667 3.66666667 4.5        3.\n",
      " 3.         3.         3.         2.         2.         4.        ]\n"
     ]
    }
   ],
   "source": [
    "df = pd.DataFrame({'group': list('aabbabbbabab'),\n",
    "                   'value': [1, 2, 3, np.nan, 2, 3, np.nan, 1, 7, 3, np.nan, 8]})\n",
    "print(\"Original DataFrame:\")\n",
    "print(df)\n",
    "\n",
    "print(\"\\nGrouping by 'group' column:\")\n",
    "grouped = df.groupby('group')['value']\n",
    "print(\"Groups:\", grouped.ngroups)\n",
    "\n",
    "print(\"\\nApplying rolling mean (window=3, min_periods=1):\")\n",
    "result = grouped.apply(lambda x: x.rolling(window=3, min_periods=1).mean())\n",
    "print(result.values)"
   ]
  },
  {
   "cell_type": "markdown",
   "metadata": {
    "id": "4Dyhr9_5DXQ8"
   },
   "source": [
    "## Series and DatetimeIndex\n",
    "\n",
    "### Exercises for creating and manipulating Series with datetime data\n",
    "\n",
    "Difficulty: *easy/medium*\n",
    "\n",
    "pandas is fantastic for working with dates and times. These puzzles explore some of this functionality.\n"
   ]
  },
  {
   "cell_type": "markdown",
   "metadata": {
    "id": "OZAcJyyFDXQ8"
   },
   "source": [
    "**33.** Create a DatetimeIndex that contains each business day of 2015 and use it to index a Series of random numbers. Let's call this Series `s`."
   ]
  },
  {
   "cell_type": "code",
   "execution_count": 185,
   "metadata": {
    "collapsed": true,
    "id": "UhqVrQwdDXQ8"
   },
   "outputs": [
    {
     "name": "stdout",
     "output_type": "stream",
     "text": [
      "First 10 business days:\n",
      "DatetimeIndex(['2015-01-01', '2015-01-02', '2015-01-05', '2015-01-06',\n",
      "               '2015-01-07', '2015-01-08', '2015-01-09', '2015-01-12',\n",
      "               '2015-01-13', '2015-01-14'],\n",
      "              dtype='datetime64[ns]', freq='B')\n",
      "\n",
      "Total business days in 2015: 261\n",
      "\n",
      "Series with random values (first 10):\n",
      "2015-01-01    0.258771\n",
      "2015-01-02    0.327701\n",
      "2015-01-05    0.343264\n",
      "2015-01-06    0.707452\n",
      "2015-01-07    0.767438\n",
      "2015-01-08    0.884762\n",
      "2015-01-09    0.876804\n",
      "2015-01-12    0.627205\n",
      "2015-01-13    0.236510\n",
      "2015-01-14    0.874450\n",
      "Freq: B, dtype: float64\n"
     ]
    }
   ],
   "source": [
    "dates = pd.bdate_range('2015-01-01', '2015-12-31')\n",
    "print(\"First 10 business days:\")\n",
    "print(dates[:10])\n",
    "\n",
    "print(\"\\nTotal business days in 2015:\", len(dates))\n",
    "\n",
    "s = pd.Series(np.random.rand(len(dates)), index=dates)\n",
    "print(\"\\nSeries with random values (first 10):\")\n",
    "print(s.head(10))"
   ]
  },
  {
   "cell_type": "markdown",
   "metadata": {
    "id": "sRutxjN7DXQ8"
   },
   "source": [
    "**34.** Find the sum of the values in `s` for every Wednesday."
   ]
  },
  {
   "cell_type": "code",
   "execution_count": 186,
   "metadata": {
    "collapsed": true,
    "id": "JvdWA3p0DXQ8"
   },
   "outputs": [
    {
     "name": "stdout",
     "output_type": "stream",
     "text": [
      "Weekday numbers (0=Monday, 2=Wednesday):\n",
      "Index([3, 4, 0, 1, 2, 3, 4, 0, 1, 2], dtype='int32')\n",
      "\n",
      "Filtering for Wednesdays (weekday == 2):\n",
      "2015-01-07    0.767438\n",
      "2015-01-14    0.874450\n",
      "2015-01-21    0.285136\n",
      "2015-01-28    0.531370\n",
      "2015-02-04    0.031554\n",
      "2015-02-11    0.562655\n",
      "2015-02-18    0.554622\n",
      "2015-02-25    0.364363\n",
      "2015-03-04    0.291990\n",
      "2015-03-11    0.998119\n",
      "dtype: float64\n",
      "\n",
      "Sum of all Wednesday values:\n",
      "23.922936553390027\n"
     ]
    }
   ],
   "source": [
    "print(\"Weekday numbers (0=Monday, 2=Wednesday):\")\n",
    "print(s.index.weekday[:10])\n",
    "\n",
    "print(\"\\nFiltering for Wednesdays (weekday == 2):\")\n",
    "wednesdays = s[s.index.weekday == 2]\n",
    "print(wednesdays.head(10))\n",
    "\n",
    "print(\"\\nSum of all Wednesday values:\")\n",
    "print(wednesdays.sum())"
   ]
  },
  {
   "cell_type": "markdown",
   "metadata": {
    "id": "JKfdzgrVDXQ8"
   },
   "source": [
    "**35.** For each calendar month in `s`, find the mean of values."
   ]
  },
  {
   "cell_type": "code",
   "execution_count": 187,
   "metadata": {
    "collapsed": true,
    "id": "3XmBKXrPDXQ9"
   },
   "outputs": [
    {
     "name": "stdout",
     "output_type": "stream",
     "text": [
      "Month numbers:\n",
      "Index([1, 1, 1, 1, 1, 1, 1, 1, 1, 1], dtype='int32')\n",
      "\n",
      "Grouping by month:\n",
      "\n",
      "Mean value for each month:\n",
      "1     0.492891\n",
      "2     0.550042\n",
      "3     0.477073\n",
      "4     0.548224\n",
      "5     0.435327\n",
      "6     0.462606\n",
      "7     0.549407\n",
      "8     0.497953\n",
      "9     0.484043\n",
      "10    0.489480\n",
      "11    0.547216\n",
      "12    0.485240\n",
      "dtype: float64\n"
     ]
    }
   ],
   "source": [
    "print(\"Month numbers:\")\n",
    "print(s.index.month[:10])\n",
    "\n",
    "print(\"\\nGrouping by month:\")\n",
    "monthly = s.groupby(s.index.month)\n",
    "\n",
    "print(\"\\nMean value for each month:\")\n",
    "print(monthly.mean())"
   ]
  },
  {
   "cell_type": "markdown",
   "metadata": {
    "id": "4_7mXex0DXQ9"
   },
   "source": [
    "**36.** For each group of four consecutive calendar months in `s`, find the date on which the highest value occurred."
   ]
  },
  {
   "cell_type": "code",
   "execution_count": 188,
   "metadata": {
    "collapsed": true,
    "id": "e2zHA8RaDXQ9"
   },
   "outputs": [
    {
     "name": "stdout",
     "output_type": "stream",
     "text": [
      "Grouping by 4-month periods:\n",
      "\n",
      "Groups created:\n",
      "2015-01-31 00:00:00: 22 days\n",
      "2015-05-31 00:00:00: 85 days\n",
      "2015-09-30 00:00:00: 88 days\n",
      "2016-01-31 00:00:00: 66 days\n",
      "\n",
      "Date with max value in each 4-month period:\n",
      "2015-01-31   2015-01-23\n",
      "2015-05-31   2015-03-11\n",
      "2015-09-30   2015-06-16\n",
      "2016-01-31   2015-10-15\n",
      "Freq: 4ME, dtype: datetime64[ns]\n"
     ]
    },
    {
     "name": "stderr",
     "output_type": "stream",
     "text": [
      "C:\\Users\\Bakir\\AppData\\Local\\Temp\\ipykernel_23840\\897092199.py:2: FutureWarning: 'M' is deprecated and will be removed in a future version, please use 'ME' instead.\n",
      "  quarterly = s.groupby(pd.Grouper(freq='4M'))\n"
     ]
    }
   ],
   "source": [
    "print(\"Grouping by 4-month periods:\")\n",
    "quarterly = s.groupby(pd.Grouper(freq='4M'))\n",
    "\n",
    "print(\"\\nGroups created:\")\n",
    "for name, group in quarterly:\n",
    "    print(f\"{name}: {len(group)} days\")\n",
    "\n",
    "print(\"\\nDate with max value in each 4-month period:\")\n",
    "print(quarterly.idxmax())"
   ]
  },
  {
   "cell_type": "markdown",
   "metadata": {
    "id": "nfDFG2jzDXQ9"
   },
   "source": [
    "**37.** Create a DateTimeIndex consisting of the third Thursday in each month for the years 2015 and 2016."
   ]
  },
  {
   "cell_type": "code",
   "execution_count": 189,
   "metadata": {
    "collapsed": true,
    "id": "miuoE5fvDXQ9"
   },
   "outputs": [
    {
     "name": "stdout",
     "output_type": "stream",
     "text": [
      "Creating DatetimeIndex for 3rd Thursday of each month:\n",
      "\n",
      "All third Thursdays (2015-2016):\n",
      "DatetimeIndex(['2015-01-15', '2015-02-19', '2015-03-19', '2015-04-16',\n",
      "               '2015-05-21', '2015-06-18', '2015-07-16', '2015-08-20',\n",
      "               '2015-09-17', '2015-10-15', '2015-11-19', '2015-12-17',\n",
      "               '2016-01-21', '2016-02-18', '2016-03-17', '2016-04-21',\n",
      "               '2016-05-19', '2016-06-16', '2016-07-21', '2016-08-18',\n",
      "               '2016-09-15', '2016-10-20', '2016-11-17', '2016-12-15'],\n",
      "              dtype='datetime64[ns]', freq='WOM-3THU')\n"
     ]
    }
   ],
   "source": [
    "print(\"Creating DatetimeIndex for 3rd Thursday of each month:\")\n",
    "dates = pd.date_range('2015-01-01', '2016-12-31', freq='WOM-3THU')\n",
    "print(\"\\nAll third Thursdays (2015-2016):\")\n",
    "print(dates)"
   ]
  },
  {
   "cell_type": "markdown",
   "metadata": {
    "id": "7MFN-001DXQ9"
   },
   "source": [
    "## Cleaning Data\n",
    "\n",
    "### Making a DataFrame easier to work with\n",
    "\n",
    "Difficulty: *easy/medium*\n",
    "\n",
    "It happens all the time: someone gives you data containing malformed strings, Python, lists and missing data. How do you tidy it up so you can get on with the analysis?\n",
    "\n",
    "Take this monstrosity as the DataFrame to use in the following puzzles:\n",
    "\n",
    "```python\n",
    "df = pd.DataFrame({'From_To': ['LoNDon_paris', 'MAdrid_miLAN', 'londON_StockhOlm',\n",
    "                               'Budapest_PaRis', 'Brussels_londOn'],\n",
    "              'FlightNumber': [10045, np.nan, 10065, np.nan, 10085],\n",
    "              'RecentDelays': [[23, 47], [], [24, 43, 87], [13], [67, 32]],\n",
    "                   'Airline': ['KLM(!)', '<Air France> (12)', '(British Airways. )',\n",
    "                               '12. Air France', '\"Swiss Air\"']})\n",
    "```\n",
    "Formatted, it looks like this:\n",
    "\n",
    "```\n",
    "            From_To  FlightNumber  RecentDelays              Airline\n",
    "0      LoNDon_paris       10045.0      [23, 47]               KLM(!)\n",
    "1      MAdrid_miLAN           NaN            []    <Air France> (12)\n",
    "2  londON_StockhOlm       10065.0  [24, 43, 87]  (British Airways. )\n",
    "3    Budapest_PaRis           NaN          [13]       12. Air France\n",
    "4   Brussels_londOn       10085.0      [67, 32]          \"Swiss Air\"\n",
    "```\n",
    "\n",
    "\n",
    "(It's some flight data I made up; it's not meant to be accurate in any way.)\n"
   ]
  },
  {
   "cell_type": "markdown",
   "metadata": {
    "id": "wNOcWF8KDXQ9"
   },
   "source": [
    "**38.** Some values in the the **FlightNumber** column are missing (they are `NaN`). These numbers are meant to increase by 10 with each row so 10055 and 10075 need to be put in place. Modify `df` to fill in these missing numbers and make the column an integer column (instead of a float column)."
   ]
  },
  {
   "cell_type": "code",
   "execution_count": 190,
   "metadata": {
    "collapsed": true,
    "id": "Ac8qbyPUDXQ9"
   },
   "outputs": [
    {
     "name": "stdout",
     "output_type": "stream",
     "text": [
      "Original FlightNumber column:\n",
      "0    10045.0\n",
      "1        NaN\n",
      "2    10065.0\n",
      "3        NaN\n",
      "4    10085.0\n",
      "Name: FlightNumber, dtype: float64\n",
      "\n",
      "After interpolation (fills missing with linear values):\n",
      "0    10045.0\n",
      "1    10055.0\n",
      "2    10065.0\n",
      "3    10075.0\n",
      "4    10085.0\n",
      "Name: FlightNumber, dtype: float64\n",
      "\n",
      "Converted to integer:\n",
      "0    10045\n",
      "1    10055\n",
      "2    10065\n",
      "3    10075\n",
      "4    10085\n",
      "Name: FlightNumber, dtype: int64\n"
     ]
    }
   ],
   "source": [
    "df = pd.DataFrame({'From_To': ['LoNDon_paris', 'MAdrid_miLAN', 'londON_StockhOlm',\n",
    "                               'Budapest_PaRis', 'Brussels_londOn'],\n",
    "              'FlightNumber': [10045, np.nan, 10065, np.nan, 10085],\n",
    "              'RecentDelays': [[23, 47], [], [24, 43, 87], [13], [67, 32]],\n",
    "                   'Airline': ['KLM(!)', '<Air France> (12)', '(British Airways. )',\n",
    "                               '12. Air France', '\"Swiss Air\"']})\n",
    "\n",
    "print(\"Original FlightNumber column:\")\n",
    "print(df['FlightNumber'])\n",
    "\n",
    "print(\"\\nAfter interpolation (fills missing with linear values):\")\n",
    "df['FlightNumber'] = df['FlightNumber'].interpolate()\n",
    "print(df['FlightNumber'])\n",
    "\n",
    "print(\"\\nConverted to integer:\")\n",
    "df['FlightNumber'] = df['FlightNumber'].astype(int)\n",
    "print(df['FlightNumber'])"
   ]
  },
  {
   "cell_type": "markdown",
   "metadata": {
    "id": "t-LtCmndDXQ-"
   },
   "source": [
    "**39.** The **From\\_To** column would be better as two separate columns! Split each string on the underscore delimiter `_` to give a new temporary DataFrame called 'temp' with the correct values. Assign the correct column names 'From' and 'To' to this temporary DataFrame."
   ]
  },
  {
   "cell_type": "code",
   "execution_count": 191,
   "metadata": {
    "collapsed": true,
    "id": "ouBVT6a9DXQ-"
   },
   "outputs": [
    {
     "name": "stdout",
     "output_type": "stream",
     "text": [
      "Original From_To column:\n",
      "0        LoNDon_paris\n",
      "1        MAdrid_miLAN\n",
      "2    londON_StockhOlm\n",
      "3      Budapest_PaRis\n",
      "4     Brussels_londOn\n",
      "Name: From_To, dtype: object\n",
      "\n",
      "Splitting on underscore:\n",
      "          0          1\n",
      "0    LoNDon      paris\n",
      "1    MAdrid      miLAN\n",
      "2    londON  StockhOlm\n",
      "3  Budapest      PaRis\n",
      "4  Brussels     londOn\n",
      "\n",
      "Adding column names:\n",
      "       From         To\n",
      "0    LoNDon      paris\n",
      "1    MAdrid      miLAN\n",
      "2    londON  StockhOlm\n",
      "3  Budapest      PaRis\n",
      "4  Brussels     londOn\n"
     ]
    }
   ],
   "source": [
    "print(\"Original From_To column:\")\n",
    "print(df['From_To'])\n",
    "\n",
    "print(\"\\nSplitting on underscore:\")\n",
    "temp = df['From_To'].str.split('_', expand=True)\n",
    "print(temp)\n",
    "\n",
    "print(\"\\nAdding column names:\")\n",
    "temp.columns = ['From', 'To']\n",
    "print(temp)"
   ]
  },
  {
   "cell_type": "markdown",
   "metadata": {
    "id": "pbqJ78g7DXQ-"
   },
   "source": [
    "**40.** Notice how the capitalisation of the city names is all mixed up in this temporary DataFrame 'temp'. Standardise the strings so that only the first letter is uppercase (e.g. \"londON\" should become \"London\".)"
   ]
  },
  {
   "cell_type": "code",
   "execution_count": 192,
   "metadata": {
    "collapsed": true,
    "id": "KNpptO7kDXQ-"
   },
   "outputs": [
    {
     "name": "stdout",
     "output_type": "stream",
     "text": [
      "Before standardizing:\n",
      "       From         To\n",
      "0    LoNDon      paris\n",
      "1    MAdrid      miLAN\n",
      "2    londON  StockhOlm\n",
      "3  Budapest      PaRis\n",
      "4  Brussels     londOn\n",
      "\n",
      "Capitalizing 'From' column:\n",
      "0      London\n",
      "1      Madrid\n",
      "2      London\n",
      "3    Budapest\n",
      "4    Brussels\n",
      "Name: From, dtype: object\n",
      "\n",
      "Capitalizing 'To' column:\n",
      "0        Paris\n",
      "1        Milan\n",
      "2    Stockholm\n",
      "3        Paris\n",
      "4       London\n",
      "Name: To, dtype: object\n",
      "\n",
      "Final temp DataFrame:\n",
      "       From         To\n",
      "0    London      Paris\n",
      "1    Madrid      Milan\n",
      "2    London  Stockholm\n",
      "3  Budapest      Paris\n",
      "4  Brussels     London\n"
     ]
    }
   ],
   "source": [
    "print(\"Before standardizing:\")\n",
    "print(temp)\n",
    "\n",
    "print(\"\\nCapitalizing 'From' column:\")\n",
    "temp['From'] = temp['From'].str.capitalize()\n",
    "print(temp['From'])\n",
    "\n",
    "print(\"\\nCapitalizing 'To' column:\")\n",
    "temp['To'] = temp['To'].str.capitalize()\n",
    "print(temp['To'])\n",
    "\n",
    "print(\"\\nFinal temp DataFrame:\")\n",
    "print(temp)"
   ]
  },
  {
   "cell_type": "markdown",
   "metadata": {
    "id": "n2CfFsQwDXQ-"
   },
   "source": [
    "**41.** Delete the **From_To** column from `df` and attach the temporary DataFrame 'temp' from the previous questions."
   ]
  },
  {
   "cell_type": "code",
   "execution_count": 193,
   "metadata": {
    "collapsed": true,
    "id": "_Vavm-wnDXQ-"
   },
   "outputs": [
    {
     "name": "stdout",
     "output_type": "stream",
     "text": [
      "Current columns:\n",
      "['From_To', 'FlightNumber', 'RecentDelays', 'Airline']\n",
      "\n",
      "Dropping 'From_To' column:\n",
      "['FlightNumber', 'RecentDelays', 'Airline']\n",
      "\n",
      "Concatenating temp DataFrame:\n",
      "\n",
      "Final DataFrame:\n",
      "   FlightNumber  RecentDelays              Airline      From         To\n",
      "0         10045      [23, 47]               KLM(!)    London      Paris\n",
      "1         10055            []    <Air France> (12)    Madrid      Milan\n",
      "2         10065  [24, 43, 87]  (British Airways. )    London  Stockholm\n",
      "3         10075          [13]       12. Air France  Budapest      Paris\n",
      "4         10085      [67, 32]          \"Swiss Air\"  Brussels     London\n"
     ]
    }
   ],
   "source": [
    "print(\"Current columns:\")\n",
    "print(df.columns.tolist())\n",
    "\n",
    "print(\"\\nDropping 'From_To' column:\")\n",
    "df = df.drop('From_To', axis=1)\n",
    "print(df.columns.tolist())\n",
    "\n",
    "print(\"\\nConcatenating temp DataFrame:\")\n",
    "df = pd.concat([df, temp], axis=1)\n",
    "print(\"\\nFinal DataFrame:\")\n",
    "print(df)"
   ]
  },
  {
   "cell_type": "markdown",
   "metadata": {
    "id": "kBkwFdOwDXQ-"
   },
   "source": [
    "**42**. In the **Airline** column, you can see some extra puctuation and symbols have appeared around the airline names. Pull out just the airline name. E.g. `'(British Airways. )'` should become `'British Airways'`."
   ]
  },
  {
   "cell_type": "code",
   "execution_count": 194,
   "metadata": {
    "collapsed": true,
    "id": "JHwmDMMADXQ-"
   },
   "outputs": [
    {
     "name": "stdout",
     "output_type": "stream",
     "text": [
      "Original Airline column:\n",
      "0                 KLM(!)\n",
      "1      <Air France> (12)\n",
      "2    (British Airways. )\n",
      "3         12. Air France\n",
      "4            \"Swiss Air\"\n",
      "Name: Airline, dtype: object\n",
      "\n",
      "Extracting only letters and spaces:\n",
      "0                KLM\n",
      "1         Air France\n",
      "2    British Airways\n",
      "3         Air France\n",
      "4          Swiss Air\n",
      "Name: Airline, dtype: object\n",
      "\n",
      "Removing leading/trailing spaces:\n",
      "0                KLM\n",
      "1         Air France\n",
      "2    British Airways\n",
      "3         Air France\n",
      "4          Swiss Air\n",
      "Name: Airline, dtype: object\n"
     ]
    }
   ],
   "source": [
    "print(\"Original Airline column:\")\n",
    "print(df['Airline'])\n",
    "\n",
    "print(\"\\nExtracting only letters and spaces:\")\n",
    "df['Airline'] = df['Airline'].str.extract(r'([a-zA-Z\\s]+)', expand=False)\n",
    "print(df['Airline'])\n",
    "\n",
    "print(\"\\nRemoving leading/trailing spaces:\")\n",
    "df['Airline'] = df['Airline'].str.strip()\n",
    "print(df['Airline'])"
   ]
  },
  {
   "cell_type": "markdown",
   "metadata": {
    "id": "uXlJeMvADXQ-"
   },
   "source": [
    "**43**. In the RecentDelays column, the values have been entered into the DataFrame as a list. We would like each first value in its own column, each second value in its own column, and so on. If there isn't an Nth value, the value should be NaN.\n",
    "\n",
    "Expand the Series of lists into a DataFrame named `delays`, rename the columns `delay_1`, `delay_2`, etc. and replace the unwanted RecentDelays column in `df` with `delays`."
   ]
  },
  {
   "cell_type": "code",
   "execution_count": 195,
   "metadata": {
    "collapsed": true,
    "id": "BUB2DQ-ODXQ-"
   },
   "outputs": [
    {
     "name": "stdout",
     "output_type": "stream",
     "text": [
      "Original RecentDelays (lists):\n",
      "0        [23, 47]\n",
      "1              []\n",
      "2    [24, 43, 87]\n",
      "3            [13]\n",
      "4        [67, 32]\n",
      "Name: RecentDelays, dtype: object\n",
      "\n",
      "Converting lists to DataFrame:\n",
      "      0     1     2\n",
      "0  23.0  47.0   NaN\n",
      "1   NaN   NaN   NaN\n",
      "2  24.0  43.0  87.0\n",
      "3  13.0   NaN   NaN\n",
      "4  67.0  32.0   NaN\n",
      "\n",
      "Renaming columns to delay_1, delay_2, etc:\n",
      "   delay_1  delay_2  delay_3\n",
      "0     23.0     47.0      NaN\n",
      "1      NaN      NaN      NaN\n",
      "2     24.0     43.0     87.0\n",
      "3     13.0      NaN      NaN\n",
      "4     67.0     32.0      NaN\n",
      "\n",
      "Removing RecentDelays and adding delay columns:\n",
      "\n",
      "Final DataFrame:\n",
      "   FlightNumber          Airline      From         To  delay_1  delay_2  \\\n",
      "0         10045              KLM    London      Paris     23.0     47.0   \n",
      "1         10055       Air France    Madrid      Milan      NaN      NaN   \n",
      "2         10065  British Airways    London  Stockholm     24.0     43.0   \n",
      "3         10075       Air France  Budapest      Paris     13.0      NaN   \n",
      "4         10085        Swiss Air  Brussels     London     67.0     32.0   \n",
      "\n",
      "   delay_3  \n",
      "0      NaN  \n",
      "1      NaN  \n",
      "2     87.0  \n",
      "3      NaN  \n",
      "4      NaN  \n"
     ]
    }
   ],
   "source": [
    "print(\"Original RecentDelays (lists):\")\n",
    "print(df['RecentDelays'])\n",
    "\n",
    "print(\"\\nConverting lists to DataFrame:\")\n",
    "delays = pd.DataFrame(df['RecentDelays'].tolist(), index=df.index)\n",
    "print(delays)\n",
    "\n",
    "print(\"\\nRenaming columns to delay_1, delay_2, etc:\")\n",
    "delays.columns = ['delay_{}'.format(n) for n in range(1, len(delays.columns) + 1)]\n",
    "print(delays)\n",
    "\n",
    "print(\"\\nRemoving RecentDelays and adding delay columns:\")\n",
    "df = df.drop('RecentDelays', axis=1).join(delays)\n",
    "print(\"\\nFinal DataFrame:\")\n",
    "print(df)"
   ]
  },
  {
   "cell_type": "markdown",
   "metadata": {
    "id": "AFfyDwScDXQ_"
   },
   "source": [
    "The DataFrame should look much better now.\n",
    "```\n",
    "   FlightNumber          Airline      From         To  delay_1  delay_2  delay_3\n",
    "0         10045              KLM    London      Paris     23.0     47.0      NaN\n",
    "1         10055       Air France    Madrid      Milan      NaN      NaN      NaN\n",
    "2         10065  British Airways    London  Stockholm     24.0     43.0     87.0\n",
    "3         10075       Air France  Budapest      Paris     13.0      NaN      NaN\n",
    "4         10085        Swiss Air  Brussels     London     67.0     32.0      NaN\n",
    "```"
   ]
  },
  {
   "cell_type": "markdown",
   "metadata": {
    "collapsed": true,
    "id": "bnKDuVjODXQ_"
   },
   "source": [
    "## Using MultiIndexes\n",
    "\n",
    "### Go beyond flat DataFrames with additional index levels\n",
    "\n",
    "Difficulty: *medium*\n",
    "\n",
    "Previous exercises have seen us analysing data from DataFrames equipped with a single index level. However, pandas also gives you the possibilty of indexing your data using *multiple* levels. This is very much like adding new dimensions to a Series or a DataFrame. For example, a Series is 1D, but by using a MultiIndex with 2 levels we gain of much the same functionality as a 2D DataFrame.\n",
    "\n",
    "The set of puzzles below explores how you might use multiple index levels to enhance data analysis.\n",
    "\n",
    "To warm up, we'll look make a Series with two index levels."
   ]
  },
  {
   "cell_type": "markdown",
   "metadata": {
    "id": "ul8zJDNgDXQ_"
   },
   "source": [
    "**44**. Given the lists `letters = ['A', 'B', 'C']` and `numbers = list(range(10))`, construct a MultiIndex object from the product of the two lists. Use it to index a Series of random numbers. Call this Series `s`."
   ]
  },
  {
   "cell_type": "code",
   "execution_count": 196,
   "metadata": {
    "collapsed": true,
    "id": "56ow8WvbDXQ_"
   },
   "outputs": [
    {
     "name": "stdout",
     "output_type": "stream",
     "text": [
      "Creating MultiIndex from product of:\n",
      "Letters: ['A', 'B', 'C']\n",
      "Numbers: [0, 1, 2, 3, 4, 5, 6, 7, 8, 9]\n",
      "\n",
      "MultiIndex:\n",
      "MultiIndex([('A', 0),\n",
      "            ('A', 1),\n",
      "            ('A', 2),\n",
      "            ('A', 3),\n",
      "            ('A', 4),\n",
      "            ('A', 5),\n",
      "            ('A', 6),\n",
      "            ('A', 7),\n",
      "            ('A', 8),\n",
      "            ('A', 9),\n",
      "            ('B', 0),\n",
      "            ('B', 1),\n",
      "            ('B', 2),\n",
      "            ('B', 3),\n",
      "            ('B', 4),\n",
      "            ('B', 5),\n",
      "            ('B', 6),\n",
      "            ('B', 7),\n",
      "            ('B', 8),\n",
      "            ('B', 9),\n",
      "            ('C', 0),\n",
      "            ('C', 1),\n",
      "            ('C', 2),\n",
      "            ('C', 3),\n",
      "            ('C', 4),\n",
      "            ('C', 5),\n",
      "            ('C', 6),\n",
      "            ('C', 7),\n",
      "            ('C', 8),\n",
      "            ('C', 9)],\n",
      "           names=['letter', 'number'])\n",
      "\n",
      "Creating Series with random values:\n",
      "letter  number\n",
      "A       0         0.289613\n",
      "        1         0.055636\n",
      "        2         0.230160\n",
      "        3         0.682066\n",
      "        4         0.543857\n",
      "        5         0.596339\n",
      "        6         0.455516\n",
      "        7         0.508456\n",
      "        8         0.494225\n",
      "        9         0.881943\n",
      "B       0         0.422524\n",
      "        1         0.201181\n",
      "        2         0.540508\n",
      "        3         0.984114\n",
      "        4         0.629513\n",
      "        5         0.882402\n",
      "        6         0.749529\n",
      "        7         0.630121\n",
      "        8         0.362983\n",
      "        9         0.744858\n",
      "C       0         0.727587\n",
      "        1         0.700824\n",
      "        2         0.974565\n",
      "        3         0.978206\n",
      "        4         0.320100\n",
      "        5         0.482241\n",
      "        6         0.768747\n",
      "        7         0.367107\n",
      "        8         0.304248\n",
      "        9         0.903072\n",
      "dtype: float64\n"
     ]
    }
   ],
   "source": [
    "letters = ['A', 'B', 'C']\n",
    "numbers = list(range(10))\n",
    "\n",
    "print(\"Creating MultiIndex from product of:\")\n",
    "print(\"Letters:\", letters)\n",
    "print(\"Numbers:\", numbers)\n",
    "\n",
    "multi_idx = pd.MultiIndex.from_product([letters, numbers], names=['letter', 'number'])\n",
    "print(\"\\nMultiIndex:\")\n",
    "print(multi_idx)\n",
    "\n",
    "print(\"\\nCreating Series with random values:\")\n",
    "s = pd.Series(np.random.rand(30), index=multi_idx)\n",
    "print(s)"
   ]
  },
  {
   "cell_type": "markdown",
   "metadata": {
    "id": "Wp41sUBuDXQ_"
   },
   "source": [
    "**45.** Check the index of `s` is lexicographically sorted (this is a necessary proprty for indexing to work correctly with a MultiIndex)."
   ]
  },
  {
   "cell_type": "code",
   "execution_count": 197,
   "metadata": {
    "collapsed": true,
    "id": "8z0XMeMNDXQ_"
   },
   "outputs": [
    {
     "name": "stdout",
     "output_type": "stream",
     "text": [
      "Checking if index is lexicographically sorted:\n",
      "Index levels: ['letter', 'number']\n",
      "Is sorted? True\n"
     ]
    }
   ],
   "source": [
    "print(\"Checking if index is lexicographically sorted:\")\n",
    "print(\"Index levels:\", s.index.names)\n",
    "print(\"Is sorted?\", s.index.is_monotonic_increasing)"
   ]
  },
  {
   "cell_type": "markdown",
   "metadata": {
    "id": "CbdAHqHEDXQ_"
   },
   "source": [
    "**46**. Select the labels `1`, `3` and `6` from the second level of the MultiIndexed Series."
   ]
  },
  {
   "cell_type": "code",
   "execution_count": 198,
   "metadata": {
    "collapsed": true,
    "id": "tpsVtVDkDXQ_"
   },
   "outputs": [
    {
     "name": "stdout",
     "output_type": "stream",
     "text": [
      "Selecting labels 1, 3, and 6 from second level:\n",
      "\n",
      "All labels in second level: [0, 1, 2, 3, 4, 5, 6, 7, 8, 9]\n",
      "\n",
      "Selected values:\n",
      "letter  number\n",
      "A       1         0.055636\n",
      "        3         0.682066\n",
      "        6         0.455516\n",
      "B       1         0.201181\n",
      "        3         0.984114\n",
      "        6         0.749529\n",
      "C       1         0.700824\n",
      "        3         0.978206\n",
      "        6         0.768747\n",
      "dtype: float64\n"
     ]
    }
   ],
   "source": [
    "print(\"Selecting labels 1, 3, and 6 from second level:\")\n",
    "print(\"\\nAll labels in second level:\", s.index.get_level_values(1).unique().tolist())\n",
    "\n",
    "result = s.loc[:, [1, 3, 6]]\n",
    "print(\"\\nSelected values:\")\n",
    "print(result)"
   ]
  },
  {
   "cell_type": "markdown",
   "metadata": {
    "id": "U5Ex7a7WDXQ_"
   },
   "source": [
    "**47**. Slice the Series `s`; slice up to label 'B' for the first level and from label 5 onwards for the second level."
   ]
  },
  {
   "cell_type": "code",
   "execution_count": 199,
   "metadata": {
    "collapsed": true,
    "id": "xFtymofoDXQ_"
   },
   "outputs": [
    {
     "name": "stdout",
     "output_type": "stream",
     "text": [
      "Slicing MultiIndex:\n",
      "First level: up to 'B'\n",
      "Second level: from 5 onwards\n",
      "\n",
      "Sliced Series:\n",
      "letter  number\n",
      "A       5         0.596339\n",
      "        6         0.455516\n",
      "        7         0.508456\n",
      "        8         0.494225\n",
      "        9         0.881943\n",
      "B       5         0.882402\n",
      "        6         0.749529\n",
      "        7         0.630121\n",
      "        8         0.362983\n",
      "        9         0.744858\n",
      "dtype: float64\n"
     ]
    }
   ],
   "source": [
    "print(\"Slicing MultiIndex:\")\n",
    "print(\"First level: up to 'B'\")\n",
    "print(\"Second level: from 5 onwards\")\n",
    "\n",
    "result = s.loc[:'B', 5:]\n",
    "print(\"\\nSliced Series:\")\n",
    "print(result)"
   ]
  },
  {
   "cell_type": "markdown",
   "metadata": {
    "id": "70bWW7SgDXQ_"
   },
   "source": [
    "**48**. Sum the values in `s` for each label in the first level (you should have Series giving you a total for labels A, B and C)."
   ]
  },
  {
   "cell_type": "code",
   "execution_count": 200,
   "metadata": {
    "collapsed": true,
    "id": "NUKu-Ty1DXRA"
   },
   "outputs": [
    {
     "name": "stdout",
     "output_type": "stream",
     "text": [
      "Summing values for each label in first level (A, B, C):\n",
      "\n",
      "First few values of Series:\n",
      "letter  number\n",
      "A       0         0.289613\n",
      "        1         0.055636\n",
      "        2         0.230160\n",
      "        3         0.682066\n",
      "        4         0.543857\n",
      "        5         0.596339\n",
      "        6         0.455516\n",
      "        7         0.508456\n",
      "        8         0.494225\n",
      "        9         0.881943\n",
      "B       0         0.422524\n",
      "        1         0.201181\n",
      "        2         0.540508\n",
      "        3         0.984114\n",
      "        4         0.629513\n",
      "dtype: float64\n",
      "\n",
      "Sum by first level (letters):\n",
      "letter\n",
      "A    4.737811\n",
      "B    6.147733\n",
      "C    6.526697\n",
      "dtype: float64\n",
      "\n",
      "Alternatively using groupby (same as above):\n",
      "letter\n",
      "A    4.737811\n",
      "B    6.147733\n",
      "C    6.526697\n",
      "dtype: float64\n"
     ]
    }
   ],
   "source": [
    "print(\"Summing values for each label in first level (A, B, C):\")\n",
    "print(\"\\nFirst few values of Series:\")\n",
    "print(s.head(15))\n",
    "\n",
    "print(\"\\nSum by first level (letters):\")\n",
    "# pandas.Series.sum() no longer accepts the 'level' argument — use groupby instead\n",
    "result = s.groupby(level=0).sum()\n",
    "print(result)\n",
    "\n",
    "print(\"\\nAlternatively using groupby (same as above):\")\n",
    "result2 = s.groupby(level=0).sum()\n",
    "print(result2)"
   ]
  },
  {
   "cell_type": "markdown",
   "metadata": {
    "id": "8Dtxh5QHDXRA"
   },
   "source": [
    "**49**. Suppose that `sum()` (and other methods) did not accept a `level` keyword argument. How else could you perform the equivalent of `s.sum(level=1)`?"
   ]
  },
  {
   "cell_type": "code",
   "execution_count": 201,
   "metadata": {
    "collapsed": true,
    "id": "a3ebiorXDXRA"
   },
   "outputs": [
    {
     "name": "stdout",
     "output_type": "stream",
     "text": [
      "Equivalent to s.sum(level=1) without using level parameter:\n",
      "\n",
      "Method 1: Unstack and sum:\n",
      "number\n",
      "0    1.439725\n",
      "1    0.957640\n",
      "2    1.745233\n",
      "3    2.644385\n",
      "4    1.493470\n",
      "5    1.960983\n",
      "6    1.973791\n",
      "7    1.505684\n",
      "8    1.161456\n",
      "9    2.529873\n",
      "dtype: float64\n",
      "\n",
      "Method 2: Groupby level 1:\n",
      "number\n",
      "0    1.439725\n",
      "1    0.957640\n",
      "2    1.745233\n",
      "3    2.644385\n",
      "4    1.493470\n",
      "5    1.960983\n",
      "6    1.973791\n",
      "7    1.505684\n",
      "8    1.161456\n",
      "9    2.529873\n",
      "dtype: float64\n"
     ]
    }
   ],
   "source": [
    "print(\"Equivalent to s.sum(level=1) without using level parameter:\")\n",
    "\n",
    "print(\"\\nMethod 1: Unstack and sum:\")\n",
    "result = s.unstack().sum(axis=0)\n",
    "print(result)\n",
    "\n",
    "print(\"\\nMethod 2: Groupby level 1:\")\n",
    "result2 = s.groupby(level=1).sum()\n",
    "print(result2)"
   ]
  },
  {
   "cell_type": "markdown",
   "metadata": {
    "id": "TUK3NlV7DXRA"
   },
   "source": [
    "**50**. Exchange the levels of the MultiIndex so we have an index of the form (letters, numbers). Is this new Series properly lexsorted? If not, sort it."
   ]
  },
  {
   "cell_type": "code",
   "execution_count": 202,
   "metadata": {
    "id": "wEjDF_J9DXRA"
   },
   "outputs": [
    {
     "name": "stdout",
     "output_type": "stream",
     "text": [
      "Original index order:\n",
      "Levels: ['letter', 'number']\n",
      "letter  number\n",
      "A       0         0.289613\n",
      "        1         0.055636\n",
      "        2         0.230160\n",
      "        3         0.682066\n",
      "        4         0.543857\n",
      "        5         0.596339\n",
      "        6         0.455516\n",
      "        7         0.508456\n",
      "        8         0.494225\n",
      "        9         0.881943\n",
      "dtype: float64\n",
      "\n",
      "Swapping levels (numbers, letters):\n",
      "New levels: ['number', 'letter']\n",
      "number  letter\n",
      "0       A         0.289613\n",
      "1       A         0.055636\n",
      "2       A         0.230160\n",
      "3       A         0.682066\n",
      "4       A         0.543857\n",
      "5       A         0.596339\n",
      "6       A         0.455516\n",
      "7       A         0.508456\n",
      "8       A         0.494225\n",
      "9       A         0.881943\n",
      "dtype: float64\n",
      "\n",
      "Is swapped index sorted? False\n",
      "\n",
      "Sorting the swapped index:\n",
      "number  letter\n",
      "0       A         0.289613\n",
      "        B         0.422524\n",
      "        C         0.727587\n",
      "1       A         0.055636\n",
      "        B         0.201181\n",
      "        C         0.700824\n",
      "2       A         0.230160\n",
      "        B         0.540508\n",
      "        C         0.974565\n",
      "3       A         0.682066\n",
      "dtype: float64\n",
      "\n",
      "Is now sorted? True\n"
     ]
    }
   ],
   "source": [
    "print(\"Original index order:\")\n",
    "print(\"Levels:\", s.index.names)\n",
    "print(s.head(10))\n",
    "\n",
    "print(\"\\nSwapping levels (numbers, letters):\")\n",
    "s_swapped = s.swaplevel(0, 1)\n",
    "print(\"New levels:\", s_swapped.index.names)\n",
    "print(s_swapped.head(10))\n",
    "\n",
    "print(\"\\nIs swapped index sorted?\", s_swapped.index.is_monotonic_increasing)\n",
    "\n",
    "print(\"\\nSorting the swapped index:\")\n",
    "s_swapped = s_swapped.sort_index()\n",
    "print(s_swapped.head(10))\n",
    "print(\"\\nIs now sorted?\", s_swapped.index.is_monotonic_increasing)"
   ]
  },
  {
   "cell_type": "markdown",
   "metadata": {
    "id": "GGkE5NDcDXRA"
   },
   "source": [
    "## Minesweeper\n",
    "\n",
    "### Generate the numbers for safe squares in a Minesweeper grid\n",
    "\n",
    "Difficulty: *medium* to *hard*\n",
    "\n",
    "If you've ever used an older version of Windows, there's a good chance you've played with Minesweeper:\n",
    "- https://en.wikipedia.org/wiki/Minesweeper_(video_game)\n",
    "\n",
    "\n",
    "If you're not familiar with the game, imagine a grid of squares: some of these squares conceal a mine. If you click on a mine, you lose instantly. If you click on a safe square, you reveal a number telling you how many mines are found in the squares that are immediately adjacent. The aim of the game is to uncover all squares in the grid that do not contain a mine.\n",
    "\n",
    "In this section, we'll make a DataFrame that contains the necessary data for a game of Minesweeper: coordinates of the squares, whether the square contains a mine and the number of mines found on adjacent squares."
   ]
  },
  {
   "cell_type": "markdown",
   "metadata": {
    "id": "lbi_LaJMDXRA"
   },
   "source": [
    "**51**. Let's suppose we're playing Minesweeper on a 5 by 4 grid, i.e.\n",
    "```\n",
    "X = 5\n",
    "Y = 4\n",
    "```\n",
    "To begin, generate a DataFrame `df` with two columns, `'x'` and `'y'` containing every coordinate for this grid. That is, the DataFrame should start:\n",
    "```\n",
    "   x  y\n",
    "0  0  0\n",
    "1  0  1\n",
    "2  0  2\n",
    "```"
   ]
  },
  {
   "cell_type": "code",
   "execution_count": 203,
   "metadata": {
    "collapsed": true,
    "id": "FKBjvaWyDXRB"
   },
   "outputs": [
    {
     "name": "stdout",
     "output_type": "stream",
     "text": [
      "Grid dimensions: X = 5 , Y = 4\n",
      "\n",
      "Creating coordinate pairs:\n",
      "[(0, 0), (0, 1), (0, 2), (0, 3), (1, 0), (1, 1), (1, 2), (1, 3), (2, 0), (2, 1)]\n",
      "\n",
      "Creating DataFrame:\n",
      "    x  y\n",
      "0   0  0\n",
      "1   0  1\n",
      "2   0  2\n",
      "3   0  3\n",
      "4   1  0\n",
      "5   1  1\n",
      "6   1  2\n",
      "7   1  3\n",
      "8   2  0\n",
      "9   2  1\n",
      "10  2  2\n",
      "11  2  3\n",
      "12  3  0\n",
      "13  3  1\n",
      "14  3  2\n",
      "15  3  3\n",
      "16  4  0\n",
      "17  4  1\n",
      "18  4  2\n",
      "19  4  3\n"
     ]
    }
   ],
   "source": [
    "X = 5\n",
    "Y = 4\n",
    "\n",
    "print(\"Grid dimensions: X =\", X, \", Y =\", Y)\n",
    "\n",
    "print(\"\\nCreating coordinate pairs:\")\n",
    "import itertools\n",
    "coords = list(itertools.product(range(X), range(Y)))\n",
    "print(coords[:10])\n",
    "\n",
    "print(\"\\nCreating DataFrame:\")\n",
    "df = pd.DataFrame(coords, columns=['x', 'y'])\n",
    "print(df)"
   ]
  },
  {
   "cell_type": "markdown",
   "metadata": {
    "id": "9sF9m-xFDXRB"
   },
   "source": [
    "**52**. For this DataFrame `df`, create a new column of zeros (safe) and ones (mine). The probability of a mine occuring at each location should be 0.4."
   ]
  },
  {
   "cell_type": "code",
   "execution_count": 204,
   "metadata": {
    "collapsed": true,
    "id": "z7YRN2KJDXRB"
   },
   "outputs": [
    {
     "name": "stdout",
     "output_type": "stream",
     "text": [
      "Adding mine column with probability 0.4:\n",
      "\n",
      "Random values (0-9):\n",
      "[5 3 3 3 1 5 0 2 1 7 3 7 4 9 1 5 7 5 1 4]\n",
      "\n",
      "Converting to 0 (safe) or 1 (mine) where < 4 means mine:\n",
      "[0 1 1 1 1 0 1 1 1 0 1 0 0 0 1 0 0 0 1 0]\n",
      "\n",
      "DataFrame with mine column:\n",
      "    x  y  mine\n",
      "0   0  0     0\n",
      "1   0  1     1\n",
      "2   0  2     1\n",
      "3   0  3     1\n",
      "4   1  0     1\n",
      "5   1  1     0\n",
      "6   1  2     1\n",
      "7   1  3     1\n",
      "8   2  0     1\n",
      "9   2  1     0\n",
      "10  2  2     1\n",
      "11  2  3     0\n",
      "12  3  0     0\n",
      "13  3  1     0\n",
      "14  3  2     1\n",
      "15  3  3     0\n",
      "16  4  0     0\n",
      "17  4  1     0\n",
      "18  4  2     1\n",
      "19  4  3     0\n"
     ]
    }
   ],
   "source": [
    "print(\"Adding mine column with probability 0.4:\")\n",
    "df['mine'] = np.random.randint(0, 10, len(df))\n",
    "print(\"\\nRandom values (0-9):\")\n",
    "print(df['mine'].values)\n",
    "\n",
    "print(\"\\nConverting to 0 (safe) or 1 (mine) where < 4 means mine:\")\n",
    "df['mine'] = (df['mine'] < 4).astype(int)\n",
    "print(df['mine'].values)\n",
    "\n",
    "print(\"\\nDataFrame with mine column:\")\n",
    "print(df)"
   ]
  },
  {
   "cell_type": "markdown",
   "metadata": {
    "id": "BJfv2lgsDXRB"
   },
   "source": [
    "**53**. Now create a new column for this DataFrame called `'adjacent'`. This column should contain the number of mines found on adjacent squares in the grid.\n",
    "\n",
    "(E.g. for the first row, which is the entry for the coordinate `(0, 0)`, count how many mines are found on the coordinates `(0, 1)`, `(1, 0)` and `(1, 1)`.)"
   ]
  },
  {
   "cell_type": "code",
   "execution_count": 205,
   "metadata": {
    "collapsed": true,
    "id": "nVH1lc4jDXRB"
   },
   "outputs": [
    {
     "name": "stdout",
     "output_type": "stream",
     "text": [
      "Calculating adjacent mines for each cell:\n",
      "\n",
      "Adjacent mine counts:\n",
      "[np.int64(2), np.int64(3), np.int64(4), np.int64(3), np.int64(2), np.int64(6), np.int64(5), np.int64(4), np.int64(1), np.int64(5), np.int64(3), np.int64(4), np.int64(1), np.int64(4), np.int64(2), np.int64(3), np.int64(0), np.int64(2), np.int64(1), np.int64(2)]\n",
      "\n",
      "DataFrame with adjacent column:\n",
      "    x  y  mine  adjacent\n",
      "0   0  0     0         2\n",
      "1   0  1     1         3\n",
      "2   0  2     1         4\n",
      "3   0  3     1         3\n",
      "4   1  0     1         2\n",
      "5   1  1     0         6\n",
      "6   1  2     1         5\n",
      "7   1  3     1         4\n",
      "8   2  0     1         1\n",
      "9   2  1     0         5\n",
      "10  2  2     1         3\n",
      "11  2  3     0         4\n",
      "12  3  0     0         1\n",
      "13  3  1     0         4\n",
      "14  3  2     1         2\n",
      "15  3  3     0         3\n",
      "16  4  0     0         0\n",
      "17  4  1     0         2\n",
      "18  4  2     1         1\n",
      "19  4  3     0         2\n"
     ]
    }
   ],
   "source": [
    "print(\"Calculating adjacent mines for each cell:\")\n",
    "\n",
    "adjacent = []\n",
    "for i, row in df.iterrows():\n",
    "    x, y = row['x'], row['y']\n",
    "    count = 0\n",
    "    \n",
    "    for dx in [-1, 0, 1]:\n",
    "        for dy in [-1, 0, 1]:\n",
    "            if dx == 0 and dy == 0:\n",
    "                continue\n",
    "            nx, ny = x + dx, y + dy\n",
    "            if 0 <= nx < X and 0 <= ny < Y:\n",
    "                neighbor = df[(df['x'] == nx) & (df['y'] == ny)]\n",
    "                if len(neighbor) > 0:\n",
    "                    count += neighbor['mine'].values[0]\n",
    "    adjacent.append(count)\n",
    "\n",
    "print(\"\\nAdjacent mine counts:\")\n",
    "print(adjacent)\n",
    "\n",
    "df['adjacent'] = adjacent\n",
    "print(\"\\nDataFrame with adjacent column:\")\n",
    "print(df)"
   ]
  },
  {
   "cell_type": "markdown",
   "metadata": {
    "id": "gvEn3vLTDXRB"
   },
   "source": [
    "**54**. For rows of the DataFrame that contain a mine, set the value in the `'adjacent'` column to NaN."
   ]
  },
  {
   "cell_type": "code",
   "execution_count": 206,
   "metadata": {
    "collapsed": true,
    "id": "7V2-8qG0DXRB"
   },
   "outputs": [
    {
     "name": "stdout",
     "output_type": "stream",
     "text": [
      "Setting adjacent to NaN where mine = 1:\n",
      "\n",
      "Before:\n",
      "   mine  adjacent\n",
      "0     0         2\n",
      "1     1         3\n",
      "2     1         4\n",
      "3     1         3\n",
      "4     1         2\n",
      "5     0         6\n",
      "6     1         5\n",
      "7     1         4\n",
      "8     1         1\n",
      "9     0         5\n",
      "\n",
      "After:\n",
      "   mine  adjacent\n",
      "0     0       2.0\n",
      "1     1       NaN\n",
      "2     1       NaN\n",
      "3     1       NaN\n",
      "4     1       NaN\n",
      "5     0       6.0\n",
      "6     1       NaN\n",
      "7     1       NaN\n",
      "8     1       NaN\n",
      "9     0       5.0\n",
      "\n",
      "Full DataFrame:\n",
      "    x  y  mine  adjacent\n",
      "0   0  0     0       2.0\n",
      "1   0  1     1       NaN\n",
      "2   0  2     1       NaN\n",
      "3   0  3     1       NaN\n",
      "4   1  0     1       NaN\n",
      "5   1  1     0       6.0\n",
      "6   1  2     1       NaN\n",
      "7   1  3     1       NaN\n",
      "8   2  0     1       NaN\n",
      "9   2  1     0       5.0\n",
      "10  2  2     1       NaN\n",
      "11  2  3     0       4.0\n",
      "12  3  0     0       1.0\n",
      "13  3  1     0       4.0\n",
      "14  3  2     1       NaN\n",
      "15  3  3     0       3.0\n",
      "16  4  0     0       0.0\n",
      "17  4  1     0       2.0\n",
      "18  4  2     1       NaN\n",
      "19  4  3     0       2.0\n"
     ]
    }
   ],
   "source": [
    "print(\"Setting adjacent to NaN where mine = 1:\")\n",
    "\n",
    "print(\"\\nBefore:\")\n",
    "print(df[['mine', 'adjacent']].head(10))\n",
    "\n",
    "df.loc[df['mine'] == 1, 'adjacent'] = np.nan\n",
    "\n",
    "print(\"\\nAfter:\")\n",
    "print(df[['mine', 'adjacent']].head(10))\n",
    "\n",
    "print(\"\\nFull DataFrame:\")\n",
    "print(df)"
   ]
  },
  {
   "cell_type": "markdown",
   "metadata": {
    "id": "20Qsm-YEDXRB"
   },
   "source": [
    "**55**. Finally, convert the DataFrame to grid of the adjacent mine counts: columns are the `x` coordinate, rows are the `y` coordinate."
   ]
  },
  {
   "cell_type": "code",
   "execution_count": 207,
   "metadata": {
    "collapsed": true,
    "id": "zbPealQWDXRB"
   },
   "outputs": [
    {
     "name": "stdout",
     "output_type": "stream",
     "text": [
      "Converting to grid format:\n",
      "\n",
      "Pivoting DataFrame:\n",
      "x    0    1    2    3    4\n",
      "y                         \n",
      "0  2.0  NaN  NaN  1.0  0.0\n",
      "1  NaN  6.0  5.0  4.0  2.0\n",
      "2  NaN  NaN  NaN  NaN  NaN\n",
      "3  NaN  NaN  4.0  3.0  2.0\n"
     ]
    }
   ],
   "source": [
    "print(\"Converting to grid format:\")\n",
    "\n",
    "print(\"\\nPivoting DataFrame:\")\n",
    "grid = df.pivot(index='y', columns='x', values='adjacent')\n",
    "print(grid)"
   ]
  },
  {
   "cell_type": "markdown",
   "metadata": {
    "id": "hgW6m-cVDXRC"
   },
   "source": [
    "## Plotting\n",
    "\n",
    "### Visualize trends and patterns in data\n",
    "\n",
    "Difficulty: *medium*\n",
    "\n",
    "To really get a good understanding of the data contained in your DataFrame, it is often essential to create plots: if you're lucky, trends and anomalies will jump right out at you. This functionality is baked into pandas and the puzzles below explore some of what's possible with the library.\n",
    "\n",
    "**56.** Pandas is highly integrated with the plotting library matplotlib, and makes plotting DataFrames very user-friendly! Plotting in a notebook environment usually makes use of the following boilerplate:\n",
    "\n",
    "```python\n",
    "import matplotlib.pyplot as plt\n",
    "%matplotlib inline\n",
    "plt.style.use('ggplot')\n",
    "```\n",
    "\n",
    "matplotlib is the plotting library which pandas' plotting functionality is built upon, and it is usually aliased to ```plt```.\n",
    "\n",
    "```%matplotlib inline``` tells the notebook to show plots inline, instead of creating them in a separate window.  \n",
    "\n",
    "```plt.style.use('ggplot')``` is a style theme that most people find agreeable, based upon the styling of R's ggplot package.\n",
    "\n",
    "For starters, make a scatter plot of this random data, but use black X's instead of the default markers.\n",
    "\n",
    "```df = pd.DataFrame({\"xs\":[1,5,2,8,1], \"ys\":[4,2,1,9,6]})```\n",
    "\n",
    "Consult the [documentation](https://pandas.pydata.org/pandas-docs/stable/generated/pandas.DataFrame.plot.html) if you get stuck!"
   ]
  },
  {
   "cell_type": "code",
   "execution_count": 208,
   "metadata": {
    "collapsed": true,
    "id": "5OzJC3nLDXRC"
   },
   "outputs": [
    {
     "name": "stdout",
     "output_type": "stream",
     "text": [
      "Data to plot:\n",
      "   xs  ys\n",
      "0   1   4\n",
      "1   5   2\n",
      "2   2   1\n",
      "3   8   9\n",
      "4   1   6\n",
      "\n",
      "Creating scatter plot with black X markers:\n"
     ]
    },
    {
     "data": {
      "image/png": "[encoded data removed]",
      "text/plain": [
       "<Figure size 640x480 with 1 Axes>"
      ]
     },
     "metadata": {},
     "output_type": "display_data"
    }
   ],
   "source": [
    "import matplotlib.pyplot as plt\n",
    "\n",
    "df = pd.DataFrame({\"xs\":[1,5,2,8,1], \"ys\":[4,2,1,9,6]})\n",
    "\n",
    "print(\"Data to plot:\")\n",
    "print(df)\n",
    "\n",
    "print(\"\\nCreating scatter plot with black X markers:\")\n",
    "df.plot.scatter(x='xs', y='ys', color='black', marker='x', s=100)\n",
    "plt.title('Scatter Plot with X Markers')\n",
    "plt.show()"
   ]
  },
  {
   "cell_type": "markdown",
   "metadata": {
    "id": "wcljN5vfDXRC"
   },
   "source": [
    "**57.** Columns in your DataFrame can also be used to modify colors and sizes.  Bill has been keeping track of his performance at work over time, as well as how good he was feeling that day, and whether he had a cup of coffee in the morning.  Make a plot which incorporates all four features of this DataFrame.\n",
    "\n",
    "(Hint:  If you're having trouble seeing the plot, try multiplying the Series which you choose to represent size by 10 or more)\n",
    "\n",
    "*The chart doesn't have to be pretty: this isn't a course in data viz!*\n",
    "\n",
    "```\n",
    "df = pd.DataFrame({\"productivity\":[5,2,3,1,4,5,6,7,8,3,4,8,9],\n",
    "                   \"hours_in\"    :[1,9,6,5,3,9,2,9,1,7,4,2,2],\n",
    "                   \"happiness\"   :[2,1,3,2,3,1,2,3,1,2,2,1,3],\n",
    "                   \"caffienated\" :[0,0,1,1,0,0,0,0,1,1,0,1,0]})\n",
    "```"
   ]
  },
  {
   "cell_type": "code",
   "execution_count": 209,
   "metadata": {
    "collapsed": true,
    "id": "8tCoSd48DXRC"
   },
   "outputs": [
    {
     "name": "stdout",
     "output_type": "stream",
     "text": [
      "DataFrame:\n",
      "    productivity  hours_in  happiness  caffienated\n",
      "0              5         1          2            0\n",
      "1              2         9          1            0\n",
      "2              3         6          3            1\n",
      "3              1         5          2            1\n",
      "4              4         3          3            0\n",
      "5              5         9          1            0\n",
      "6              6         2          2            0\n",
      "7              7         9          3            0\n",
      "8              8         1          1            1\n",
      "9              3         7          2            1\n",
      "10             4         4          2            0\n",
      "11             8         2          1            1\n",
      "12             9         2          3            0\n",
      "\n",
      "Creating scatter plot:\n",
      "X-axis: hours_in\n",
      "Y-axis: productivity\n",
      "Size: happiness * 50\n",
      "Color: caffienated (0=blue, 1=red)\n"
     ]
    },
    {
     "data": {
      "image/png": "[encoded data removed]",
      "text/plain": [
       "<Figure size 640x480 with 2 Axes>"
      ]
     },
     "metadata": {},
     "output_type": "display_data"
    }
   ],
   "source": [
    "df = pd.DataFrame({\"productivity\":[5,2,3,1,4,5,6,7,8,3,4,8,9],\n",
    "                   \"hours_in\"    :[1,9,6,5,3,9,2,9,1,7,4,2,2],\n",
    "                   \"happiness\"   :[2,1,3,2,3,1,2,3,1,2,2,1,3],\n",
    "                   \"caffienated\" :[0,0,1,1,0,0,0,0,1,1,0,1,0]})\n",
    "\n",
    "print(\"DataFrame:\")\n",
    "print(df)\n",
    "\n",
    "print(\"\\nCreating scatter plot:\")\n",
    "print(\"X-axis: hours_in\")\n",
    "print(\"Y-axis: productivity\")\n",
    "print(\"Size: happiness * 50\")\n",
    "print(\"Color: caffienated (0=blue, 1=red)\")\n",
    "\n",
    "df.plot.scatter(x='hours_in', y='productivity', \n",
    "                s=df['happiness']*50, \n",
    "                c=df['caffienated'], \n",
    "                cmap='bwr',\n",
    "                alpha=0.6)\n",
    "plt.title('Productivity vs Hours')\n",
    "plt.show()"
   ]
  },
  {
   "cell_type": "markdown",
   "metadata": {
    "id": "sl6yBqjaDXRH"
   },
   "source": [
    "**58.**  What if we want to plot multiple things?  Pandas allows you to pass in a matplotlib *Axis* object for plots, and plots will also return an Axis object.\n",
    "\n",
    "Make a bar plot of monthly revenue with a line plot of monthly advertising spending (numbers in millions)\n",
    "\n",
    "```\n",
    "df = pd.DataFrame({\"revenue\":[57,68,63,71,72,90,80,62,59,51,47,52],\n",
    "                   \"advertising\":[2.1,1.9,2.7,3.0,3.6,3.2,2.7,2.4,1.8,1.6,1.3,1.9],\n",
    "                   \"month\":range(12)\n",
    "                  })\n",
    "```"
   ]
  },
  {
   "cell_type": "code",
   "execution_count": 210,
   "metadata": {
    "collapsed": true,
    "id": "sYRcLjN7DXRH"
   },
   "outputs": [
    {
     "name": "stdout",
     "output_type": "stream",
     "text": [
      "DataFrame:\n",
      "    revenue  advertising  month\n",
      "0        57          2.1      0\n",
      "1        68          1.9      1\n",
      "2        63          2.7      2\n",
      "3        71          3.0      3\n",
      "4        72          3.6      4\n",
      "5        90          3.2      5\n",
      "6        80          2.7      6\n",
      "7        62          2.4      7\n",
      "8        59          1.8      8\n",
      "9        51          1.6      9\n",
      "10       47          1.3     10\n",
      "11       52          1.9     11\n",
      "\n",
      "Creating combined plot:\n"
     ]
    },
    {
     "data": {
      "image/png": "[encoded data removed]",
      "text/plain": [
       "<Figure size 640x480 with 2 Axes>"
      ]
     },
     "metadata": {},
     "output_type": "display_data"
    }
   ],
   "source": [
    "df = pd.DataFrame({\"revenue\":[57,68,63,71,72,90,80,62,59,51,47,52],\n",
    "                   \"advertising\":[2.1,1.9,2.7,3.0,3.6,3.2,2.7,2.4,1.8,1.6,1.3,1.9],\n",
    "                   \"month\":range(12)})\n",
    "\n",
    "print(\"DataFrame:\")\n",
    "print(df)\n",
    "\n",
    "print(\"\\nCreating combined plot:\")\n",
    "ax = df.plot(x='month', y='revenue', kind='bar', color='steelblue', legend=True)\n",
    "df.plot(x='month', y='advertising', kind='line', color='red', ax=ax, legend=True, secondary_y=True)\n",
    "\n",
    "ax.set_xlabel('Month')\n",
    "ax.set_ylabel('Revenue (millions)')\n",
    "ax.right_ax.set_ylabel('Advertising (millions)')\n",
    "plt.title('Revenue and Advertising by Month')\n",
    "plt.show()"
   ]
  },
  {
   "cell_type": "markdown",
   "metadata": {
    "id": "CjN-6Oj-DXRI"
   },
   "source": [
    "Now we're finally ready to create a candlestick chart, which is a very common tool used to analyze stock price data.  A candlestick chart shows the opening, closing, highest, and lowest price for a stock during a time window.  The color of the \"candle\" (the thick part of the bar) is green if the stock closed above its opening price, or red if below.\n",
    "\n",
    "![Candlestick Example](img/candle.jpg)\n",
    "\n",
    "This was initially designed to be a pandas plotting challenge, but it just so happens that this type of plot is just not feasible using pandas' methods.  If you are unfamiliar with matplotlib, we have provided a function that will plot the chart for you so long as you can use pandas to get the data into the correct format.\n",
    "\n",
    "Your first step should be to get the data in the correct format using pandas' time-series grouping function.  We would like each candle to represent an hour's worth of data.  You can write your own aggregation function which returns the open/high/low/close, but pandas has a built-in which also does this."
   ]
  },
  {
   "cell_type": "markdown",
   "metadata": {
    "id": "OoXsLeZdDXRI"
   },
   "source": [
    "The below cell contains helper functions.  Call ```day_stock_data()``` to generate a DataFrame containing the prices a hypothetical stock sold for, and the time the sale occurred.  Call ```plot_candlestick(df)``` on your properly aggregated and formatted stock data to print the candlestick chart."
   ]
  },
  {
   "cell_type": "code",
   "execution_count": 211,
   "metadata": {
    "collapsed": true,
    "id": "V2vMCkelDXRI"
   },
   "outputs": [],
   "source": [
    "import numpy as np\n",
    "def float_to_time(x):\n",
    "    return str(int(x)) + \":\" + str(int(x%1 * 60)).zfill(2) + \":\" + str(int(x*60 % 1 * 60)).zfill(2)\n",
    "\n",
    "def day_stock_data():\n",
    "    #NYSE is open from 9:30 to 4:00\n",
    "    time = 9.5\n",
    "    price = 100\n",
    "    results = [(float_to_time(time), price)]\n",
    "    while time < 16:\n",
    "        elapsed = np.random.exponential(.001)\n",
    "        time += elapsed\n",
    "        if time > 16:\n",
    "            break\n",
    "        price_diff = np.random.uniform(.999, 1.001)\n",
    "        price *= price_diff\n",
    "        results.append((float_to_time(time), price))\n",
    "\n",
    "\n",
    "    df = pd.DataFrame(results, columns = ['time','price'])\n",
    "    df.time = pd.to_datetime(df.time)\n",
    "    return df\n",
    "\n",
    "#Don't read me unless you get stuck!\n",
    "def plot_candlestick(agg):\n",
    "    \"\"\"\n",
    "    agg is a DataFrame which has a DatetimeIndex and five columns: [\"open\",\"high\",\"low\",\"close\",\"color\"]\n",
    "    \"\"\"\n",
    "    fig, ax = plt.subplots()\n",
    "    for time in agg.index:\n",
    "        ax.plot([time.hour] * 2, agg.loc[time, [\"high\",\"low\"]].values, color = \"black\")\n",
    "        ax.plot([time.hour] * 2, agg.loc[time, [\"open\",\"close\"]].values, color = agg.loc[time, \"color\"], linewidth = 10)\n",
    "\n",
    "    ax.set_xlim((8,16))\n",
    "    ax.set_ylabel(\"Price\")\n",
    "    ax.set_xlabel(\"Hour\")\n",
    "    ax.set_title(\"OHLC of Stock Value During Trading Day\")\n",
    "    plt.show()"
   ]
  },
  {
   "cell_type": "markdown",
   "metadata": {
    "id": "nerqKuuUDXRI"
   },
   "source": [
    "**59.** Generate a day's worth of random stock data, and aggregate / reformat it so that it has hourly summaries of the opening, highest, lowest, and closing prices"
   ]
  },
  {
   "cell_type": "code",
   "execution_count": 212,
   "metadata": {
    "collapsed": true,
    "id": "x6brJm57DXRI"
   },
   "outputs": [
    {
     "name": "stdout",
     "output_type": "stream",
     "text": [
      "Generating stock data:\n"
     ]
    },
    {
     "name": "stderr",
     "output_type": "stream",
     "text": [
      "C:\\Users\\Bakir\\AppData\\Local\\Temp\\ipykernel_23840\\2848873436.py:21: UserWarning: Could not infer format, so each element will be parsed individually, falling back to `dateutil`. To ensure parsing is consistent and as-expected, please specify a format.\n",
      "  df.time = pd.to_datetime(df.time)\n",
      "C:\\Users\\Bakir\\AppData\\Local\\Temp\\ipykernel_23840\\3731094049.py:13: FutureWarning: 'H' is deprecated and will be removed in a future version, please use 'h' instead.\n",
      "  hourly = stock_data['price'].resample('1H').ohlc()\n"
     ]
    },
    {
     "name": "stdout",
     "output_type": "stream",
     "text": [
      "\n",
      "First 10 rows:\n",
      "                 time       price\n",
      "0 2025-10-28 09:30:00  100.000000\n",
      "1 2025-10-28 09:30:02   99.914379\n",
      "2 2025-10-28 09:30:04   99.836613\n",
      "3 2025-10-28 09:30:09   99.931640\n",
      "4 2025-10-28 09:30:12   99.976970\n",
      "5 2025-10-28 09:30:14  100.049683\n",
      "6 2025-10-28 09:30:19  100.136923\n",
      "7 2025-10-28 09:30:23  100.060645\n",
      "8 2025-10-28 09:30:33  100.014509\n",
      "9 2025-10-28 09:30:40  100.081238\n",
      "\n",
      "Total rows: 6553\n",
      "\n",
      "Setting time as index:\n",
      "                          price\n",
      "time                           \n",
      "2025-10-28 09:30:00  100.000000\n",
      "2025-10-28 09:30:02   99.914379\n",
      "2025-10-28 09:30:04   99.836613\n",
      "2025-10-28 09:30:09   99.931640\n",
      "2025-10-28 09:30:12   99.976970\n",
      "2025-10-28 09:30:14  100.049683\n",
      "2025-10-28 09:30:19  100.136923\n",
      "2025-10-28 09:30:23  100.060645\n",
      "2025-10-28 09:30:33  100.014509\n",
      "2025-10-28 09:30:40  100.081238\n",
      "\n",
      "Resampling by hour and aggregating OHLC:\n",
      "                           open        high        low      close\n",
      "time                                                             \n",
      "2025-10-28 09:00:00  100.000000  100.178431  97.068851  97.821751\n",
      "2025-10-28 10:00:00   97.876940   98.061632  95.562008  95.890873\n",
      "2025-10-28 11:00:00   95.881545   96.901873  94.794021  95.841759\n",
      "2025-10-28 12:00:00   95.756107   96.951075  94.929614  95.783964\n",
      "2025-10-28 13:00:00   95.805646   97.231881  94.257709  96.878384\n",
      "2025-10-28 14:00:00   96.970849   99.131562  96.608503  98.521677\n",
      "2025-10-28 15:00:00   98.469272   98.586897  96.326656  96.438991\n",
      "\n",
      "Adding color column (green if close > open, red otherwise):\n",
      "                           open        high        low      close  color\n",
      "time                                                                    \n",
      "2025-10-28 09:00:00  100.000000  100.178431  97.068851  97.821751    red\n",
      "2025-10-28 10:00:00   97.876940   98.061632  95.562008  95.890873    red\n",
      "2025-10-28 11:00:00   95.881545   96.901873  94.794021  95.841759    red\n",
      "2025-10-28 12:00:00   95.756107   96.951075  94.929614  95.783964  green\n",
      "2025-10-28 13:00:00   95.805646   97.231881  94.257709  96.878384  green\n",
      "2025-10-28 14:00:00   96.970849   99.131562  96.608503  98.521677  green\n",
      "2025-10-28 15:00:00   98.469272   98.586897  96.326656  96.438991    red\n"
     ]
    }
   ],
   "source": [
    "print(\"Generating stock data:\")\n",
    "stock_data = day_stock_data()\n",
    "print(\"\\nFirst 10 rows:\")\n",
    "print(stock_data.head(10))\n",
    "print(\"\\nTotal rows:\", len(stock_data))\n",
    "\n",
    "print(\"\\nSetting time as index:\")\n",
    "stock_data['time'] = pd.to_datetime(stock_data['time'])\n",
    "stock_data = stock_data.set_index('time')\n",
    "print(stock_data.head(10))\n",
    "\n",
    "print(\"\\nResampling by hour and aggregating OHLC:\")\n",
    "hourly = stock_data['price'].resample('1H').ohlc()\n",
    "print(hourly)\n",
    "\n",
    "print(\"\\nAdding color column (green if close > open, red otherwise):\")\n",
    "hourly['color'] = hourly.apply(lambda x: 'green' if x['close'] >= x['open'] else 'red', axis=1)\n",
    "print(hourly)"
   ]
  },
  {
   "cell_type": "markdown",
   "metadata": {
    "id": "Czk8ydetDXRI"
   },
   "source": [
    "**60.** Now that you have your properly-formatted data, try to plot it yourself as a candlestick chart.  Use the ```plot_candlestick(df)``` function above, or matplotlib's [```plot``` documentation](https://matplotlib.org/api/_as_gen/matplotlib.axes.Axes.plot.html) if you get stuck."
   ]
  },
  {
   "cell_type": "code",
   "execution_count": 213,
   "metadata": {
    "collapsed": true,
    "id": "FMQAdl0VDXRI"
   },
   "outputs": [
    {
     "name": "stdout",
     "output_type": "stream",
     "text": [
      "Plotting candlestick chart:\n",
      "\n",
      "Hourly aggregated data:\n",
      "                           open        high        low      close  color\n",
      "time                                                                    \n",
      "2025-10-28 09:00:00  100.000000  100.178431  97.068851  97.821751    red\n",
      "2025-10-28 10:00:00   97.876940   98.061632  95.562008  95.890873    red\n",
      "2025-10-28 11:00:00   95.881545   96.901873  94.794021  95.841759    red\n",
      "2025-10-28 12:00:00   95.756107   96.951075  94.929614  95.783964  green\n",
      "2025-10-28 13:00:00   95.805646   97.231881  94.257709  96.878384  green\n",
      "2025-10-28 14:00:00   96.970849   99.131562  96.608503  98.521677  green\n",
      "2025-10-28 15:00:00   98.469272   98.586897  96.326656  96.438991    red\n",
      "\n",
      "Generating candlestick plot:\n"
     ]
    },
    {
     "data": {
      "image/png": "[encoded data removed]",
      "text/plain": [
       "<Figure size 640x480 with 1 Axes>"
      ]
     },
     "metadata": {},
     "output_type": "display_data"
    }
   ],
   "source": [
    "print(\"Plotting candlestick chart:\")\n",
    "print(\"\\nHourly aggregated data:\")\n",
    "print(hourly)\n",
    "\n",
    "print(\"\\nGenerating candlestick plot:\")\n",
    "plot_candlestick(hourly)"
   ]
  },
  {
   "cell_type": "markdown",
   "metadata": {
    "id": "JF7MAdhTDXRI"
   },
   "source": [
    "*More exercises to follow soon...*"
   ]
  }
 ],
 "metadata": {
  "colab": {
   "provenance": []
  },
  "kernelspec": {
   "display_name": "data_llm",
   "language": "python",
   "name": "python3"
  },
  "language_info": {
   "codemirror_mode": {
    "name": "ipython",
    "version": 3
   },
   "file_extension": ".py",
   "mimetype": "text/x-python",
   "name": "python",
   "nbconvert_exporter": "python",
   "pygments_lexer": "ipython3",
   "version": "3.12.11"
  }
 },
 "nbformat": 4,
 "nbformat_minor": 0
}
