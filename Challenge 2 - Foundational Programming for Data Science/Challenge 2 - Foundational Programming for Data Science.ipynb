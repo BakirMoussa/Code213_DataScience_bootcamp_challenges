{
  "nbformat": 4,
  "nbformat_minor": 0,
  "metadata": {
    "colab": {
      "provenance": []
    },
    "kernelspec": {
      "name": "python3",
      "display_name": "Python 3"
    },
    "language_info": {
      "name": "python"
    }
  },
  "cells": [
    {
      "cell_type": "code",
      "source": [
        "name = input('Enter your name here:')\n",
        "age = input('Enter your age here:')\n",
        "year = 100 - int(age) +2025\n",
        "print('Hey Mr: ' + name + ' in ' + str(year) +' you will be 100 years old!')"
      ],
      "metadata": {
        "colab": {
          "base_uri": "https://localhost:8080/"
        },
        "id": "yQQza8JPO1Dn",
        "outputId": "7499a8f4-f174-4f8f-96de-c7f33c3e890a"
      },
      "execution_count": null,
      "outputs": [
        {
          "output_type": "stream",
          "name": "stdout",
          "text": [
            "Enter your name here:Bakir\n",
            "Enter your age here:34\n",
            "Hey Mr: Bakir in 2091 you will be 100 years old!\n"
          ]
        }
      ]
    },
    {
      "cell_type": "code",
      "source": [
        "import random\n",
        "rand_num = random.randint(1,9)\n",
        "counter = 0\n",
        "\n",
        "def guss_input():\n",
        "  global counter\n",
        "  rand_guss = int(input('Guss a number between 1 and 9: '))\n",
        "  if rand_num < rand_guss :\n",
        "    print('Too high ')\n",
        "    counter += 1\n",
        "    guss_input()\n",
        "  elif rand_num > rand_guss :\n",
        "    print('Too low ')\n",
        "    counter += 1\n",
        "    guss_input()\n",
        "  else :\n",
        "    print('exactly ')\n",
        "    return 0\n",
        "\n",
        "guss_input()\n",
        "\n",
        "print('You have: ' + str(counter) + ' wrong gusses')\n",
        "\n"
      ],
      "metadata": {
        "colab": {
          "base_uri": "https://localhost:8080/"
        },
        "id": "bKiQSm7ipD9p",
        "outputId": "a0472745-fe0e-4ed3-f640-5a1eab491926"
      },
      "execution_count": null,
      "outputs": [
        {
          "output_type": "stream",
          "name": "stdout",
          "text": [
            "Guss a number between 1 and 9: 7\n",
            "Too high \n",
            "Guss a number between 1 and 9: 5\n",
            "Too high \n",
            "Guss a number between 1 and 9: 3\n",
            "Too high \n",
            "Guss a number between 1 and 9: 1\n",
            "Too low \n",
            "Guss a number between 1 and 9: 2\n",
            "exactly \n",
            "You have: 4 wrong gusses\n"
          ]
        }
      ]
    },
    {
      "cell_type": "code",
      "source": [
        "a = [2, 5, 1, 0, 9, 4]\n",
        "def start_end(x):\n",
        "  r = [x[0], x[-1]]\n",
        "  return r\n",
        "\n",
        "start_end(a)"
      ],
      "metadata": {
        "colab": {
          "base_uri": "https://localhost:8080/"
        },
        "id": "EYnrOSeY0c2G",
        "outputId": "c3a2ddcf-cde2-45b7-8adc-f115c73caae7"
      },
      "execution_count": null,
      "outputs": [
        {
          "output_type": "execute_result",
          "data": {
            "text/plain": [
              "[2, 4]"
            ]
          },
          "metadata": {},
          "execution_count": 58
        }
      ]
    },
    {
      "cell_type": "code",
      "source": [
        "import random\n",
        "# Generates a random number between 0 to 27\n",
        "num = random.randint(0, 26)\n",
        "print(\"Random number is: \", num)\n",
        "\n",
        "\n",
        "sample= \"generatingStringUsingPython\"\n",
        "print(\"Random char from the string is: \", sample[num])"
      ],
      "metadata": {
        "colab": {
          "base_uri": "https://localhost:8080/"
        },
        "id": "yUd7TWG72BID",
        "outputId": "443f0072-8a62-4f8c-a5b9-53e0e80def42"
      },
      "execution_count": null,
      "outputs": [
        {
          "output_type": "stream",
          "name": "stdout",
          "text": [
            "Random number is:  25\n",
            "Random char from the string is:  o\n"
          ]
        }
      ]
    },
    {
      "cell_type": "code",
      "source": [
        "import string\n",
        "import random\n",
        "\n",
        "str_char = string.ascii_letters + string.digits + string.punctuation\n",
        "\n",
        "strong_pass = ''.join(random.choice(str_char) for char in range(10))\n",
        "weak_pass = random.choice(['hello', 'how', 'are', 'you'])\n",
        "\n",
        "def generate_pass():\n",
        "  result = input('what do you want: strong or weak password? ')\n",
        "  if result == 'strong':\n",
        "    return strong_pass\n",
        "  elif result == 'weak':\n",
        "    return weak_pass\n",
        "\n",
        "generate_pass()"
      ],
      "metadata": {
        "colab": {
          "base_uri": "https://localhost:8080/",
          "height": 53
        },
        "id": "vl0133I74rQm",
        "outputId": "93915dfd-90d2-4aa4-e480-477dfb17466f"
      },
      "execution_count": null,
      "outputs": [
        {
          "name": "stdout",
          "output_type": "stream",
          "text": [
            "what do you want: strong or weak password? weak\n"
          ]
        },
        {
          "output_type": "execute_result",
          "data": {
            "text/plain": [
              "'how'"
            ],
            "application/vnd.google.colaboratory.intrinsic+json": {
              "type": "string"
            }
          },
          "metadata": {},
          "execution_count": 8
        }
      ]
    },
    {
      "cell_type": "code",
      "source": [],
      "metadata": {
        "id": "Bfz5PBVJ9Z8f"
      },
      "execution_count": null,
      "outputs": []
    }
  ]
}